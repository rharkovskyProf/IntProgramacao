{
  "nbformat": 4,
  "nbformat_minor": 0,
  "metadata": {
    "colab": {
      "provenance": [],
      "authorship_tag": "ABX9TyPvc9ykxa7XG/A7eJhS4BUW",
      "include_colab_link": true
    },
    "kernelspec": {
      "name": "python3",
      "display_name": "Python 3"
    },
    "language_info": {
      "name": "python"
    }
  },
  "cells": [
    {
      "cell_type": "markdown",
      "metadata": {
        "id": "view-in-github",
        "colab_type": "text"
      },
      "source": [
        "<a href=\"https://colab.research.google.com/github/rharkovskyProf/IntProgramacao/blob/main/BUG.ipynb\" target=\"_parent\"><img src=\"https://colab.research.google.com/assets/colab-badge.svg\" alt=\"Open In Colab\"/></a>"
      ]
    },
    {
      "cell_type": "markdown",
      "source": [
        "# Identificando problemas com o código \n",
        "# Programas com ERRO!!!"
      ],
      "metadata": {
        "id": "8kdEv1RwL82x"
      }
    },
    {
      "cell_type": "markdown",
      "source": [
        "## Onde está o BUG?\n",
        "Quando um programa tm um erro, ele basicamente pode ser dividido em 2 categorias:\n",
        "- Respostas erradas\n",
        "- em loop (nunca termina)"
      ],
      "metadata": {
        "id": "z6MEazieL1v6"
      }
    },
    {
      "cell_type": "markdown",
      "source": [
        "# Programa em Loop\n",
        "O programa abaixo tem um erro, que o mantem no laço do While indefinidamente.\n",
        "Voce é capaz de identificar e corrigir o erro?"
      ],
      "metadata": {
        "id": "nvNAxbY4MPw4"
      }
    },
    {
      "cell_type": "markdown",
      "source": [
        "# Descomente o código e execute"
      ],
      "metadata": {
        "id": "UB8cLO8fOcma"
      }
    },
    {
      "cell_type": "code",
      "source": [
        "#############\n",
        "# programa 1\n",
        "#############\n",
        "#n = 10\n",
        "#i = 10\n",
        "#while i > 0:\n",
        "#  print(i)\n",
        "#if i%2 == 0:\n",
        "#  i= i / 2\n",
        "#else:\n",
        "#  i = i + 1"
      ],
      "metadata": {
        "id": "gwx2xkADOuga"
      },
      "execution_count": 6,
      "outputs": []
    },
    {
      "cell_type": "code",
      "source": [
        "#############\n",
        "# programa 2\n",
        "#############\n",
        "#i = 1\n",
        "#while i > 0:\n",
        "#  print( i)\n",
        "#  i+=1\n"
      ],
      "metadata": {
        "id": "mbtEXMIRMjN2"
      },
      "execution_count": 7,
      "outputs": []
    }
  ]
}