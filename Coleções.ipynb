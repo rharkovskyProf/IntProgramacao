{
  "nbformat": 4,
  "nbformat_minor": 0,
  "metadata": {
    "colab": {
      "provenance": [],
      "authorship_tag": "ABX9TyNqBblNdyhb/b2g22k31cgW",
      "include_colab_link": true
    },
    "kernelspec": {
      "name": "python3",
      "display_name": "Python 3"
    },
    "language_info": {
      "name": "python"
    }
  },
  "cells": [
    {
      "cell_type": "markdown",
      "metadata": {
        "id": "view-in-github",
        "colab_type": "text"
      },
      "source": [
        "<a href=\"https://colab.research.google.com/github/rharkovskyProf/IntProgramacao/blob/main/Cole%C3%A7%C3%B5es.ipynb\" target=\"_parent\"><img src=\"https://colab.research.google.com/assets/colab-badge.svg\" alt=\"Open In Colab\"/></a>"
      ]
    },
    {
      "cell_type": "markdown",
      "source": [
        "# COLEÇÔES"
      ],
      "metadata": {
        "id": "pSvpEbGNrxxN"
      }
    },
    {
      "cell_type": "markdown",
      "source": [
        "## DICIONARIOS"
      ],
      "metadata": {
        "id": "xto8hdL9r0v-"
      }
    },
    {
      "cell_type": "markdown",
      "source": [
        "### EXEMPLOS"
      ],
      "metadata": {
        "id": "Cvmyb9VGB599"
      }
    },
    {
      "cell_type": "code",
      "source": [
        "# criar e imprimir um dicionário\n",
        "notas = {\"Ana\":8,\"Maria\":5,\"Thais\":10, \"Bob\":3.5}\n",
        "print(notas)\n",
        "\n",
        "# acessar valores\n",
        "print(notas[\"Thais\"])\n",
        "print(notas[\"Maria\"])\n",
        "\n",
        "# Listando chaves e valores separadamente\n",
        "print(notas.keys())\n",
        "print(notas.values())\n",
        "print(notas.items())"
      ],
      "metadata": {
        "colab": {
          "base_uri": "https://localhost:8080/"
        },
        "id": "sk6u2ExQCBKH",
        "outputId": "58f0fc5e-08a6-4fa0-933c-4aac692a8673"
      },
      "execution_count": null,
      "outputs": [
        {
          "output_type": "stream",
          "name": "stdout",
          "text": [
            "{'Ana': 8, 'Maria': 5, 'Thais': 10, 'Bob': 3.5}\n",
            "10\n",
            "5\n",
            "dict_keys(['Ana', 'Maria', 'Thais', 'Bob'])\n",
            "dict_values([8, 5, 10, 3.5])\n",
            "dict_items([('Ana', 8), ('Maria', 5), ('Thais', 10), ('Bob', 3.5)])\n"
          ]
        }
      ]
    },
    {
      "cell_type": "code",
      "source": [
        "# incluir novo item chave/valor\n",
        "notas[\"Zaira\"]=9\n",
        "print(notas)\n",
        "\n",
        "# remover item dado a chave\n",
        "del notas[\"Thais\"]\n",
        "print(notas)\n",
        "\n",
        "# checar se notas contém a chave \"Maria\"\n",
        "print(\"Maria\" in notas)"
      ],
      "metadata": {
        "colab": {
          "base_uri": "https://localhost:8080/"
        },
        "id": "mKbf1VYWCk1C",
        "outputId": "0c67bea2-1910-4c86-e597-e1dd0ba72e4b"
      },
      "execution_count": null,
      "outputs": [
        {
          "output_type": "stream",
          "name": "stdout",
          "text": [
            "{'Ana': 8, 'Maria': 5, 'Thais': 10, 'Bob': 3.5, 'Zaira': 9}\n",
            "{'Ana': 8, 'Maria': 5, 'Bob': 3.5, 'Zaira': 9}\n",
            "True\n"
          ]
        }
      ]
    },
    {
      "cell_type": "code",
      "source": [],
      "metadata": {
        "colab": {
          "base_uri": "https://localhost:8080/"
        },
        "id": "io_VAH3jCz-V",
        "outputId": "30cfe82b-8a39-4647-cf29-b25e80f46905"
      },
      "execution_count": null,
      "outputs": [
        {
          "output_type": "stream",
          "name": "stdout",
          "text": [
            "dict_keys(['Ana', 'Maria', 'Bob', 'Zaira'])\n",
            "dict_values([8, 5, 3.5, 9])\n"
          ]
        }
      ]
    },
    {
      "cell_type": "markdown",
      "source": [
        "Faça um Programa que leia um número e exiba o dia correspondente da semana. (1-Domingo, 2- Segunda, .. 7 - Sábado) ou invalido caso outro valor seja entrado"
      ],
      "metadata": {
        "id": "FHuyqGear3Be"
      }
    },
    {
      "cell_type": "code",
      "execution_count": null,
      "metadata": {
        "colab": {
          "base_uri": "https://localhost:8080/"
        },
        "id": "BAc2Facurw93",
        "outputId": "f0839a23-75a5-434d-f474-d8579e94ea59"
      },
      "outputs": [
        {
          "output_type": "stream",
          "name": "stdout",
          "text": [
            "Entre com o valor do dia da semana (1 a 7): 5\n",
            "Quinta\n"
          ]
        }
      ],
      "source": [
        "# Dicionário\n",
        "diaSemana = {1: 'Domingo', 2:'Segunda', 3: 'Terça', 4: 'Quarta', 5: 'Quinta', 6: 'Sexta', 7: 'Sábado'}\n",
        "\n",
        "diaLido = int(input('Entre com o valor do dia da semana (1 a 7): '))\n",
        "if 1 <= diaLido <= 7:\n",
        "  print(diaSemana[diaLido]) # lendo elemento do dicionario\n",
        "else:\n",
        "  print('Valor inválido!!!')"
      ]
    },
    {
      "cell_type": "code",
      "source": [
        "aprovacao = {1:'REPROVADO', 2:'REPROVADO', 3:'REPROVADO',6:'APROVADO', 6:'NAOSEI'}"
      ],
      "metadata": {
        "id": "yinVvGBbRuZN"
      },
      "execution_count": null,
      "outputs": []
    },
    {
      "cell_type": "markdown",
      "source": [
        "### EXERCICIOS"
      ],
      "metadata": {
        "id": "iNZCWZU8B1tP"
      }
    },
    {
      "cell_type": "markdown",
      "source": [
        "Crie um código, utilizando dicionários,  que dado o valor numérico de um mês,  escreva por extenso o seu valor.\n"
      ],
      "metadata": {
        "id": "OUkdJIOiO3rD"
      }
    },
    {
      "cell_type": "code",
      "source": [
        "mes = {1:'janeiro', 2:'fevereiro', 3: 'março', 4: 'abril', 5:'maio', 6:'junho',\n",
        "       7: 'julho', 8:'agosto', 9: 'setembro', 10:'outubro', 11: 'novembro',\n",
        "       12: 'dezembro'}\n",
        "\n",
        "mesLido = int(input('Entre com o valor do dia da semana (1 a 12): '))\n",
        "if 1 <= mesLido <= 12:\n",
        "  print(f'o mes {mesLido} é {mes[mesLido]}') # lendo elemento do dicionario\n",
        "else:\n",
        "  print('Valor inválido!!!')"
      ],
      "metadata": {
        "id": "ew7xN_MhGjyF",
        "colab": {
          "base_uri": "https://localhost:8080/"
        },
        "outputId": "f5c1f93c-86aa-4655-b8f5-72e100dd8d8b"
      },
      "execution_count": 15,
      "outputs": [
        {
          "output_type": "stream",
          "name": "stdout",
          "text": [
            "Entre com o valor do dia da semana (1 a 12): 9\n",
            "o mes 9 é setembro\n"
          ]
        }
      ]
    },
    {
      "cell_type": "markdown",
      "source": [
        "Crie um código, utilizando dicionários,  que dada uma data no formato dd/mm/aaaa escreva,  escreva por extenso o seu valor. (dica: decompor a data usando as funções de strings)"
      ],
      "metadata": {
        "id": "bItFSvG0QKmb"
      }
    },
    {
      "cell_type": "code",
      "source": [
        "mesExt = {1:'janeiro', 2:'fevereiro', 3: 'março', 4: 'abril', 5:'maio', 6:'junho',\n",
        "       7: 'julho', 8:'agosto', 9: 'setembro', 10:'outubro', 11: 'novembro',\n",
        "       12: 'dezembro'}\n",
        "\n",
        "data = input('Entre com a data no formato dd/mm/aaaa: ')\n",
        "\n",
        "dia = data[0:2]\n",
        "mes = int(data[3:5]) # typecast\n",
        "ano = data[6:10]\n",
        "\n",
        "print(f'voce digitou {dia} de {mesExt[mes]} de {ano}')\n"
      ],
      "metadata": {
        "colab": {
          "base_uri": "https://localhost:8080/"
        },
        "id": "TmQYQWs4QQYG",
        "outputId": "be4b515f-a7d7-4fa5-9de0-9ae5e72fd237"
      },
      "execution_count": 22,
      "outputs": [
        {
          "output_type": "stream",
          "name": "stdout",
          "text": [
            "Entre com a data no formato dd/mm/aaaa: 09/05/2024\n",
            "voce digitou 09 de maio de 2024\n"
          ]
        }
      ]
    },
    {
      "cell_type": "markdown",
      "source": [
        "Crie um código, utilizando dicionários que crie um catálogo de endereços que armazene “nome” e “telefone”. (dica: utilize como chave/valor nome/ telefone)\n"
      ],
      "metadata": {
        "id": "yCCmE6gaVqO4"
      }
    },
    {
      "cell_type": "code",
      "source": [
        "catalogo = {}\n",
        "\n",
        "# criando a agenda\n",
        "while True:\n",
        "  nome= input('Entre com o nome: ')\n",
        "  if nome in ('X', 'x', 'S', 's'):\n",
        "    break\n",
        "\n",
        "  telefone = input('Entre com o telefone: ')\n",
        "  catalogo[nome]=telefone\n",
        "\n",
        "print(f'catalogo: {catalogo}')\n",
        "\n",
        "# Consultando a agenda criada\n",
        "while True:\n",
        "  nome= input('Entre com o nome a consultar: ')\n",
        "  if nome in ('X', 'x', 'S', 's'):\n",
        "    break\n",
        "\n",
        "  print(f'o telefone de {nome} é {catalogo[nome]}')"
      ],
      "metadata": {
        "colab": {
          "base_uri": "https://localhost:8080/"
        },
        "id": "q7DgyBWyVu9M",
        "outputId": "8248a34d-88f9-42d4-c6fc-2cc21e830fd6"
      },
      "execution_count": 31,
      "outputs": [
        {
          "name": "stdout",
          "output_type": "stream",
          "text": [
            "Entre com o nome: bob\n",
            "Entre com o telefone: 999126333\n",
            "Entre com o nome: fabio\n",
            "Entre com o telefone: 999640949\n",
            "Entre com o nome: pedro\n",
            "Entre com o telefone: 888888888\n",
            "Entre com o nome: lucas \n",
            "Entre com o telefone: 777777777\n",
            "Entre com o nome: x\n",
            "catalogo: {'bob': '999126333', 'fabio': '999640949', 'pedro': '888888888', 'lucas ': '777777777'}\n",
            "Entre com o nome a consultar: bob\n",
            "o telefone de bob é 999126333\n",
            "Entre com o nome a consultar: pedro\n",
            "o telefone de pedro é 888888888\n",
            "Entre com o nome a consultar: x\n"
          ]
        }
      ]
    },
    {
      "cell_type": "markdown",
      "source": [
        "EXTRA - Tratamento de erros"
      ],
      "metadata": {
        "id": "XyfIwKkKctxI"
      }
    },
    {
      "cell_type": "code",
      "source": [
        "teste = {1:'ok', 2:'ok tambem', 3: 'mais um ok'}\n",
        "print(teste.keys())\n",
        "numInvalida = 0\n",
        "while True:\n",
        "  num=int(input('numero: '))\n",
        "  if num in teste.keys():\n",
        "    print(teste[num])\n",
        "  else:\n",
        "    print('chave invalida!')\n",
        "    numInvalida +=1\n",
        "\n",
        "  if numInvalida >= 3:\n",
        "    print('Voce digitou 3 chaves invalidas e nao merece usar o programa!!')\n",
        "    break"
      ],
      "metadata": {
        "colab": {
          "base_uri": "https://localhost:8080/"
        },
        "id": "M9j209dpZ5Jt",
        "outputId": "8e44f370-ef25-4a84-b391-acf8ef73b22a"
      },
      "execution_count": 40,
      "outputs": [
        {
          "output_type": "stream",
          "name": "stdout",
          "text": [
            "dict_keys([1, 2, 3])\n",
            "numero: 2\n",
            "ok tambem\n",
            "numero: 3\n",
            "mais um ok\n",
            "numero: 7\n",
            "chave invalida!\n",
            "numero: 7\n",
            "chave invalida!\n",
            "numero: 7\n",
            "chave invalida!\n",
            "Voce digitou 3 chaves invalidas e nao merece usar o programa!!\n"
          ]
        }
      ]
    },
    {
      "cell_type": "markdown",
      "source": [
        "Incremente seu código anterior permitindo a inclusão do “e-mail” do contato"
      ],
      "metadata": {
        "id": "bvxcHqTCcxeI"
      }
    },
    {
      "cell_type": "code",
      "source": [
        "# NOVA VERSAO - incluindo o email\n",
        "# chave: [telefone, email]\n",
        "catalogo = {}\n",
        "\n",
        "# criando a agenda\n",
        "while True:\n",
        "  valores = []\n",
        "  nome= input('Entre com o nome: ')\n",
        "  if nome in ('X', 'x', 'S', 's'):\n",
        "    break\n",
        "\n",
        "  telefone = input('Entre com o telefone: ')\n",
        "  valores.append(telefone)\n",
        "  email = input('Entre com o e-mail: ')\n",
        "  valores.append(email)\n",
        "\n",
        "  catalogo[nome]=valores\n",
        "\n",
        "print(f'catalogo: {catalogo}')\n",
        "\n",
        "# Consultando a agenda criada\n",
        "while True:\n",
        "  nome= input('Entre com o nome a consultar: ')\n",
        "  if nome in ('X', 'x', 'S', 's'):\n",
        "    break\n",
        "\n",
        "  print(f'o telefone de {nome} é {catalogo[nome][0]}')\n",
        "  print(f'o email de {nome} é {catalogo[nome][1]}')"
      ],
      "metadata": {
        "colab": {
          "base_uri": "https://localhost:8080/"
        },
        "id": "LRQQVC8fc4fz",
        "outputId": "4af6bf08-bdc9-48bb-980e-cf4b125b02ce"
      },
      "execution_count": 44,
      "outputs": [
        {
          "name": "stdout",
          "output_type": "stream",
          "text": [
            "Entre com o nome: bob\n",
            "Entre com o telefone: 999126333\n",
            "Entre com o e-mail: b@gmail.com\n",
            "Entre com o nome: Fabio\n",
            "Entre com o telefone: 99999999\n",
            "Entre com o e-mail: fabio@gmail\n",
            "Entre com o nome: x\n",
            "catalogo: {'bob': ['999126333', 'b@gmail.com'], 'Fabio': ['99999999', 'fabio@gmail']}\n",
            "Entre com o nome a consultar: bob\n",
            "o telefone de bob é 999126333\n",
            "o email de bob é b@gmail.com\n",
            "Entre com o nome a consultar: x\n"
          ]
        }
      ]
    },
    {
      "cell_type": "markdown",
      "source": [
        "\n",
        "\n",
        "---\n",
        "\n"
      ],
      "metadata": {
        "id": "wuugND_2Se8d"
      }
    },
    {
      "cell_type": "code",
      "source": [
        "numAtletas = 1\n",
        "numNotas = 2\n",
        "resultado ={}\n",
        "\n",
        "for i in range(numAtletas):\n",
        "  atleta = input('nome do atleta: ')\n",
        "  for nota in range(numNotas):\n",
        "    resultado[atleta+ str(nota)] = float(input(f'entre com a {nota} nota'))\n",
        "\n",
        "print(resultado.items())"
      ],
      "metadata": {
        "colab": {
          "base_uri": "https://localhost:8080/"
        },
        "id": "zwpQFyLwBwUZ",
        "outputId": "6758c9e0-fd60-400b-87b6-9005b278e195"
      },
      "execution_count": null,
      "outputs": [
        {
          "output_type": "stream",
          "name": "stdout",
          "text": [
            "nome do atleta: Bob\n",
            "entre com a 0 nota5.5\n",
            "entre com a 1 nota7.8\n",
            "dict_items([('Bob0', 5.5), ('Bob1', 7.8)])\n"
          ]
        }
      ]
    },
    {
      "cell_type": "markdown",
      "source": [
        "## LISTAS"
      ],
      "metadata": {
        "id": "ugKa610ZP3fl"
      }
    },
    {
      "cell_type": "markdown",
      "source": [
        "### EXEMPLOS"
      ],
      "metadata": {
        "id": "Z7uB5QVwXhuU"
      }
    },
    {
      "cell_type": "code",
      "source": [
        "import random\n",
        "l1 = []\n",
        "for i in range(10):  # criando lista aleatoria com 10 elementos\n",
        "  l1.append(random.randint(1,10))\n",
        "print(f'Original {l1}')\n",
        "\n",
        "# Mantendo a lista original\n",
        "print(f'soma = {sum(l1)}')\n",
        "print(f'ordenada = {sorted(l1)}')\n",
        "print(f'lista atual {l1}')\n",
        "\n",
        "# alterando a lista original\n",
        "l1.reverse()\n",
        "print(f'reversa = {l1}')\n",
        "l1.sort()\n",
        "print(f'ordenada = {l1}')"
      ],
      "metadata": {
        "colab": {
          "base_uri": "https://localhost:8080/"
        },
        "id": "_v7MfHTgRgt_",
        "outputId": "fed96c80-32be-4fa5-fca9-007a2b80f8a8"
      },
      "execution_count": null,
      "outputs": [
        {
          "output_type": "stream",
          "name": "stdout",
          "text": [
            "Original [7, 2, 7, 10, 8, 6, 4, 2, 4, 6]\n",
            "soma = 56\n",
            "ordenada = [2, 2, 4, 4, 6, 6, 7, 7, 8, 10]\n",
            "lista atual [7, 2, 7, 10, 8, 6, 4, 2, 4, 6]\n",
            "reversa = [6, 4, 2, 4, 6, 8, 10, 7, 2, 7]\n",
            "ordenada = [2, 2, 4, 4, 6, 6, 7, 7, 8, 10]\n"
          ]
        }
      ]
    },
    {
      "cell_type": "markdown",
      "source": [
        "Faça um Programa que leia um vetor de 10 números reais e mostre-os na ordem\n",
        "inversa."
      ],
      "metadata": {
        "id": "YKaLSHzCbhWG"
      }
    },
    {
      "cell_type": "code",
      "source": [
        "numeros = []\n",
        "for i in range(10):\n",
        "    numeros.append(float(input(f\"Digite o {i+1}º numero real: \")))\n",
        "print(\"Os numeros inversos são: \", end=\"\")\n",
        "for numero in numeros[::-1]:\n",
        "    print(f\" {numero}\", end=\"\")\n"
      ],
      "metadata": {
        "colab": {
          "base_uri": "https://localhost:8080/"
        },
        "id": "g6LacWGDP5mW",
        "outputId": "0fe8fd12-cbfa-42a8-f711-b4b5200d3700"
      },
      "execution_count": null,
      "outputs": [
        {
          "output_type": "stream",
          "name": "stdout",
          "text": [
            "Digite o 1º numero real: 4\n",
            "Digite o 2º numero real: 3\n",
            "Digite o 3º numero real: 6\n",
            "Digite o 4º numero real: 2\n",
            "Digite o 5º numero real: 1\n",
            "Digite o 6º numero real: 9\n",
            "Digite o 7º numero real: 7\n",
            "Digite o 8º numero real: 8\n",
            "Digite o 9º numero real: 10\n",
            "Digite o 10º numero real: 12\n",
            "Os numeros inversos são:  12.0 10.0 8.0 7.0 9.0 1.0 2.0 6.0 3.0 4.0"
          ]
        }
      ]
    },
    {
      "cell_type": "markdown",
      "source": [
        "Faça um Programa que leia 4 notas, mostre as notas e a média na tela."
      ],
      "metadata": {
        "id": "A6PdXk74bdaG"
      }
    },
    {
      "cell_type": "code",
      "source": [
        "notas = []\n",
        "for i in range(4):\n",
        "    notas.append(float(input(f\"Digite a {i+1}ª nota: \")))\n",
        "\n",
        "print(\"Notas digitadas: \")\n",
        "for nota in notas:\n",
        "    print(nota)\n",
        "print(f\"A média das notas é {sum(notas)/4:.2f}.\")"
      ],
      "metadata": {
        "colab": {
          "base_uri": "https://localhost:8080/"
        },
        "id": "tEUN2w_XRDvC",
        "outputId": "acade633-5410-4fc2-ba63-7aacc04a7fc6"
      },
      "execution_count": null,
      "outputs": [
        {
          "output_type": "stream",
          "name": "stdout",
          "text": [
            "Digite a 1ª nota: 8.6\n",
            "Digite a 2ª nota: 7.8\n",
            "Digite a 3ª nota: 10\n",
            "Digite a 4ª nota: 96\n",
            "Notas digitadas: \n",
            "8.6\n",
            "7.8\n",
            "10.0\n",
            "96.0\n",
            "A média das notas é 30.60.\n"
          ]
        }
      ]
    },
    {
      "cell_type": "markdown",
      "source": [
        "Faça um Programa que leia 5 nomes de alunos e suas respectivas 4 notas, mostre o aluno, suas notas e a média na tela.\n"
      ],
      "metadata": {
        "id": "GnbCEG68baG1"
      }
    },
    {
      "cell_type": "code",
      "source": [
        "# a ideia é criar uma lista de alunos e uma lista de lista de notas\n",
        "numeroAlunos=5.\n",
        "numNotas = 4\n",
        "alunos = [] # lista de nome dos alunos\n",
        "notas = [] # listas de notas de todos os alunos\n",
        "\n",
        "for i in range(numeroAlunos):\n",
        "  alunos.append(input(f\"Digite nome do {i+1}o aluno: \"))\n",
        "  notasAluno = [] # reseta lista das notas de um aluno\n",
        "  for j in range(numNotas): # notas\n",
        "    notasAluno.append(float(input(f\"Digite a {j+1}a nota: \")))\n",
        "  notas.append(notasAluno) # carrega lista de notas do aluno i\n",
        "\n",
        "print(alunos)\n",
        "print(notas)\n",
        "\n",
        "for i in range (numeroAlunos):\n",
        "  print(f'\\nAs notas do aluno {alunos[i]} são {notas[i]}')\n",
        "  print(f'A maior nota é {max(notas[i])} e a menor é {min(notas[i])}')\n",
        "  print(f\"A média das notas é {sum(notas[i])/numNotas:.2f}.\\n\")"
      ],
      "metadata": {
        "colab": {
          "base_uri": "https://localhost:8080/"
        },
        "id": "lPJFk9iljvFu",
        "outputId": "e375e1e6-8a13-4aeb-cd2c-68485d5acac1"
      },
      "execution_count": null,
      "outputs": [
        {
          "output_type": "stream",
          "name": "stdout",
          "text": [
            "Digite nome do 1o aluno: Bob\n",
            "Digite a 1a nota: 7\n",
            "Digite a 2a nota: 8\n",
            "Digite a 3a nota: 9\n",
            "Digite a 4a nota: 6\n",
            "Digite nome do 2o aluno: Felipe\n",
            "Digite a 1a nota: 7\n",
            "Digite a 2a nota: 8\n",
            "Digite a 3a nota: 8\n",
            "Digite a 4a nota: 5\n",
            "Digite nome do 3o aluno: Pedro\n",
            "Digite a 1a nota: 7\n",
            "Digite a 2a nota: 8\n",
            "Digite a 3a nota: 9\n",
            "Digite a 4a nota: 10\n",
            "Digite nome do 4o aluno: Bernardo\n",
            "Digite a 1a nota: 8\n",
            "Digite a 2a nota: 9\n",
            "Digite a 3a nota: 10\n",
            "Digite a 4a nota: 6\n",
            "Digite nome do 5o aluno: Raphael\n",
            "Digite a 1a nota: 8\n",
            "Digite a 2a nota: 8\n",
            "Digite a 3a nota: 7\n",
            "Digite a 4a nota: 9\n",
            "['Bob', 'Felipe', 'Pedro', 'Bernardo', 'Raphael']\n",
            "[[7.0, 8.0, 9.0, 6.0], [7.0, 8.0, 8.0, 5.0], [7.0, 8.0, 9.0, 10.0], [8.0, 9.0, 10.0, 6.0], [8.0, 8.0, 7.0, 9.0]]\n",
            "\n",
            "As notas do aluno Bob são [7.0, 8.0, 9.0, 6.0]\n",
            "A maior nota é 9.0 e a menor é 6.0\n",
            "A média das notas é 7.50.\n",
            "\n",
            "\n",
            "As notas do aluno Felipe são [7.0, 8.0, 8.0, 5.0]\n",
            "A maior nota é 8.0 e a menor é 5.0\n",
            "A média das notas é 7.00.\n",
            "\n",
            "\n",
            "As notas do aluno Pedro são [7.0, 8.0, 9.0, 10.0]\n",
            "A maior nota é 10.0 e a menor é 7.0\n",
            "A média das notas é 8.50.\n",
            "\n",
            "\n",
            "As notas do aluno Bernardo são [8.0, 9.0, 10.0, 6.0]\n",
            "A maior nota é 10.0 e a menor é 6.0\n",
            "A média das notas é 8.25.\n",
            "\n",
            "\n",
            "As notas do aluno Raphael são [8.0, 8.0, 7.0, 9.0]\n",
            "A maior nota é 9.0 e a menor é 7.0\n",
            "A média das notas é 8.00.\n",
            "\n"
          ]
        }
      ]
    },
    {
      "cell_type": "code",
      "source": [
        "# uma visao das listas criadas no exemplo anterior\n",
        "print(f'Aunos: {alunos}')\n",
        "print(f'Notas: {notas}')"
      ],
      "metadata": {
        "colab": {
          "base_uri": "https://localhost:8080/"
        },
        "id": "JIOZVf0w7s88",
        "outputId": "dad3e9c3-618b-4715-ea46-da28db681527"
      },
      "execution_count": null,
      "outputs": [
        {
          "output_type": "stream",
          "name": "stdout",
          "text": [
            "Aunos: ['Bob', 'Fabio']\n",
            "Notas: [[10.0, 9.0, 6.0, 5.0], [9.0, 6.0, 8.0, 7.0]]\n"
          ]
        }
      ]
    },
    {
      "cell_type": "code",
      "source": [
        "numeroAlunos=2\n",
        "numNotas = 4\n",
        "alunos = []\n",
        "notas = []\n",
        "for i in range(numeroAlunos):\n",
        "  alunos.append(input(f\"Digite nome do {i+1}o aluno: \"))\n",
        "  for j in range(numNotas): # notas\n",
        "    notas.append(float(input(f\"Digite a {j+1}a nota: \")))\n",
        "\n",
        "print(f\"\\nAlunos lidos: {alunos}\")\n",
        "print(f\"notas lidas: {notas}\\n\")\n",
        "\n",
        "# imprimindo as notas de cada aluno\n",
        "desvio = 0\n",
        "for alunoN in range(numeroAlunos):\n",
        "  nota1 = alunoN*numNotas # 1a nota na lista\n",
        "  print(f\"aluno {alunos[alunoN]} Notas {notas[nota1:nota1+numNotas]}: \") # imprime 1a nota até 4a nota\n",
        "  print(f\"A média das notas é {sum(notas[nota1:nota1+numNotas])/numNotas:.2f}.\\n\")"
      ],
      "metadata": {
        "colab": {
          "base_uri": "https://localhost:8080/"
        },
        "id": "4zzXtIekbbMA",
        "outputId": "ee022271-a920-4a9c-d574-4d333a3d4e80"
      },
      "execution_count": null,
      "outputs": [
        {
          "output_type": "stream",
          "name": "stdout",
          "text": [
            "Digite nome do 1o aluno: Felipe\n",
            "Digite a 1a nota: 10\n",
            "Digite a 2a nota: 7\n",
            "Digite a 3a nota: 6\n",
            "Digite a 4a nota: 8\n",
            "Digite nome do 2o aluno: Fabio\n",
            "Digite a 1a nota: 9\n",
            "Digite a 2a nota: 8\n",
            "Digite a 3a nota: 10\n",
            "Digite a 4a nota: 7\n",
            "\n",
            "Alunos lidos: ['Felipe', 'Fabio']\n",
            "notas lidas: [10.0, 7.0, 6.0, 8.0, 9.0, 8.0, 10.0, 7.0]\n",
            "aluno Felipe Notas [10.0, 7.0, 6.0, 8.0]: \n",
            "A média das notas é 7.75.\n",
            "\n",
            "aluno Fabio Notas [9.0, 8.0, 10.0, 7.0]: \n",
            "A média das notas é 8.50.\n",
            "\n"
          ]
        }
      ]
    },
    {
      "cell_type": "markdown",
      "source": [
        "### EXERCICIOS"
      ],
      "metadata": {
        "id": "8lDCJgwdXchX"
      }
    },
    {
      "cell_type": "markdown",
      "source": [
        "Faça um Programa que leia 20 números inteiros e armazene-os em 3 listas: todos, pares e impares. Imprima as três listas.\n"
      ],
      "metadata": {
        "id": "eCDYsEYzYgQn"
      }
    },
    {
      "cell_type": "code",
      "source": [
        "numeros = 20\n",
        "inteiros = []\n",
        "pares = []\n",
        "impares = []\n",
        "\n",
        "for i in range(numeros):\n",
        "    numero = int(input(\"Digite um inteiro: \"))\n",
        "    inteiros.append(numero)\n",
        "    if numero % 2 == 0:\n",
        "        pares.append(numero)\n",
        "    else:\n",
        "        impares.append(numero)\n",
        "\n",
        "print(f\"\\nInteiros {inteiros}\")\n",
        "print(f\"\\nPares  {pares}\")\n",
        "print(f\"\\nImpares  {impares}\")\n"
      ],
      "metadata": {
        "colab": {
          "base_uri": "https://localhost:8080/"
        },
        "id": "sQ07sDdPYK6D",
        "outputId": "a2b2a6e3-ac40-4f2a-c69b-44c40663c59d"
      },
      "execution_count": null,
      "outputs": [
        {
          "output_type": "stream",
          "name": "stdout",
          "text": [
            "Digite um inteiro: 1\n",
            "Digite um inteiro: 2\n",
            "Digite um inteiro: 3\n",
            "Digite um inteiro: 4\n",
            "Digite um inteiro: 5\n",
            "Digite um inteiro: 6\n",
            "Digite um inteiro: 7\n",
            "Digite um inteiro: 8\n",
            "Digite um inteiro: 9\n",
            "Digite um inteiro: 0\n",
            "\n",
            "Inteiros [1, 2, 3, 4, 5, 6, 7, 8, 9, 0]\n",
            "\n",
            "Pares  [2, 4, 6, 8, 0]\n",
            "\n",
            "Impares  [1, 3, 5, 7, 9]\n"
          ]
        }
      ]
    },
    {
      "cell_type": "markdown",
      "source": [
        "Faça um Programa que crie uma lista de 15 números inteiros aleatórios, mostre a lista original, a soma dos elementos, e o produto dos elementos\n"
      ],
      "metadata": {
        "id": "4tSJ61cDYUuu"
      }
    },
    {
      "cell_type": "code",
      "source": [
        "import random\n",
        "\n",
        "num = 15\n",
        "inteiros = []\n",
        "soma = 0\n",
        "multiplicacao = 1\n",
        "for i in range(num):\n",
        "    numero = random.randint(1,50)\n",
        "    inteiros. append(numero)\n",
        "    # soma += numero\n",
        "    multiplicacao *= numero\n",
        "    inteiros.append(numero)\n",
        "\n",
        "print(f\"\\nNúmeros digitados: {inteiros}\")\n",
        "# print(f\"\\nA soma dos números é {soma}\")\n",
        "print(f\"\\nA soma dos números é {sum(inteiros)}\")\n",
        "print(f\"O maior dos números é {max(inteiros)} e o menor é {min(inteiros)}\")\n",
        "print(f\"A multiplicação dos números é {multiplicacao}\")"
      ],
      "metadata": {
        "colab": {
          "base_uri": "https://localhost:8080/"
        },
        "id": "q7xj0u5dRchm",
        "outputId": "a4bd9558-d29d-476a-ef97-f3fd49f352ca"
      },
      "execution_count": null,
      "outputs": [
        {
          "output_type": "stream",
          "name": "stdout",
          "text": [
            "\n",
            "Números digitados: [46, 46, 9, 9, 23, 23, 10, 10, 20, 20, 13, 13, 13, 13, 13, 13, 7, 7, 50, 50, 24, 24, 37, 37, 40, 40, 26, 26, 15, 15]\n",
            "\n",
            "A soma dos números é 346\n",
            "O maior dos números é 50 e o menor é 7\n",
            "A multiplicação dos números é 20285879350464000000\n"
          ]
        }
      ]
    },
    {
      "cell_type": "markdown",
      "source": [
        "Faça um Programa que peça  idade e  altura de 5 pessoas, armazene cada informação em listas diferentes. Imprima a idade e altura na ordem inversa da ordem lida."
      ],
      "metadata": {
        "id": "yeppHGJ1_NVx"
      }
    },
    {
      "cell_type": "code",
      "source": [
        "import random\n",
        "\n",
        "idade = []\n",
        "altura = []\n",
        "for i in range (5):\n",
        "   idade.append (random.randint(15,80))\n",
        "   altura.append(random.uniform(0.5,2.2))\n",
        "\n",
        "print(idade)\n",
        "idade.reverse()\n",
        "print(idade)\n",
        "\n",
        "print(f'{altura}')\n",
        "altura.reverse()\n",
        "print(f'{altura}')"
      ],
      "metadata": {
        "colab": {
          "base_uri": "https://localhost:8080/"
        },
        "id": "I3Ah0QQf_T3C",
        "outputId": "bff86dcb-a687-48ef-eb2e-6d160d04a04b"
      },
      "execution_count": 13,
      "outputs": [
        {
          "output_type": "stream",
          "name": "stdout",
          "text": [
            "[65, 66, 45, 56, 22]\n",
            "[22, 56, 45, 66, 65]\n",
            "[0.8379858463505641, 1.6473526379002765, 1.7794285261334633, 1.7967457832766296, 1.2686675576189597]\n",
            "[1.2686675576189597, 1.7967457832766296, 1.7794285261334633, 1.6473526379002765, 0.8379858463505641]\n"
          ]
        }
      ]
    },
    {
      "cell_type": "code",
      "source": [
        "notas = [[9.9, 8.0, 6.4, 9.9], [7.3, 8.8, 9.3, 9.8], [6.3, 8.2, 7.7, 7.1], [7.6, 9.9, 8.6, 9.7], [6.8, 7.2, 6.2, 7.2]]"
      ],
      "metadata": {
        "id": "LQyaZK__yfrM"
      },
      "execution_count": null,
      "outputs": []
    },
    {
      "cell_type": "markdown",
      "source": [
        "## TUPLAS"
      ],
      "metadata": {
        "id": "OeE-y5Zq3JAw"
      }
    },
    {
      "cell_type": "markdown",
      "source": [
        "### EXEMPLOS"
      ],
      "metadata": {
        "id": "pXXdXxBZAHha"
      }
    },
    {
      "cell_type": "code",
      "source": [
        "# lista de tuplas de alunos e idade\n",
        "alunos = [(\"Paul\", 19), (\"Ringo\", 21), (\"John\", 18)]\n",
        "for nome_aluno, idade_aluno in alunos:\n",
        "    print(nome_aluno, idade_aluno)"
      ],
      "metadata": {
        "colab": {
          "base_uri": "https://localhost:8080/"
        },
        "id": "U1CWC3v5-KXy",
        "outputId": "2ee5b9f0-bba2-4020-ea81-c85cf3dd9a15"
      },
      "execution_count": null,
      "outputs": [
        {
          "output_type": "stream",
          "name": "stdout",
          "text": [
            "Paul 19\n",
            "Ringo 21\n",
            "John 18\n"
          ]
        }
      ]
    },
    {
      "cell_type": "markdown",
      "source": [
        "Em uma competição de ginástica, cada atleta recebe votos de 3 jurados. A nota final fica sendo a média dos votos. Faça um programa que leia o nome, as notas de cada atleta inscrito (a leitura termina quando nome do atleta é ‘X’) e imprima, na ordem classificatória do 1º ao ultimo colocado, o nome, as notas e a media obtida.\n"
      ],
      "metadata": {
        "id": "IyaVGBPLAPTz"
      }
    },
    {
      "cell_type": "code",
      "source": [
        "registroAtleta = () # tupla com o registro de cada o atleta\n",
        "classificação = [] # lista que guardara os registros dos atletas\n",
        "\n",
        "atleta = input('Atleta: ') # le o 1o atleta\n",
        "while atleta !='X':\n",
        "  nota = [] # lista de notas de 1 atleta\n",
        "  for i in range(3): # le notas\n",
        "    n1 = float(input(f'entre com a {i+1}a nota do atleta {atleta}: '))\n",
        "    nota.append(n1)\n",
        "  media = sum(nota)/3 # calcula media\n",
        "  registroAtleta = (atleta, nota, media) # cria a tupla do atleta\n",
        "\n",
        "  classificação.append(registroAtleta) # salva dados do atleta na lista \"classificação\"\n",
        "\n",
        "  atleta = input('Atleta: ') # le próxima atleta\n",
        "\n",
        "# iterando a saida\n",
        "for nome, notass, mediaAtleta in classificação:\n",
        "  print(f'Atleta {nome}, notas {notass} - media {mediaAtleta}')\n",
        "\n",
        "print(sorted(classificação))"
      ],
      "metadata": {
        "colab": {
          "base_uri": "https://localhost:8080/"
        },
        "id": "i--jkhk9AMIz",
        "outputId": "0da3dc2c-4a36-4b3c-a1cb-85f87f46cbfe"
      },
      "execution_count": null,
      "outputs": [
        {
          "output_type": "stream",
          "name": "stdout",
          "text": [
            "Atleta: fabio\n",
            "entre com a 1a nota do atleta fabio: 10\n",
            "entre com a 2a nota do atleta fabio: 9\n",
            "entre com a 3a nota do atleta fabio: 9.8\n",
            "Atleta: bob\n",
            "entre com a 1a nota do atleta bob: 9\n",
            "entre com a 2a nota do atleta bob: 8\n",
            "entre com a 3a nota do atleta bob: 10\n",
            "Atleta: ale\n",
            "entre com a 1a nota do atleta ale: 9.9\n",
            "entre com a 2a nota do atleta ale: 8.8\n",
            "entre com a 3a nota do atleta ale: 10\n",
            "Atleta: X\n",
            "Atleta fabio, notas [10.0, 9.0, 9.8] - media 9.6\n",
            "Atleta bob, notas [9.0, 8.0, 10.0] - media 9.0\n",
            "Atleta ale, notas [9.9, 8.8, 10.0] - media 9.566666666666668\n",
            "[('ale', [9.9, 8.8, 10.0], 9.566666666666668), ('bob', [9.0, 8.0, 10.0], 9.0), ('fabio', [10.0, 9.0, 9.8], 9.6)]\n"
          ]
        }
      ]
    },
    {
      "cell_type": "markdown",
      "source": [
        "### EXERCICIO"
      ],
      "metadata": {
        "id": "1x5ou1sL3LzP"
      }
    },
    {
      "cell_type": "markdown",
      "source": [
        "Faça uma função “baskara” que calcule e retorne as 2 raízes de uma equação do 2º grau. Leia as raízes em um só comando utilizando tuplas.\n",
        "\n",
        "\n",
        "exemplos:\n",
        "\n",
        "2, -3 e -5 -> raizes = 2.5 e -1\n",
        "\n",
        "1, -2 e -3 -> raizes = 3 e -1\n",
        "\n",
        "9, -12 e + 4 -> raizes iguais 0.67\n",
        "\n",
        "5, 3, e 5 -> raizes complexas"
      ],
      "metadata": {
        "id": "ovYTP59M6Hrj"
      }
    },
    {
      "cell_type": "code",
      "source": [
        "import math\n",
        "def baskara(a,b,c):\n",
        "  delta = b**2 - 4*a*c\n",
        "  if delta >=0:\n",
        "    raiz1 = (-b+math.sqrt(delta))/(2*a) # 2 formas de calcular raiz quadrada\n",
        "    raiz2 = (-b-delta**0.5)/(2*a)\n",
        "    return(raiz1,raiz2)\n",
        "  else:\n",
        "    return('complexo', 'complexo')\n",
        "\n",
        "print('calculo das raizes da equacao Ax2+Bx+C=0')\n",
        "A = int(input('ente com valor de A: '))\n",
        "B = int(input('ente com valor de B: '))\n",
        "C = int(input('ente com valor de C: '))\n",
        "\n",
        "if A != 0:\n",
        "  (r1, r2) = baskara(A, B, C)\n",
        "  print(f'as raizes são {r1:.2f} e {r2:.2f}')\n",
        "else:\n",
        "  print('impossivel calcular')"
      ],
      "metadata": {
        "colab": {
          "base_uri": "https://localhost:8080/"
        },
        "id": "35D2IFTX3PdW",
        "outputId": "11b78b3c-ceea-4924-e9d4-d23ad44ada17"
      },
      "execution_count": null,
      "outputs": [
        {
          "output_type": "stream",
          "name": "stdout",
          "text": [
            "calculo das raizes da equacao Ax2+Bx+C=0\n",
            "ente com valor de A: 9\n",
            "ente com valor de B: -12\n",
            "ente com valor de C: 4\n",
            "as raizes são 0.67 e 0.67\n"
          ]
        }
      ]
    }
  ]
}