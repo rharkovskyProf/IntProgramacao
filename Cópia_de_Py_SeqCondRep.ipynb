{
  "nbformat": 4,
  "nbformat_minor": 0,
  "metadata": {
    "colab": {
      "provenance": [],
      "authorship_tag": "ABX9TyOKZDVeF3pbvD4huGj38uX9",
      "include_colab_link": true
    },
    "kernelspec": {
      "name": "python3",
      "display_name": "Python 3"
    },
    "language_info": {
      "name": "python"
    }
  },
  "cells": [
    {
      "cell_type": "markdown",
      "metadata": {
        "id": "view-in-github",
        "colab_type": "text"
      },
      "source": [
        "<a href=\"https://colab.research.google.com/github/rharkovskyProf/IntProgramacao/blob/main/C%C3%B3pia_de_Py_SeqCondRep.ipynb\" target=\"_parent\"><img src=\"https://colab.research.google.com/assets/colab-badge.svg\" alt=\"Open In Colab\"/></a>"
      ]
    },
    {
      "cell_type": "markdown",
      "source": [
        "# ESTRUTURA SEQUENCIAIS E CONDICIONAIS"
      ],
      "metadata": {
        "id": "9W3nnjuP2XdA"
      }
    },
    {
      "cell_type": "markdown",
      "source": [
        "Faça um programa em Python que solicite que o usuário informe duas notas. Em seguida, o programa deve calcular a média aritmética destas notas e exibir o resultado com 1 casa decimal\n"
      ],
      "metadata": {
        "id": "xFhvZILyvLAq"
      }
    },
    {
      "cell_type": "code",
      "source": [
        "nota1=float(input(\"entre com a 1a nota: \"))\n",
        "nota2=float(input(\"entre com a 2a nota: \"))\n",
        "media = (nota1+nota2)/2\n",
        "print(f\"a media é {media:3.2f}\")"
      ],
      "metadata": {
        "colab": {
          "base_uri": "https://localhost:8080/"
        },
        "id": "7ayjp79fvNmy",
        "outputId": "c7608d90-4cdf-4e51-c323-913113b50a1b"
      },
      "execution_count": null,
      "outputs": [
        {
          "output_type": "stream",
          "name": "stdout",
          "text": [
            "entre com a 1a nota: 6.1\n",
            "entre com a 2a nota: 6.5\n",
            "a media é 6.30\n"
          ]
        }
      ]
    },
    {
      "cell_type": "markdown",
      "source": [
        "Faça um programa em Python que calcule a temperatura em graus Celsius, dado como entrada a temperatura em graus Fahrenheit\n"
      ],
      "metadata": {
        "id": "GYDLZ6hvvy9c"
      }
    },
    {
      "cell_type": "code",
      "source": [
        "tempF=float(input(\"entre com a temperatura em Fahrenheit: \"))\n",
        "tempC = (5/9)*(tempF-32)\n",
        "print(f\"O equivalente em celsius é {tempC:3.2f}\")"
      ],
      "metadata": {
        "colab": {
          "base_uri": "https://localhost:8080/"
        },
        "id": "CQiZ9W4NvySM",
        "outputId": "073847a0-f769-4841-8a9f-8087435340c0"
      },
      "execution_count": null,
      "outputs": [
        {
          "output_type": "stream",
          "name": "stdout",
          "text": [
            "entre com a temperatura em Fahrenheit: 100\n",
            "O equivalente em celsius é 37.78\n"
          ]
        }
      ]
    },
    {
      "cell_type": "markdown",
      "source": [
        "Faça um programa que leia o valor dos catetos a e b de um triangulo retângulo e calcule sua área e a hipotenusa c\n"
      ],
      "metadata": {
        "id": "Ix49EeUWv5Af"
      }
    },
    {
      "cell_type": "code",
      "source": [
        "cateto1=float(input(\"Entre com o 1o cateto: \"))\n",
        "cateto2=float(input(\"Entre com o 2o cateto: \"))\n",
        "area=(cateto1*cateto2)/2\n",
        "hipotenusa=(cateto1**2+cateto2**2)**0.5\n",
        "print(f\"a area é {area}\")\n",
        "print(f\"a hipotenusa é {hipotenusa}\")"
      ],
      "metadata": {
        "colab": {
          "base_uri": "https://localhost:8080/"
        },
        "id": "5pYdeadOv9Wy",
        "outputId": "84e32699-3ecf-4a59-921f-e431df6fd424"
      },
      "execution_count": null,
      "outputs": [
        {
          "output_type": "stream",
          "name": "stdout",
          "text": [
            "Entre com o 1o cateto: 3\n",
            "Entre com o 2o cateto: 4\n",
            "a area é 6.0\n",
            "a hipotenusa é 5.0\n"
          ]
        }
      ]
    },
    {
      "cell_type": "markdown",
      "source": [
        "Escreva um programa em Python que leia um número inteiro e informe se o número é par ou ímpar."
      ],
      "metadata": {
        "id": "kRz3Eje_Endg"
      }
    },
    {
      "cell_type": "code",
      "source": [
        "numero = int(input(\"Digite um número inteiro: \"))\n",
        "if numero % 2 == 0:\n",
        "  print(\"O número é par.\")\n",
        "else:\n",
        "  print(\"O número é ímpar.\")\n"
      ],
      "metadata": {
        "id": "EYvJPWaqEvsA"
      },
      "execution_count": null,
      "outputs": []
    },
    {
      "cell_type": "markdown",
      "source": [
        "Escreva um programa em Python que leia dois números inteiros e informe a relação entre eles: se são iguais, se o primeiro é maior do que o segundo ou se o segundo é maior do que o primeiro."
      ],
      "metadata": {
        "id": "RzV1AF7JFBU9"
      }
    },
    {
      "cell_type": "code",
      "source": [
        "num1 = int(input(\"Digite o primeiro número inteiro: \"))\n",
        "num2 = int(input(\"Digite o segundo número inteiro: \"))\n",
        "\n",
        "if num1 == num2:\n",
        "  print(\"Os números são iguais.\")\n",
        "elif num1 > num2:\n",
        "  print(\"O primeiro número é maior que o segundo.\")\n",
        "else:\n",
        "  print(\"O segundo número é maior que o primeiro.\")"
      ],
      "metadata": {
        "id": "Hljg-RzIFT47"
      },
      "execution_count": null,
      "outputs": []
    },
    {
      "cell_type": "markdown",
      "source": [
        "Escreva um programa em Python que leia um número inteiro e informe se ele é divisível por 2, por 3 ou por 6 (divisível por 2 e 3)."
      ],
      "metadata": {
        "id": "RJviUHduFXS7"
      }
    },
    {
      "cell_type": "code",
      "source": [
        "numero = int(input(\"Digite um número inteiro: \"))\n",
        "\n",
        "if numero % 2 == 0:\n",
        "  print(\"O número é divisível por 2.\")\n",
        "if numero % 3 == 0:\n",
        "  print(\"O número é divisível por 3.\")\n",
        "if numero % 6 == 0:\n",
        "  print(\"O número é divisível por 6.\")\n"
      ],
      "metadata": {
        "id": "17uOVKR6Fblr",
        "outputId": "20935bbb-c496-4df2-e158-419df031fdc7",
        "colab": {
          "base_uri": "https://localhost:8080/"
        }
      },
      "execution_count": null,
      "outputs": [
        {
          "output_type": "stream",
          "name": "stdout",
          "text": [
            "Digite um número inteiro: 36\n",
            "O número é divisível por 2.\n",
            "O número é divisível por 3.\n",
            "O número é divisível por 6.\n"
          ]
        }
      ]
    }
  ]
}