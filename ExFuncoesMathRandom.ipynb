{
  "nbformat": 4,
  "nbformat_minor": 0,
  "metadata": {
    "colab": {
      "provenance": [],
      "authorship_tag": "ABX9TyPyR98D6ZUV2bl1TY6pJz+x",
      "include_colab_link": true
    },
    "kernelspec": {
      "name": "python3",
      "display_name": "Python 3"
    },
    "language_info": {
      "name": "python"
    }
  },
  "cells": [
    {
      "cell_type": "markdown",
      "metadata": {
        "id": "view-in-github",
        "colab_type": "text"
      },
      "source": [
        "<a href=\"https://colab.research.google.com/github/rharkovskyProf/IntProgramacao/blob/main/ExFuncoesMathRandom.ipynb\" target=\"_parent\"><img src=\"https://colab.research.google.com/assets/colab-badge.svg\" alt=\"Open In Colab\"/></a>"
      ]
    },
    {
      "cell_type": "code",
      "execution_count": 2,
      "metadata": {
        "colab": {
          "base_uri": "https://localhost:8080/"
        },
        "id": "0Ru6h9g8Eh6h",
        "outputId": "c5d9176e-fc61-4d74-e31e-68f463ee22ad"
      },
      "outputs": [
        {
          "output_type": "stream",
          "name": "stdout",
          "text": [
            "o quadrado de 3 é 9\n"
          ]
        }
      ],
      "source": [
        "print(f'o quadrado de 3 é {pow(3,2)}')"
      ]
    },
    {
      "cell_type": "code",
      "source": [
        "a = int(input(\"entre com a base: \"))\n",
        "b = int(input(\"entre com expoente: \"))\n",
        "print(f'{a} elevado a {b} é {pow(a,b)}')"
      ],
      "metadata": {
        "colab": {
          "base_uri": "https://localhost:8080/"
        },
        "id": "ZfsU9JpfExBF",
        "outputId": "07b80656-2937-4007-ae8e-0e03057c4cfd"
      },
      "execution_count": 4,
      "outputs": [
        {
          "output_type": "stream",
          "name": "stdout",
          "text": [
            "entre com a base: 5\n",
            "entre com expoente: 4\n",
            "5 elevado a 4 é 625\n"
          ]
        }
      ]
    },
    {
      "cell_type": "code",
      "source": [
        "nome = 'Aula de Python é legal!!!'\n",
        "\n",
        "print(f'O tamanho da string \"{nome}\" é {len(nome)}')"
      ],
      "metadata": {
        "colab": {
          "base_uri": "https://localhost:8080/"
        },
        "id": "w8g-vGeKFYDB",
        "outputId": "be215d5f-dbd4-4e10-acb2-18c53028436a"
      },
      "execution_count": 6,
      "outputs": [
        {
          "output_type": "stream",
          "name": "stdout",
          "text": [
            "O tamanho da string \"Aula de Python é legal!!!\" é 25\n"
          ]
        }
      ]
    },
    {
      "cell_type": "markdown",
      "source": [
        "Usando MATH"
      ],
      "metadata": {
        "id": "wg12YvtjF8Ex"
      }
    },
    {
      "cell_type": "code",
      "source": [
        "import math\n",
        "\n",
        "# Calculando area de circulo dado seu raio\n",
        "raio = float(input(\"Ente com o raio: \"))\n",
        "area = math.pi * pow(raio,2)\n",
        "print(f'A area do circulo de raio {raio} é {area}')\n"
      ],
      "metadata": {
        "colab": {
          "base_uri": "https://localhost:8080/"
        },
        "id": "1eyLtKBvGACw",
        "outputId": "1d216f6d-8213-427a-c58d-030bef415ab4"
      },
      "execution_count": 7,
      "outputs": [
        {
          "output_type": "stream",
          "name": "stdout",
          "text": [
            "Ente com o raio: 1\n",
            "A area do circulo de raio 1.0 é 3.141592653589793\n"
          ]
        }
      ]
    },
    {
      "cell_type": "code",
      "source": [
        "import math\n",
        "num = float(input(\"Entre com numero: \"))\n",
        "print(f'A raiz quadrada de {num} é {math.sqrt(num)}')\n",
        "\n",
        "num1 = int(input(\"Entre com numero: \"))\n",
        "fat = math.factorial(num1)\n",
        "print(f'o fatorial de {num} é {fat}')"
      ],
      "metadata": {
        "colab": {
          "base_uri": "https://localhost:8080/"
        },
        "id": "nPjURtojGwED",
        "outputId": "b3ac66a4-265c-4fd8-bba6-50cb84140222"
      },
      "execution_count": 14,
      "outputs": [
        {
          "output_type": "stream",
          "name": "stdout",
          "text": [
            "Entre com numero: 144\n",
            "A raiz quadrada de 144.0 é 12.0\n",
            "Entre com numero: 11\n",
            "o fatorial de 144.0 é 39916800\n"
          ]
        }
      ]
    },
    {
      "cell_type": "markdown",
      "source": [
        "RANDOM"
      ],
      "metadata": {
        "id": "uquPF0CuJKSA"
      }
    },
    {
      "cell_type": "code",
      "source": [
        "#Exemplo 1 – imprimir um numero aleatório entre 3 e 9\n",
        "import random\n",
        "print(random.randint(1, 9))\n",
        "\n",
        "#Exemplo 2 – imprimir um numero aleatório entre 0.0 e 1.0\n",
        "#import random\n",
        "print(random.random())\n",
        "\n",
        "#import random\n",
        "mylist = [\"maçã\", \"banana\", \"cereja\", \"Abacate\", \"abacaxi\"]\n",
        "print(random.choice(mylist))\n"
      ],
      "metadata": {
        "colab": {
          "base_uri": "https://localhost:8080/"
        },
        "id": "Jkvj9WytJLbs",
        "outputId": "de366674-5c83-4f17-f7f7-16853ce8b15f"
      },
      "execution_count": 56,
      "outputs": [
        {
          "output_type": "stream",
          "name": "stdout",
          "text": [
            "5\n",
            "0.6870298622031888\n",
            "cereja\n"
          ]
        }
      ]
    },
    {
      "cell_type": "code",
      "source": [
        "#import random\n",
        "mylist = [\"maçã\", \"banana\", \"cereja\", \"Abacate\", \"abacaxi\"]\n",
        "palavra = random.choice(mylist)\n",
        "print(f'a palavra é {palavra}')\n",
        "tracos = '_ ' * len(palavra)\n",
        "# while True:\n",
        "#   print(tracos)\n",
        "#   letra = input('entre com uma letra: ')\n",
        "#   for i in range (len(palavra)):\n",
        "#     if letra == palavra[i]:\n",
        "#       tracos[i] = letra\n",
        "\n",
        "\n",
        "\n",
        "\n",
        "# print(f'Existem {palavra.count(letra)} letras {letra} no segredo')"
      ],
      "metadata": {
        "colab": {
          "base_uri": "https://localhost:8080/"
        },
        "id": "SdqDPexSKikx",
        "outputId": "56315034-a640-4168-bae5-6a733dabf0c5"
      },
      "execution_count": 65,
      "outputs": [
        {
          "output_type": "stream",
          "name": "stdout",
          "text": [
            "a palavra é maçã\n",
            "Existem 1 letras a no segredo\n"
          ]
        }
      ]
    },
    {
      "cell_type": "code",
      "source": [
        "#Exemplo 4 – Embaralhe uma lista (reorganize a ordem dos itens da lista)\n",
        "import random\n",
        "mylist = [\"maçã\", \"banana\", \"cereja\", \"Abacate\", \"abacaxi\"]\n",
        "random.shuffle(mylist)\n",
        "print(mylist)\n"
      ],
      "metadata": {
        "colab": {
          "base_uri": "https://localhost:8080/"
        },
        "id": "Q82aahGCNLux",
        "outputId": "11b33621-4a35-48db-cfa0-f44204f1557d"
      },
      "execution_count": 71,
      "outputs": [
        {
          "output_type": "stream",
          "name": "stdout",
          "text": [
            "['abacaxi', 'banana', 'cereja', 'Abacate', 'maçã']\n"
          ]
        }
      ]
    }
  ]
}