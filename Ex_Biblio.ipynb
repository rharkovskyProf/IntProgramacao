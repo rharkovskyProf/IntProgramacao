{
  "nbformat": 4,
  "nbformat_minor": 0,
  "metadata": {
    "colab": {
      "provenance": [],
      "authorship_tag": "ABX9TyNV+00ppXwlAsll0hlgMPdh",
      "include_colab_link": true
    },
    "kernelspec": {
      "name": "python3",
      "display_name": "Python 3"
    },
    "language_info": {
      "name": "python"
    }
  },
  "cells": [
    {
      "cell_type": "markdown",
      "metadata": {
        "id": "view-in-github",
        "colab_type": "text"
      },
      "source": [
        "<a href=\"https://colab.research.google.com/github/rharkovskyProf/IntProgramacao/blob/main/Ex_Biblio.ipynb\" target=\"_parent\"><img src=\"https://colab.research.google.com/assets/colab-badge.svg\" alt=\"Open In Colab\"/></a>"
      ]
    },
    {
      "cell_type": "code",
      "execution_count": null,
      "metadata": {
        "colab": {
          "base_uri": "https://localhost:8080/"
        },
        "id": "3Rgf6hkOT9gV",
        "outputId": "6ab8b3b0-d96b-4a67-a70f-d63a4086be92"
      },
      "outputs": [
        {
          "output_type": "stream",
          "name": "stdout",
          "text": [
            "3.141592653589793\n"
          ]
        }
      ],
      "source": [
        "import math\n",
        "\n",
        "print(math.pi)"
      ]
    },
    {
      "cell_type": "code",
      "source": [
        "# fatorial\n",
        "\n",
        "import math\n",
        "\n",
        "num =int(input('Entre com numero: '))\n",
        "\n",
        "print(f'O fatorial de {num} é {math.factorial(num)}')"
      ],
      "metadata": {
        "colab": {
          "base_uri": "https://localhost:8080/"
        },
        "id": "m5RE1bkdUK0L",
        "outputId": "83a8102d-e3a9-408d-ee49-7b8cea4a05b1"
      },
      "execution_count": null,
      "outputs": [
        {
          "output_type": "stream",
          "name": "stdout",
          "text": [
            "Entre com numero: 4\n",
            "O fatorial de 4 é 24\n"
          ]
        }
      ]
    },
    {
      "cell_type": "code",
      "source": [
        "import random\n",
        "\n",
        "# imprimir um numero aleatorio entre 1 e 100\n",
        "for i in range(5):\n",
        "  print(random.randint(1, 10))\n",
        "\n",
        "for i in range(5):\n",
        "  print(random.random())"
      ],
      "metadata": {
        "colab": {
          "base_uri": "https://localhost:8080/"
        },
        "id": "xLksJRS_UnYO",
        "outputId": "47de9996-ab75-454a-8ae4-dd3a6a048404"
      },
      "execution_count": null,
      "outputs": [
        {
          "output_type": "stream",
          "name": "stdout",
          "text": [
            "1\n",
            "5\n",
            "10\n",
            "2\n",
            "3\n",
            "0.6625045544912036\n",
            "0.3516176411031624\n",
            "0.22766696348333415\n",
            "0.3335094534835622\n",
            "0.3024978454542454\n"
          ]
        }
      ]
    },
    {
      "cell_type": "code",
      "source": [
        "import random\n",
        "\n",
        "mylist = [\"maçã\", \"banana\", \"cereja\"]\n",
        "for i in range(5):\n",
        "  print(random.choice(mylist))"
      ],
      "metadata": {
        "colab": {
          "base_uri": "https://localhost:8080/"
        },
        "id": "jTOIG89wVTAf",
        "outputId": "8002f1c8-01ad-4dbe-9e57-def9b621628b"
      },
      "execution_count": null,
      "outputs": [
        {
          "output_type": "stream",
          "name": "stdout",
          "text": [
            "maçã\n",
            "maçã\n",
            "cereja\n",
            "maçã\n",
            "cereja\n"
          ]
        }
      ]
    },
    {
      "cell_type": "code",
      "source": [
        "import random\n",
        "\n",
        "mylist = [\"maçã\", \"banana\", \"cereja\"]\n",
        "random.shuffle(mylist)\n",
        "print(mylist)"
      ],
      "metadata": {
        "colab": {
          "base_uri": "https://localhost:8080/"
        },
        "id": "2lbi_plSVzHQ",
        "outputId": "e4e084d5-8d38-4019-d216-f10765d608c7"
      },
      "execution_count": null,
      "outputs": [
        {
          "output_type": "stream",
          "name": "stdout",
          "text": [
            "['banana', 'cereja', 'maçã']\n"
          ]
        }
      ]
    }
  ]
}