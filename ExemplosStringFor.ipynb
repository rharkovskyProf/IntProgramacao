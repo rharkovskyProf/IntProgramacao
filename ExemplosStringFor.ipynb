{
  "nbformat": 4,
  "nbformat_minor": 0,
  "metadata": {
    "colab": {
      "provenance": [],
      "authorship_tag": "ABX9TyOweL7gmh1b00VaYwTjrGdv",
      "include_colab_link": true
    },
    "kernelspec": {
      "name": "python3",
      "display_name": "Python 3"
    },
    "language_info": {
      "name": "python"
    }
  },
  "cells": [
    {
      "cell_type": "markdown",
      "metadata": {
        "id": "view-in-github",
        "colab_type": "text"
      },
      "source": [
        "<a href=\"https://colab.research.google.com/github/rharkovskyProf/IntProgramacao/blob/main/ExemplosStringFor.ipynb\" target=\"_parent\"><img src=\"https://colab.research.google.com/assets/colab-badge.svg\" alt=\"Open In Colab\"/></a>"
      ]
    },
    {
      "cell_type": "code",
      "execution_count": 6,
      "metadata": {
        "colab": {
          "base_uri": "https://localhost:8080/"
        },
        "id": "ZHo7rrhN5mFi",
        "outputId": "1360de01-2934-467a-f20e-81111211e789"
      },
      "outputs": [
        {
          "output_type": "stream",
          "name": "stdout",
          "text": [
            "Bom dia amiguinhos!!!!\n"
          ]
        }
      ],
      "source": [
        "st1 = 'Bom dia '\n",
        "st2 = 'amiguinhos!!!!'\n",
        "st3 = st1 + st2\n",
        "print(st3)"
      ]
    },
    {
      "cell_type": "code",
      "source": [
        "print(f'O tamanho da string st3 é {len(st3)} caracteres')\n",
        "\n",
        "print(f'{st3[0:3]}')"
      ],
      "metadata": {
        "colab": {
          "base_uri": "https://localhost:8080/"
        },
        "id": "rLqr4t0N6JNp",
        "outputId": "57d68878-a54c-4b9c-82eb-66bb2fb7274d"
      },
      "execution_count": 11,
      "outputs": [
        {
          "output_type": "stream",
          "name": "stdout",
          "text": [
            "O tamanho da string st3 é 22 caracteres\n",
            "Bom\n"
          ]
        }
      ]
    },
    {
      "cell_type": "code",
      "source": [
        "st4 =' A aula de Introdução a Programação é LEGAL'\n",
        "print(f'Original: {st4}')\n",
        "print(f'Versão minuscula: {st4.lower()}')\n",
        "print(f'Versão maiuscula: {st4.upper()}')"
      ],
      "metadata": {
        "colab": {
          "base_uri": "https://localhost:8080/"
        },
        "id": "wSeM4yFh-AO0",
        "outputId": "1f9165dd-dfad-43ea-91a5-9d459a81febd"
      },
      "execution_count": 14,
      "outputs": [
        {
          "output_type": "stream",
          "name": "stdout",
          "text": [
            "Original:  A aula de Introdução a Programação é LEGAL\n",
            "Versão minuscula:  a aula de introdução a programação é legal\n",
            "Versão maiuscula:  A AULA DE INTRODUÇÃO A PROGRAMAÇÃO É LEGAL\n"
          ]
        }
      ]
    },
    {
      "cell_type": "code",
      "source": [
        "st5 = '1Bem-vindos a Introdução a Programação'\n",
        "\n",
        "print(st5.startswith('1Bem-vindos'))\n",
        "print(st5.count('ção'))\n",
        "print(st5[0].isalpha())\n",
        "print(st5[0].isdigit())"
      ],
      "metadata": {
        "colab": {
          "base_uri": "https://localhost:8080/"
        },
        "id": "JIiZzwxjAxiz",
        "outputId": "39fbe249-b3f7-4ff8-bda7-7890a4a27eb7"
      },
      "execution_count": 24,
      "outputs": [
        {
          "output_type": "stream",
          "name": "stdout",
          "text": [
            "False\n",
            "2\n",
            "False\n",
            "True\n"
          ]
        }
      ]
    },
    {
      "cell_type": "code",
      "source": [
        "for cont in range(1,11):\n",
        "  print(cont)"
      ],
      "metadata": {
        "colab": {
          "base_uri": "https://localhost:8080/"
        },
        "id": "_SCpTeYGJlWu",
        "outputId": "311e6170-86e0-478f-e63a-e8a85a5c0b5f"
      },
      "execution_count": 26,
      "outputs": [
        {
          "output_type": "stream",
          "name": "stdout",
          "text": [
            "1\n",
            "2\n",
            "3\n",
            "4\n",
            "5\n",
            "6\n",
            "7\n",
            "8\n",
            "9\n",
            "10\n"
          ]
        }
      ]
    },
    {
      "cell_type": "code",
      "source": [
        "for i in range(11):\n",
        "  if i % 2 ==0:\n",
        "    print(f\"o numero {i} é par\")\n",
        "  else:\n",
        "    print(f\"o numero {i} é impar\")\n"
      ],
      "metadata": {
        "colab": {
          "base_uri": "https://localhost:8080/"
        },
        "id": "fVVyuTzIKt19",
        "outputId": "e47799fe-c210-4e9f-8e0f-69abe39c4c04"
      },
      "execution_count": 35,
      "outputs": [
        {
          "output_type": "stream",
          "name": "stdout",
          "text": [
            "o numero 0 é par\n",
            "o numero 1 é impar\n",
            "o numero 2 é par\n",
            "o numero 3 é impar\n",
            "o numero 4 é par\n",
            "o numero 5 é impar\n",
            "o numero 6 é par\n",
            "o numero 7 é impar\n",
            "o numero 8 é par\n",
            "o numero 9 é impar\n",
            "o numero 10 é par\n"
          ]
        }
      ]
    },
    {
      "cell_type": "code",
      "source": [
        "for i in range(2,20,3):\n",
        "  print(i)"
      ],
      "metadata": {
        "colab": {
          "base_uri": "https://localhost:8080/"
        },
        "id": "bL4zjrKrK9Ge",
        "outputId": "30b22db7-6a2f-4e5d-b82a-6f87633b9752"
      },
      "execution_count": 32,
      "outputs": [
        {
          "output_type": "stream",
          "name": "stdout",
          "text": [
            "2\n",
            "5\n",
            "8\n",
            "11\n",
            "14\n",
            "17\n"
          ]
        }
      ]
    },
    {
      "cell_type": "code",
      "source": [
        "frutas=[\"banana\", \"pera\", \"maça\", \"abacate\", \"abacaxi\"]\n",
        "for fruit in frutas:\n",
        "  if fruit[0]=='a':\n",
        "    print(f\"{fruit} começa com a\")\n",
        "  else:\n",
        "    print(f\"{fruit} NAO começa com a\")\n"
      ],
      "metadata": {
        "colab": {
          "base_uri": "https://localhost:8080/"
        },
        "id": "tFSOZxa_J6Ew",
        "outputId": "2414b0bd-fb42-4c02-8792-51d9755d8456"
      },
      "execution_count": 38,
      "outputs": [
        {
          "output_type": "stream",
          "name": "stdout",
          "text": [
            "banana NAO começa com a\n",
            "pera NAO começa com a\n",
            "maça NAO começa com a\n",
            "abacate começa com a\n",
            "abacaxi começa com a\n"
          ]
        }
      ]
    },
    {
      "cell_type": "code",
      "source": [
        "# calculado media de 5 alunos\n",
        "for cont in range(6):\n",
        "  aluno = input(\"entra com o nome do aluno: \")\n",
        "  n1 = float(input(\"entre com a 1a nota: \"))\n",
        "  n2 = float(input(\"entre com a 2a nota: \"))\n",
        "  media = (n1 + n2) /2\n",
        "  print(f\" O aluno {aluno} teve media {media}\")\n",
        "\n",
        "print(\"FIM DO PROGRAMA\")\n"
      ],
      "metadata": {
        "colab": {
          "base_uri": "https://localhost:8080/"
        },
        "id": "Qj1d8V9WMi6b",
        "outputId": "0bc411c1-2b97-4b6d-af94-38010192fcb3"
      },
      "execution_count": 39,
      "outputs": [
        {
          "output_type": "stream",
          "name": "stdout",
          "text": [
            "entra com o nome do aluno: Roberto\n",
            "entre com a 1a nota: 7.6\n",
            "entre com a 2a nota: 9.6\n",
            " O aluno Roberto teve media 8.6\n",
            "entra com o nome do aluno: Raplh\n",
            "entre com a 1a nota: 10\n",
            "entre com a 2a nota: 9.6\n",
            " O aluno Raplh teve media 9.8\n",
            "entra com o nome do aluno: Lais\n",
            "entre com a 1a nota: 6.9\n",
            "entre com a 2a nota: 10\n",
            " O aluno Lais teve media 8.45\n",
            "entra com o nome do aluno: Fabio\n",
            "entre com a 1a nota: 6\n",
            "entre com a 2a nota: 8\n",
            " O aluno Fabio teve media 7.0\n",
            "entra com o nome do aluno: Felpe\n",
            "entre com a 1a nota: 8\n",
            "entre com a 2a nota: 5.5\n",
            " O aluno Felpe teve media 6.75\n",
            "entra com o nome do aluno: Rodrigo\n",
            "entre com a 1a nota: 6.7\n",
            "entre com a 2a nota: 9\n",
            " O aluno Rodrigo teve media 7.85\n",
            "FIM DO PROGRAMA\n"
          ]
        }
      ]
    },
    {
      "cell_type": "code",
      "source": [
        "texto = input(\"Entre com um texto: \")\n",
        "\n",
        "print(f'A quantidade do caater {texto[0]} é {texto.count(texto[0])}')"
      ],
      "metadata": {
        "colab": {
          "base_uri": "https://localhost:8080/"
        },
        "id": "Lp1RqvT5U7oF",
        "outputId": "a8c6d4c2-b541-4f7a-8000-07b7b6b5514c"
      },
      "execution_count": 44,
      "outputs": [
        {
          "output_type": "stream",
          "name": "stdout",
          "text": [
            "Entre com um texto: la aula e legal\n",
            "A quantidade do caater l é 4\n"
          ]
        }
      ]
    }
  ]
}