{
  "nbformat": 4,
  "nbformat_minor": 0,
  "metadata": {
    "colab": {
      "provenance": [],
      "authorship_tag": "ABX9TyO/2uDUs3jvkmkwe4H3KGz2",
      "include_colab_link": true
    },
    "kernelspec": {
      "name": "python3",
      "display_name": "Python 3"
    },
    "language_info": {
      "name": "python"
    }
  },
  "cells": [
    {
      "cell_type": "markdown",
      "metadata": {
        "id": "view-in-github",
        "colab_type": "text"
      },
      "source": [
        "<a href=\"https://colab.research.google.com/github/rharkovskyProf/IntProgramacao/blob/main/ExercicioOOP.ipynb\" target=\"_parent\"><img src=\"https://colab.research.google.com/assets/colab-badge.svg\" alt=\"Open In Colab\"/></a>"
      ]
    },
    {
      "cell_type": "markdown",
      "source": [
        "# Agora é com Voces"
      ],
      "metadata": {
        "id": "xDb_ZT2APpP9"
      }
    },
    {
      "cell_type": "markdown",
      "source": [
        "## 1. Escreva um programa Python para criar uma classe de calculadora. Incluir métodos para operações aritméticas básicas."
      ],
      "metadata": {
        "id": "d-k48NCFPMoo"
      }
    },
    {
      "cell_type": "code",
      "execution_count": null,
      "metadata": {
        "colab": {
          "base_uri": "https://localhost:8080/"
        },
        "id": "D2-1hkNEPIkW",
        "outputId": "c0510a9c-4f86-46d8-ecbb-2506dc87d66f"
      },
      "outputs": [
        {
          "output_type": "stream",
          "name": "stdout",
          "text": [
            "7 + 5 = 12\n",
            "34 - 21 = 13\n",
            "54 * 2 = 108\n",
            "144/2 = 72.0\n",
            "45/0 = Não é possível dividir por zero.\n"
          ]
        }
      ],
      "source": [
        "# Define uma classe chamada Calculadora para realizar operações aritméticas básicas\n",
        "class Calculadora:\n",
        "     # Define um método de adição que receba dois argumentos e retorne sua soma\n",
        "     def adicionar(self, x, y):\n",
        "         return x + y\n",
        "\n",
        "     # Define um método para subtração que receba dois argumentos e retorne sua diferença\n",
        "     def subtrair(self, x, y):\n",
        "         return x - y\n",
        "\n",
        "     # Define um método de multiplicação que receba dois argumentos e retorne seu produto\n",
        "     def multiplicar(self, x, y):\n",
        "         return x * y\n",
        "\n",
        "     # Define um método de divisão que receba dois argumentos e retorne o resultado se o denominador não for zero,\n",
        "     # ou uma mensagem de erro se o denominador for zero\n",
        "     def dividir(self, x, y):\n",
        "         if y != 0:\n",
        "             return x/y\n",
        "         else:\n",
        "             return (\"Não é possível dividir por zero.\")\n",
        "\n",
        "#Criando uma instância da classe Calculadora\n",
        "calculadora = Calculadora()\n",
        "\n",
        "# Realize a adição e imprima o resultado\n",
        "resultado = calculadora.adicionar(7, 5)\n",
        "print(\"7 + 5 =\", resultado)\n",
        "\n",
        "# Realize a subtração e imprima o resultado\n",
        "resultado = calculadora.subtrair(34, 21)\n",
        "print(\"34 - 21 =\", resultado)\n",
        "\n",
        "# Faça a multiplicação e imprima o resultado\n",
        "resultado = calculadora.multiplicar(54, 2)\n",
        "print(\"54 * 2 =\", resultado)\n",
        "\n",
        "# Realize a divisão e imprima o resultado\n",
        "resultado = calculadora.dividir(144, 2)\n",
        "print(\"144/2 =\",resultado)\n",
        "\n",
        "# Tenta realizar a divisão por zero, o que gera um erro, e imprime a mensagem de erro\n",
        "resultado = calculadora.dividir(45, 0)\n",
        "print(\"45/0 =\",resultado)"
      ]
    },
    {
      "cell_type": "code",
      "source": [
        "calculadora_apolo=Calculadora()\n",
        "\n",
        "for i  in range (4):\n",
        "  x=int(input(f'entre com um numero:'))\n",
        "  y=int(input(f'entre com um numero:'))\n",
        "  operacao=(input(f'entre com operação: (+,-,*,/)'))\n",
        "  if operacao=='+':\n",
        "    print(f'Soma={calculadora_apolo.adicionar(x,y)}')\n",
        "  elif operacao=='-':\n",
        "    print(f'Subtração={calculadora_apolo.subtrair(x,y)}')\n",
        "  elif operacao=='*':\n",
        "    print(f'Multiplicação={calculadora_apolo.multiplicar(x,y)}')\n",
        "  elif operacao=='/':\n",
        "    print(f'Divisão={calculadora_apolo.dividir(x,y)}')"
      ],
      "metadata": {
        "colab": {
          "base_uri": "https://localhost:8080/"
        },
        "id": "Y-MUQYDFGxn2",
        "outputId": "338aecba-8f6b-4b87-cf07-3962517acf3d"
      },
      "execution_count": null,
      "outputs": [
        {
          "output_type": "stream",
          "name": "stdout",
          "text": [
            "entre com um numero:4\n",
            "entre com um numero:5\n",
            "entre com operação: (+,-,*,/)+\n",
            "Soma=9\n",
            "entre com um numero:56\n",
            "entre com um numero:7\n",
            "entre com operação: (+,-,*,/)-\n",
            "Soma=49\n",
            "entre com um numero:6\n",
            "entre com um numero:7\n",
            "entre com operação: (+,-,*,/)*\n",
            "Soma=42\n",
            "entre com um numero:8\n",
            "entre com um numero:6\n",
            "entre com operação: (+,-,*,/)/\n",
            "Soma=1.3333333333333333\n"
          ]
        }
      ]
    },
    {
      "cell_type": "markdown",
      "source": [
        "## 2. Escreva um programa Python para criar uma classe representando um Círculo. Incluir métodos para calcular sua área e perímetro.\n"
      ],
      "metadata": {
        "id": "h0aV-soQPYaG"
      }
    },
    {
      "cell_type": "code",
      "source": [
        "# Importando o módulo math para acessar funções matemáticas como pi\n",
        "import math\n",
        "\n",
        "# Define uma classe chamada Circulo para representar um círculo\n",
        "class Circulo:\n",
        "    # Inicializa o objeto Circulo com um determinado raio\n",
        "    def __init__(self, raio):\n",
        "        self.radius = raio\n",
        "\n",
        "    # Calcula e retorna a área do círculo usando a fórmula: π * r^2\n",
        "    def calcula_area_circulo(self):\n",
        "        return math.pi * self.radius**2\n",
        "\n",
        "    # Calcula e retorna o perímetro (circunferência) do círculo usando a fórmula: 2π * r\n",
        "    def calcula_perimetro_circulo(self):\n",
        "        return 2 * math.pi * self.radius\n",
        "\n",
        "\n",
        "raio_circulo = float(input(\"Entre como raio do circulo desejado: \"))\n",
        "# Cria um objeto Circle com o raio fornecido\n",
        "meu_circulo = Circulo(raio_circulo)\n",
        "\n",
        "# Calcula a área do círculo usando o método calcule_circle_area\n",
        "area = meu_circulo.calcula_area_circulo()\n",
        "\n",
        "# Calcula o perímetro do círculo usando o método calcule_circle_perimeter\n",
        "perimetro = meu_circulo.calcula_perimetro_circulo()\n",
        "\n",
        "# Exibir a área calculada e o perímetro do círculo\n",
        "print(\"Área do círculo:\", area)\n",
        "print(\"Perímetro do círculo:\", perimetro)"
      ],
      "metadata": {
        "colab": {
          "base_uri": "https://localhost:8080/"
        },
        "id": "nBlmUzFIPm44",
        "outputId": "fe1a60e1-db7e-40c9-9004-a93bf9352b24"
      },
      "execution_count": null,
      "outputs": [
        {
          "output_type": "stream",
          "name": "stdout",
          "text": [
            "Entre como raio do circulo desejado: 5\n",
            "Área do círculo: 78.53981633974483\n",
            "Perímetro do círculo: 31.41592653589793\n"
          ]
        }
      ]
    },
    {
      "cell_type": "code",
      "source": [
        "circulo_da_thamires=Circulo(4)\n",
        "print(f'a area da círculo da Thamires é {circulo_da_thamires.calcula_area_circulo()}')"
      ],
      "metadata": {
        "colab": {
          "base_uri": "https://localhost:8080/"
        },
        "id": "v8S-wQXpLQEP",
        "outputId": "d2cb8f2a-1852-4e17-c97c-595eff507beb"
      },
      "execution_count": null,
      "outputs": [
        {
          "output_type": "stream",
          "name": "stdout",
          "text": [
            "a area da círculo da Thamires é 50.26548245743669\n"
          ]
        }
      ]
    },
    {
      "cell_type": "markdown",
      "source": [
        "## 3. Escreva um programa Python para criar uma classe que represente um carrinho de compras. Inclui métodos para adicionar e remover itens e calcular o preço total."
      ],
      "metadata": {
        "id": "KlzPUAtNPe1C"
      }
    },
    {
      "cell_type": "code",
      "source": [
        "# Define uma classe chamada ShoppingCart para representar um carrinho de compras\n",
        "class ShoppingCart:\n",
        "    # Inicializa o carrinho Vazio\n",
        "    def __init__(self):\n",
        "        self.itens = []\n",
        "\n",
        "    # Adiciona um item com nome e quantidade ao carrinho de compras\n",
        "    def add_item(self, item_nome, qty):\n",
        "        item = (item_nome, qty)\n",
        "        self.itens.append(item)\n",
        "\n",
        "    # Remove um item com um nome específico do carrinho de compras\n",
        "    def remove_item(self, item_nome):\n",
        "        for item in self.itens:\n",
        "            if item[0] == item_nome:\n",
        "                self.itens.remove(item)\n",
        "                break\n",
        "\n",
        "    # Calcula e retorna a quantidade total de itens no carrinho de compras\n",
        "    def calculate_total(self):\n",
        "        total = 0\n",
        "        for item in self.itens:\n",
        "            total += item[1]\n",
        "        return total\n"
      ],
      "metadata": {
        "id": "yF6_eQkUPnTQ"
      },
      "execution_count": null,
      "outputs": []
    },
    {
      "cell_type": "code",
      "source": [
        "# Criando uma instância da classe ShoppingCart\n",
        "carrinho_alysson = ShoppingCart()\n",
        "\n",
        "# Adicione itens ao carrinho de compras\n",
        "carrinho_alysson.add_item(\"Papaya\", 5)\n",
        "carrinho_alysson.add_item(\"Banana\", 24)\n",
        "carrinho_alysson.add_item(\"Laranja\", 15)\n",
        "\n",
        "# Exibindo os itens atuais no carrinho e calcule a quantidade total\n",
        "print(\"Itens atuais no carrinho:\")\n",
        "for item in carrinho_alysson.itens:\n",
        "    print(item[0], \"-\", item[1])\n",
        "\n",
        "total_qty = carrinho_alysson.calculate_total()\n",
        "print(\"Quantidade Total:\", total_qty)\n",
        "\n",
        "# Removendo um item\n",
        "carrinho_alysson.remove_item(\"Laranja\")\n",
        "print(\"\\nItens atualizados no carrinho após a remoção da Laranja:\")\n",
        "for item in carrinho_alysson.itens:\n",
        "    print(item[0], \"-\", item[1])\n",
        "\n",
        "total_qty = carrinho_alysson.calculate_total()\n",
        "print(\"Quantidade Total:\", total_qty)"
      ],
      "metadata": {
        "colab": {
          "base_uri": "https://localhost:8080/"
        },
        "id": "SDxieTBIQ-ZH",
        "outputId": "c823e747-ca11-4b6c-da64-cadd7cfd3215"
      },
      "execution_count": null,
      "outputs": [
        {
          "output_type": "stream",
          "name": "stdout",
          "text": [
            "Itens atuais no carrinho:\n",
            "Papaya - 5\n",
            "Banana - 24\n",
            "Laranja - 15\n",
            "Quantidade Total: 44\n",
            "\n",
            "Itens atualizados no carrinho após a remoção da Laranja:\n",
            "Papaya - 5\n",
            "Banana - 24\n",
            "Quantidade Total: 29\n"
          ]
        }
      ]
    },
    {
      "cell_type": "markdown",
      "source": [
        "## 4. Escreva um programa Python para criar uma classe que represente uma forma. Inclui métodos para calcular sua área e perímetro. Implemente subclasses para diferentes formas, como círculo, triângulo e quadrado."
      ],
      "metadata": {
        "id": "hQMD30VHWke9"
      }
    },
    {
      "cell_type": "code",
      "source": [
        "# Importa o módulo matemático para acessar funções matemáticas como pi\n",
        "import math\n",
        "\n",
        "# Define uma classe base chamada Shape para representar uma forma genérica com métodos para calcular área e perímetro\n",
        "class Forma:\n",
        "     # Método placeholder para cálculo de área (a ser implementado em classes derivadas)\n",
        "     def calcular_área(self):\n",
        "         pass\n",
        "\n",
        "     # Método placeholder para cálculo de perímetro (a ser implementado em classes derivadas)\n",
        "     def calcular_perímetro(self):\n",
        "         pass\n",
        "\n",
        "# Define uma classe derivada chamada Circle, que herda da classe Shape\n",
        "class Circulo (Forma):\n",
        "     # Inicializa o objeto Circle com um determinado raio\n",
        "     def __init__(self, raio):\n",
        "         self.radius = raio\n",
        "\n",
        "     # Calcula e retorne a área do círculo usando a fórmula: π * r^2\n",
        "     def calcular_área(self):\n",
        "         return math.pi * self.radius**2\n",
        "\n",
        "     # Calcula e retorne o perímetro do círculo usando a fórmula: 2π * r\n",
        "     def calcular_perímetro(self):\n",
        "         return 2 * math.pi * self.radius\n",
        "\n",
        "# Define uma classe derivada chamada Rectangle, que herda da classe Shape\n",
        "class Retangulo (Forma):\n",
        "     # Inicializa o objeto Rectangle com determinado comprimento e largura\n",
        "     def __init__(self, comprimento, largura):\n",
        "         self.length = comprimento\n",
        "         self.largura = largura\n",
        "\n",
        "     # Calcula e retorna a área do retângulo usando a fórmula: comprimento * largura\n",
        "     def calcular_área(self):\n",
        "         return self.length * self.width\n",
        "\n",
        "     # Calcula e retorna o perímetro do retângulo usando a fórmula: 2 * (comprimento + largura)\n",
        "     def calcular_perímetro(self):\n",
        "         return 2 * (self.comprimento + self.largura)\n",
        "\n",
        "# Define uma classe derivada chamada Triangle, que herda da classe Shape\n",
        "class Triângulo (Forma):\n",
        "     # Inicialize o objeto Triângulo com base, altura e três comprimentos laterais\n",
        "     def __init__(self, base, altura, lado1, lado2, lado3):\n",
        "         self.base = base\n",
        "         self.height = altura\n",
        "         self.side1 = lado1\n",
        "         self.side2 = lado2\n",
        "         self.side3 = lado3\n",
        "\n",
        "     # Calcule e retorne a área do triângulo usando a fórmula: 0,5 * base * altura\n",
        "     def calcular_área(self):\n",
        "         return 0,5 * self.base * self.height\n",
        "\n",
        "     # Calcule e retorne o perímetro do triângulo somando os comprimentos de seus três lados\n",
        "     def calcular_perímetro(self):\n",
        "         return self.side1 + self.side2 + self.side3\n",
        "\n",
        "# Exemplo de uso\n",
        "# Crie um objeto Círculo com um determinado raio e calcule sua área e perímetro\n",
        "r = 7\n",
        "circulo = Circulo (r)\n",
        "circulo_area = circulo.calculate_area()\n",
        "circulo_perímetro = circulo.calculate_perímetro()\n",
        "\n",
        "# Imprima os resultados para o Círculo\n",
        "print(\"Raio do círculo:\", r)\n",
        "print(\"Área do Círculo:\", circulo_area)\n",
        "print(\"Perímetro do círculo:\", circulo_perímetro)\n",
        "\n",
        "# Crie um objeto Rectangle com determinado comprimento e largura e calcule sua área e perímetro\n",
        "l = 5\n",
        "w = 7\n",
        "retangulo = Retangulo (l, w)\n",
        "retangulo_area = retangulo.calcular_area()\n",
        "retangulo_perímetro = retangulo.calcular_perímetro()\n",
        "\n",
        "# Imprime os resultados para o Retângulo\n",
        "print(\"\\nRetângulo: Comprimento =\", l, \" Largura =\", w)\n",
        "print(\"Área do retângulo:\", retangulo_area)\n",
        "print(\"Perímetro do retângulo:\", retangulo_perímetro)\n",
        "\n",
        "# Crie um objeto Triângulo com base, altura e três comprimentos laterais e calcule sua área e perímetro\n",
        "base = 5\n",
        "altura = 4\n",
        "s1 = 4\n",
        "s2 = 3\n",
        "s3 = 5\n",
        "\n",
        "# Imprima os resultados para o Triângulo\n",
        "print(\"\\nTriângulo: Base =\", base, \" Altura =\", altura, \" lado1 =\", s1, \" lado2 =\", s2, \" lado3 =\", s3)\n",
        "triângulo = Triângulo (base, altura, s1, s2, s3)\n",
        "triângulo_area = triângulo.calcular_area()\n",
        "triângulo_perímetro = triângulo.calcular_perímetro()\n",
        "print(\"Área do Triângulo:\", triângulo_area)\n",
        "print(\"Perímetro do triângulo:\", triângulo_perímetro)"
      ],
      "metadata": {
        "id": "mFmmCNEqWrNo"
      },
      "execution_count": null,
      "outputs": []
    }
  ]
}