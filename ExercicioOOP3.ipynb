{
  "nbformat": 4,
  "nbformat_minor": 0,
  "metadata": {
    "colab": {
      "provenance": [],
      "authorship_tag": "ABX9TyOxQEPkKH4iPQm3eT9VD4kR",
      "include_colab_link": true
    },
    "kernelspec": {
      "name": "python3",
      "display_name": "Python 3"
    },
    "language_info": {
      "name": "python"
    }
  },
  "cells": [
    {
      "cell_type": "markdown",
      "metadata": {
        "id": "view-in-github",
        "colab_type": "text"
      },
      "source": [
        "<a href=\"https://colab.research.google.com/github/rharkovskyProf/IntProgramacao/blob/main/ExercicioOOP3.ipynb\" target=\"_parent\"><img src=\"https://colab.research.google.com/assets/colab-badge.svg\" alt=\"Open In Colab\"/></a>"
      ]
    },
    {
      "cell_type": "markdown",
      "source": [
        "## -- PONTO --\n",
        "Crie uma classe \"PONTO\" que contenha as coordenadas x1, y1 de um ponto. Inicialmente o ponto está na origem (0,0). Defina também os seguintes métodos:\n",
        "a)\tsetX1() – configura a coordenada X1\n",
        "b)\tsetY1() - configura a coordenada Y1\n",
        "c)\t__str()__ - imprimir as coordenadas do ponto\n",
        "\n",
        "Teste seu código imputando as coordenadas (1,1) e solicitando a impressão\n"
      ],
      "metadata": {
        "id": "jxVbzf7j2ydg"
      }
    },
    {
      "cell_type": "code",
      "execution_count": 4,
      "metadata": {
        "colab": {
          "base_uri": "https://localhost:8080/"
        },
        "id": "V9vXr70f2qpm",
        "outputId": "2d7b91a6-6d36-4439-90f5-e022df7ca8b4"
      },
      "outputs": [
        {
          "output_type": "stream",
          "name": "stdout",
          "text": [
            "Coordenada: (0,0)\n"
          ]
        }
      ],
      "source": [
        "class Ponto:\n",
        "  def __init__(self):\n",
        "    self.X = 0\n",
        "    self.Y = 0\n",
        "\n",
        "  def __str__(self):\n",
        "    # print(f'Coordenada ({self.X},{self.Y})')\n",
        "    coord = 'Coordenada: (' + str(self.X) +',' + str(self.Y) + ')'\n",
        "    return coord\n",
        "\n",
        "  def setX (self,x):\n",
        "    self.X = x\n",
        "\n",
        "  def setY(self, y):\n",
        "    self.X = y\n",
        "\n",
        "# PRINCIPAL\n",
        "coord1 = Ponto()\n",
        "print(coord1)"
      ]
    },
    {
      "cell_type": "markdown",
      "source": [
        "## -- COPO --\n",
        "Crie uma classe \"COPO\" com capacidade 250, 300, 500 ml.  Defina também os seguintes métodos:\n",
        "Fill(x) - Encher o copo com x ml. Lembre-se de checar a capacidade máxima.\n",
        "Empty() - Esvaziar totalmente o copo\n",
        "Status() - Informar estado do copo\n"
      ],
      "metadata": {
        "id": "SJBsTrSp22ay"
      }
    },
    {
      "cell_type": "code",
      "source": [
        "from os import sched_setaffinity\n",
        "class Copo:\n",
        "  def __init__(self, capacidade):\n",
        "    self.capacidade = capacidade\n",
        "    self.volume = 0\n",
        "\n",
        "  def esvaziar(self):\n",
        "    self.volume = 0\n",
        "\n",
        "  def encher(self, quantidade):\n",
        "    if self.volume + quantidade < self.capacidade:\n",
        "      self.volume = self.volume + quantidade\n",
        "\n",
        "  def showCopo(self):\n",
        "    return str(self.volume)\n",
        "\n",
        "# PRINCIPAL\n",
        "copo250 = Copo(250)\n",
        "copo250.encher(100)\n",
        "print(copo250.showCopo())\n",
        "copo250.encher(100)\n",
        "print(copo250.showCopo())\n",
        "copo250.encher(100)\n",
        "print(copo250.showCopo())"
      ],
      "metadata": {
        "id": "mEDb6Usw2555",
        "colab": {
          "base_uri": "https://localhost:8080/"
        },
        "outputId": "8dd79d60-3271-4f85-9309-f34b81db1dac"
      },
      "execution_count": 35,
      "outputs": [
        {
          "output_type": "stream",
          "name": "stdout",
          "text": [
            "100\n",
            "200\n",
            "200\n"
          ]
        }
      ]
    },
    {
      "cell_type": "markdown",
      "source": [
        "## -- SMARTPHONE --\n",
        "Crie uma classe \"Smartphone\" que contenha nome, memória disponível, uma lista de apps instaladas e o estado Ligado/Desligado (ON/FF). Defina também os seguintes métodos:\n",
        "\n",
        "a) Install(app, tam), que recebe como parâmetros o nome da app, seu tamanho e a \"instala\" o app (coloca na lista de apps) se, e somente se, o smartphone está ligado e há espaço na memória. Ao instalar, atualizar a memória disponível.\n",
        "\n",
        "b) Power(onOff) que recebe como parâmetro “ON” ou “OFF” e liga (Status=’ON’) ou desliga (Status=’OFF’) o smartphone\n",
        "\n",
        "c) Lista() que lista as apps instaladas no smartphone\n"
      ],
      "metadata": {
        "id": "nTpzCqDl26Vx"
      }
    },
    {
      "cell_type": "code",
      "source": [
        "class Celular:\n",
        "  def __init__(self, nome, capacidade):\n",
        "    self.nome = nome\n",
        "    self.capacidade = capacidade\n",
        "    self.ligado = 'OFF'\n",
        "    self.apps =[]\n",
        "\n",
        "  def ligar(self):\n",
        "    self.ligado = 'ON'\n",
        "\n",
        "  def desligar(self):\n",
        "    self.ligado = 'OFF'\n",
        "\n",
        "  def instalar(self, nomeApp, tamApp ):\n",
        "    if self.ligado == 'ON' and tamApp <= self.capacidade:\n",
        "      self.apps.append(nomeApp)\n",
        "      self.capacidade = self.capacidade - tamApp\n",
        "\n",
        "  def status(self):\n",
        "    print(f'Celular {self.nome}, apps instalados: {self.apps} com {self.capacidade} sobrando')\n",
        "\n",
        "#PRINCIPAL\n",
        "celBob = Celular('Iphone do Bob', 128)\n",
        "celBob.ligar()\n",
        "celBob.instalar('iFood', 20)\n",
        "celBob.instalar('Uber', 40)\n",
        "celBob.status()\n",
        "\n",
        "celTom = Celular('Iphone do Tom', 64)\n",
        "celTom.instalar('Waze', 20)\n",
        "celTom.instalar('Uber', 40)\n",
        "celTom.status()\n",
        "# Nao instalou pois celTom estava desligado.. ligando celTom\n",
        "celTom.ligar()\n",
        "celTom.instalar('Waze', 20)\n",
        "celTom.instalar('Uber', 40)\n",
        "celTom.status()"
      ],
      "metadata": {
        "id": "ubQenMum3JF6",
        "colab": {
          "base_uri": "https://localhost:8080/"
        },
        "outputId": "59af21d8-97e3-4a5d-99d5-1b143c4c93d3"
      },
      "execution_count": 11,
      "outputs": [
        {
          "output_type": "stream",
          "name": "stdout",
          "text": [
            "Celular Iphone do Bob, apps instalados: ['iFood', 'Uber'] com 68 sobrando\n",
            "Celular Iphone do Tom, apps instalados: [] com 64 sobrando\n",
            "Celular Iphone do Tom, apps instalados: ['Waze', 'Uber'] com 4 sobrando\n"
          ]
        }
      ]
    },
    {
      "cell_type": "markdown",
      "source": [
        "## -- PLAYLIST --\n",
        "Crie uma classe “Musica” que nome da música e o nome do cantor. Defina um método music() que apresenta o nome da musica e singer() o nome do  cantor.\n",
        "Crie uma classe “Playlist” que contenha objetos do tipo “Musica” em uma lista de execução das musicas. Defina o método play() que apresenta as musicas na ordem de execução.\n"
      ],
      "metadata": {
        "id": "oiYivXQi3Jhi"
      }
    },
    {
      "cell_type": "code",
      "source": [
        "class Musica:\n",
        "  def __init__(self, nomeMusica, cantor):\n",
        "    self.nome = nomeMusica\n",
        "    self.cantor = cantor\n",
        "\n",
        "  def showMusica(self):\n",
        "    return self.nome\n",
        "\n",
        "  def showCantor(self):\n",
        "    return self.cantor\n",
        "\n",
        "class Playlist:\n",
        "  def __init__(self, nomePlayList):\n",
        "    self.nome = nomePlayList\n",
        "    self.titulos = []\n",
        "\n",
        "  def leNome(self):\n",
        "    return self.nome\n",
        "\n",
        "  def addMusic(self, musicaSel):\n",
        "    self.titulos.append(musicaSel.showMusica())\n",
        "\n",
        "  def showPlayList(self):\n",
        "    return self.titulos\n",
        "\n",
        "# PRINCIPAL\n",
        "music1 = Musica('Always', 'Bon Jovi')\n",
        "music2 = Musica('Lion King', 'Elton John')\n",
        "music3 = Musica('Bohemy Rapsody', 'Queen')\n",
        "music4 = Musica('Yellow', 'Cold Play')\n",
        "\n",
        "play1 = Playlist('Play do Bob')\n",
        "play1.addMusic(music1)\n",
        "play1.addMusic(music2)\n",
        "play1.addMusic(music3)\n",
        "play1.addMusic(music4)\n",
        "print(f'Playlist {play1.leNome()}: {play1.showPlayList()}')\n",
        "\n",
        "play2 = Playlist('Play da Quel')\n",
        "play2.addMusic(music4)\n",
        "play2.addMusic(music1)\n",
        "print(f'Playlist {play2.leNome()}: {play2.showPlayList()}')\n"
      ],
      "metadata": {
        "id": "igcZttg03N1V",
        "colab": {
          "base_uri": "https://localhost:8080/"
        },
        "outputId": "1326b07a-47a1-4410-eaab-7cb69845f983"
      },
      "execution_count": 30,
      "outputs": [
        {
          "output_type": "stream",
          "name": "stdout",
          "text": [
            "Playlist Play do Bob: ['Always', 'Lion King', 'Bohemy Rapsody', 'Yellow']\n",
            "Playlist Play da Quel: ['Yellow', 'Always']\n"
          ]
        }
      ]
    },
    {
      "cell_type": "markdown",
      "source": [
        "## -- CONTA --\n",
        "Crie uma classe abstrata chamada “Conta” que contêm nome do cliente, Numero da conta, Pin de acesso, e o saldo zerado. Incluir métodos para:\n",
        "•\tdepositar(valor) – deposita valor na conta\n",
        "•\tsacar(valor) – saca valor da conta, se houver saldo suficiente.\n",
        "•\tregistra() – registra movimento de deposito ou saque na conta (método privado)\n",
        "•\textrato() – imprime os movimentos e o saldo atual da conta\n",
        "\n",
        "Em seguida crie 2 “classes filha” de “Conta”: a 1ª chamada “ContaPF” e inclui o atributo CPF, e outra “ContaPJ e inclui o atributo CNPJ. (Re) definir o método extrato() incluindo agora a informação de CPF/CNPJ no cabeçalho da impressão do extrato.\n"
      ],
      "metadata": {
        "id": "1uyd6rp03WUU"
      }
    }
  ]
}