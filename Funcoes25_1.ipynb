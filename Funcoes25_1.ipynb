{
  "nbformat": 4,
  "nbformat_minor": 0,
  "metadata": {
    "colab": {
      "provenance": [],
      "authorship_tag": "ABX9TyNAFrHrzGPH9evTkgwKgGKd",
      "include_colab_link": true
    },
    "kernelspec": {
      "name": "python3",
      "display_name": "Python 3"
    },
    "language_info": {
      "name": "python"
    }
  },
  "cells": [
    {
      "cell_type": "markdown",
      "metadata": {
        "id": "view-in-github",
        "colab_type": "text"
      },
      "source": [
        "<a href=\"https://colab.research.google.com/github/rharkovskyProf/IntProgramacao/blob/main/Funcoes25_1.ipynb\" target=\"_parent\"><img src=\"https://colab.research.google.com/assets/colab-badge.svg\" alt=\"Open In Colab\"/></a>"
      ]
    },
    {
      "cell_type": "code",
      "execution_count": 2,
      "metadata": {
        "colab": {
          "base_uri": "https://localhost:8080/"
        },
        "id": "BCqp-3SEN-Nz",
        "outputId": "ffc6a459-5a2f-4288-c647-a313637174a7"
      },
      "outputs": [
        {
          "output_type": "stream",
          "name": "stdout",
          "text": [
            "entre com um numero: 3\n",
            "O quadrado de 3 é 9\n",
            "64\n"
          ]
        }
      ],
      "source": [
        "def quadrado(n):\n",
        "  return(n*n)\n",
        "\n",
        "#programa principal - Main\n",
        "num=int(input(\"entre com um numero: \"))\n",
        "print(f'O quadrado de {num} é {quadrado(num)}')\n",
        "\n",
        "# calcula o resultado da equação y = 4X^2 + 3X^2 + 1\n",
        "y = 4* quadrado(num)+3*quadrado(num)+1\n",
        "print(y)"
      ]
    },
    {
      "cell_type": "markdown",
      "source": [
        "# CALCULADORA"
      ],
      "metadata": {
        "id": "nL026YRyPL-p"
      }
    },
    {
      "cell_type": "code",
      "source": [
        "def soma(x1, x2):\n",
        "  return(x1+x2)\n",
        "\n",
        "def subtracao(x1, x2):\n",
        "  return(x1-x2)\n",
        "\n",
        "# main\n",
        "num1=int(input(\"entre com 1o numero: \"))\n",
        "num2=int(input(\"entre com 2o numero: \"))\n",
        "print(f'A soma de {num1} e {num2} é {soma(num1,num2)}')\n",
        "print(f'A diferença de {num1} e {num2} é {subtracao(num1,num2)}')"
      ],
      "metadata": {
        "colab": {
          "base_uri": "https://localhost:8080/"
        },
        "id": "TAz-E7riPLZp",
        "outputId": "653e0c91-c5f4-4ce1-83d0-11d641a7cc03"
      },
      "execution_count": 3,
      "outputs": [
        {
          "output_type": "stream",
          "name": "stdout",
          "text": [
            "entre com 1o numero: 10\n",
            "entre com 2o numero: 8\n",
            "A soma de 10 e 8 é 18\n",
            "A diferença de 10 e 8 é 2\n"
          ]
        }
      ]
    },
    {
      "cell_type": "code",
      "source": [
        "def soma(x1, x2):\n",
        "  return(x1+x2)\n",
        "\n",
        "def subtracao(x1, x2):\n",
        "  return(x1-x2)\n",
        "\n",
        "def telaInicial():\n",
        "  while True:\n",
        "    print('------- CALCULADORA BÁSICA---------')\n",
        "    print('Entre com a operação desejada:')\n",
        "    opcao= input('Adicao/Subtração/Fim (A/S/X): ')\n",
        "    if opcao.upper() in ('A', 'S','X'):\n",
        "      return(opcao.upper())\n",
        "      break\n",
        "    else:\n",
        "      print('Opcao invalida!!')\n",
        "\n",
        "def leNumero():\n",
        "  numero=int(input(\"entre com um numero: \"))\n",
        "  return(numero)\n",
        "\n",
        "# main\n",
        "while True:\n",
        "  oper=telaInicial()\n",
        "  if oper=='X':\n",
        "    break\n",
        "  num1=leNumero()\n",
        "  num2=leNumero()\n",
        "  if oper=='A':\n",
        "    print(f'{num1} + {num2} = {soma(num1,num2)}')\n",
        "  else:\n",
        "    print(f'{num1} - {num2} = {subtracao(num1,num2)}')\n",
        "\n",
        "# Fim do progrma\n",
        "print('Fechando a Calculadora')"
      ],
      "metadata": {
        "colab": {
          "base_uri": "https://localhost:8080/"
        },
        "id": "RJYPBud1QC9Q",
        "outputId": "1037b76f-c501-4a36-f853-4c71e3f3307c"
      },
      "execution_count": 9,
      "outputs": [
        {
          "output_type": "stream",
          "name": "stdout",
          "text": [
            "------- CALCULADORA BÁSICA---------\n",
            "Entre com a operação desejada:\n",
            "Adicao/Subtração/Fim (A/S/X): q\n",
            "Opcao invalida!!\n",
            "------- CALCULADORA BÁSICA---------\n",
            "Entre com a operação desejada:\n",
            "Adicao/Subtração/Fim (A/S/X): q\n",
            "Opcao invalida!!\n",
            "------- CALCULADORA BÁSICA---------\n",
            "Entre com a operação desejada:\n",
            "Adicao/Subtração/Fim (A/S/X): q\n",
            "Opcao invalida!!\n",
            "------- CALCULADORA BÁSICA---------\n",
            "Entre com a operação desejada:\n",
            "Adicao/Subtração/Fim (A/S/X): r\n",
            "Opcao invalida!!\n",
            "------- CALCULADORA BÁSICA---------\n",
            "Entre com a operação desejada:\n",
            "Adicao/Subtração/Fim (A/S/X): t\n",
            "Opcao invalida!!\n",
            "------- CALCULADORA BÁSICA---------\n",
            "Entre com a operação desejada:\n",
            "Adicao/Subtração/Fim (A/S/X): y\n",
            "Opcao invalida!!\n",
            "------- CALCULADORA BÁSICA---------\n",
            "Entre com a operação desejada:\n",
            "Adicao/Subtração/Fim (A/S/X): x\n",
            "Fechando a Calculadora\n"
          ]
        }
      ]
    },
    {
      "cell_type": "code",
      "source": [
        "#Incrementando o Codigo\n",
        "\n",
        "def soma(x1, x2):\n",
        "  return(x1+x2)\n",
        "\n",
        "def subtracao(x1, x2):\n",
        "  return(x1-x2)\n",
        "\n",
        "def telaInicial():\n",
        "  while True:\n",
        "    print('------- CALCULADORA BÁSICA---------')\n",
        "    print('Entre com a operação desejada:')\n",
        "    opcao= input('Adicao/Subtração/Fim (A/S/X): ')\n",
        "    if opcao.upper() in ('A', 'S','X'):\n",
        "      return(opcao.upper())\n",
        "      break\n",
        "    else:\n",
        "      print('Opcao invalida!!')\n",
        "\n",
        "def leNumero():\n",
        "  numero=int(input(\"entre com um numero: \"))\n",
        "  return(numero)\n",
        "\n",
        "# usando uma funcao que retorna 2 valores\n",
        "def le2Numeros():\n",
        "  numero1=leNumero()\n",
        "  numero2=leNumero()\n",
        "  return(numero1, numero2)\n",
        "\n",
        "# main\n",
        "while True:\n",
        "  oper=telaInicial()\n",
        "  if oper=='X':\n",
        "    break\n",
        " # lendo os valores usando o conceio de tupla\n",
        "  num1, num2 =le2Numeros()\n",
        "\n",
        "  if oper=='A':\n",
        "    print(f'{num1} + {num2} = {soma(num1,num2)}')\n",
        "  elif oper=='S':\n",
        "    print(f'{num1} - {num2} = {subtracao(num1,num2)}')\n",
        "\n",
        "# Fim do progrma\n",
        "print('Fechando a Calculadora')\n"
      ],
      "metadata": {
        "colab": {
          "base_uri": "https://localhost:8080/"
        },
        "id": "d_DCzOsvUVfq",
        "outputId": "feda059e-9d00-4edc-ca11-054d8857f4a4"
      },
      "execution_count": 10,
      "outputs": [
        {
          "output_type": "stream",
          "name": "stdout",
          "text": [
            "------- CALCULADORA BÁSICA---------\n",
            "Entre com a operação desejada:\n",
            "Adicao/Subtração/Fim (A/S/X): a\n",
            "entre com um numero: 34\n",
            "entre com um numero: 56\n",
            "34 + 56 = 90\n",
            "------- CALCULADORA BÁSICA---------\n",
            "Entre com a operação desejada:\n",
            "Adicao/Subtração/Fim (A/S/X): x\n",
            "Fechando a Calculadora\n"
          ]
        }
      ]
    },
    {
      "cell_type": "markdown",
      "source": [
        "## Raizes da Equacao de 2o grau"
      ],
      "metadata": {
        "id": "zBjxr65CXOLw"
      }
    },
    {
      "cell_type": "code",
      "source": [
        "import math\n",
        "\n",
        "def leParametro(letra):\n",
        "  numero=int(input(f\"Entre com o parametro {letra}: \"))\n",
        "  return(numero)\n",
        "\n",
        "def telaInicial():\n",
        "    print('------- RAIZES DA EQUACAO DO 2o GRAU A.X^2 + B.X + C = 0 ---------')\n",
        "    print('Entre com os parametros A, B e C:')\n",
        "    a = leParametro('A')\n",
        "    b = leParametro('B')\n",
        "    c = leParametro('C')\n",
        "\n",
        "    return(a, b, c)\n",
        "\n",
        "def calculaRaizes(parA, parB, parC):\n",
        "  existeraiz= True\n",
        "  if parA == 0:\n",
        "    print('Erro: O parametro A nao pode ser ZERO!!!')\n",
        "\n",
        "  delta = math.pow(parB,2)-4*parA*parC\n",
        "\n",
        "  if delta < 0:\n",
        "    existeraiz=False\n",
        "    return(existeraiz, 0,0)\n",
        "  elif delta ==0:\n",
        "    print('raiz unica')\n",
        "    raiz1=-parB/(2*parA)\n",
        "    return(existeraiz, raiz1, raiz1)\n",
        "\n",
        "  else:\n",
        "    print('raizes reais')\n",
        "    raiz1=(-parB + math.sqrt(delta))/(2*parA)\n",
        "    raiz2=(-parB - math.sqrt(delta))/(2*parA)\n",
        "    return(existeraiz, raiz1, raiz2)\n",
        "\n",
        "# Main\n",
        "A, B, C = telaInicial()\n",
        "valido, r1, r2 = calculaRaizes(A, B, C)\n",
        "if valido:\n",
        "  print(f'As raizes são {r1} e {r2}')\n",
        "else:\n",
        "  print('Erro: Raizes complexas!!!')\n"
      ],
      "metadata": {
        "colab": {
          "base_uri": "https://localhost:8080/"
        },
        "id": "LWNXqzIgXTeG",
        "outputId": "65ebcb56-1cd2-42f3-bf57-ab80e38d6d43"
      },
      "execution_count": 15,
      "outputs": [
        {
          "output_type": "stream",
          "name": "stdout",
          "text": [
            "------- RAIZES DA EQUACAO DO 2o GRAU A.X^2 + B.X + C = 0 ---------\n",
            "Entre com os parametros A, B e C:\n",
            "Entre com o parametro A: 1\n",
            "Entre com o parametro B: 4\n",
            "Entre com o parametro C: 1\n",
            "raizes reais\n",
            "As raizes são -0.2679491924311228 e -3.732050807568877\n"
          ]
        }
      ]
    }
  ]
}