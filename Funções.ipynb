{
  "nbformat": 4,
  "nbformat_minor": 0,
  "metadata": {
    "colab": {
      "provenance": [],
      "include_colab_link": true
    },
    "kernelspec": {
      "name": "python3",
      "display_name": "Python 3"
    },
    "language_info": {
      "name": "python"
    }
  },
  "cells": [
    {
      "cell_type": "markdown",
      "metadata": {
        "id": "view-in-github",
        "colab_type": "text"
      },
      "source": [
        "<a href=\"https://colab.research.google.com/github/rharkovskyProf/IntProgramacao/blob/main/Fun%C3%A7%C3%B5es.ipynb\" target=\"_parent\"><img src=\"https://colab.research.google.com/assets/colab-badge.svg\" alt=\"Open In Colab\"/></a>"
      ]
    },
    {
      "cell_type": "markdown",
      "source": [
        "# FUNÇÕES"
      ],
      "metadata": {
        "id": "6OD8gZX4sLPQ"
      }
    },
    {
      "cell_type": "markdown",
      "source": [
        "## Exemplo 1\n",
        "Crie uma função que imprima  que calcula o quadrado de um número"
      ],
      "metadata": {
        "id": "OOBVKVnCsP_o"
      }
    },
    {
      "cell_type": "code",
      "execution_count": null,
      "metadata": {
        "colab": {
          "base_uri": "https://localhost:8080/"
        },
        "id": "8CIsSq4LcMhi",
        "outputId": "11ae9e6b-ef53-4c05-97e3-b860ff445115"
      },
      "outputs": [
        {
          "output_type": "stream",
          "name": "stdout",
          "text": [
            "entre com numero:6\n",
            "o quadrado de 6 é 36\n"
          ]
        }
      ],
      "source": [
        "def quadrado(n):\n",
        "  return(n*n)\n",
        "\n",
        "num = int(input('entre com numero:'))\n",
        "numq= quadrado(num)\n",
        "\n",
        "print(f'o quadrado de {num} é {numq}')"
      ]
    },
    {
      "cell_type": "markdown",
      "source": [
        "## Exemplo 2\n",
        "Crie uma função que imprima  que lê um número positivo com crítica"
      ],
      "metadata": {
        "id": "oLdMs8CjsXZX"
      }
    },
    {
      "cell_type": "code",
      "source": [
        "def le_numero_positivo(limite_inf, limite_sup):\n",
        "  num = int(input(f'entre com um positivo entre {limite_inf} e {limite_sup}:'))\n",
        "  while num <= limite_inf or num >= limite_sup:\n",
        "    print('numero inválido!')\n",
        "    num = int(input(f'entre com um positivo entre {limite_inf} e {limite_sup}:'))\n",
        "  return (num)\n",
        "\n",
        "\n",
        "x = le_numero_positivo(0,100)\n",
        "print(f'primeiro numero {x}')\n",
        "x = le_numero_positivo(-5,20)\n",
        "print(f'segundo numero {x}')\n",
        "x = le_numero_positivo(1,10)\n",
        "print(f'terceiro numero {x}')\n"
      ],
      "metadata": {
        "colab": {
          "base_uri": "https://localhost:8080/"
        },
        "id": "ii2xLXkEeGGn",
        "outputId": "aa65254c-0b06-487e-8101-89275b9b186e"
      },
      "execution_count": null,
      "outputs": [
        {
          "output_type": "stream",
          "name": "stdout",
          "text": [
            "entre com um positivo entre 0 e 100:89\n",
            "primeiro numero 89\n",
            "entre com um positivo entre -5 e 20:-2\n",
            "segundo numero -2\n",
            "entre com um positivo entre 1 e 10:11\n",
            "numero inválido!\n",
            "entre com um positivo entre 1 e 10:8\n",
            "terceiro numero 8\n"
          ]
        }
      ]
    },
    {
      "cell_type": "markdown",
      "source": [
        "## Exemplo 3\n",
        "Crie uma função que receba 2 parâmetros x e y, e informe se um número x é divisel por um numero y"
      ],
      "metadata": {
        "id": "5ochkYAjE_77"
      }
    },
    {
      "cell_type": "code",
      "source": [
        "# A função retorna valor True se for divisivel, senao False\n",
        "######################\n",
        "# opção 1\n",
        "######################\n",
        "# def divisivel (x,y);\n",
        "#   if (x%y==0):  # se o resto da divisão for zero, então y divide x\n",
        "#      return(True)\n",
        "#    Else:\n",
        "#      return(False)\n",
        "\n",
        "######################\n",
        "# opção 2 - mais limpa\n",
        "######################\n",
        "def divisivel(x,y):\n",
        "  print (x%y==0)  # se o resto da divisão for zero, então y divide x\n",
        "\n",
        "divisivel (4,2)"
      ],
      "metadata": {
        "colab": {
          "base_uri": "https://localhost:8080/"
        },
        "id": "roJROxBmFKr2",
        "outputId": "93ae6981-2091-40ce-ca01-44153e278139"
      },
      "execution_count": null,
      "outputs": [
        {
          "output_type": "stream",
          "name": "stdout",
          "text": [
            "True\n"
          ]
        }
      ]
    },
    {
      "cell_type": "markdown",
      "source": [
        "## Exemplo 4\n",
        "Crie uma função que imprima  uma matriz 3 x 3 com valores sequenciais, com caracter \"X\""
      ],
      "metadata": {
        "id": "py2Qsi5ctV0R"
      }
    },
    {
      "cell_type": "code",
      "source": [
        "def tabuleiro_velha():\n",
        "  print(f'+---+---+---+') # imprime linha superior\n",
        "  tab = ['X'*3,'X'*3, 'X'*3]\n",
        "  for i in range(3):\n",
        "    print(f'| {tab[i][0]} | {tab[i][1]} | {tab[i][2]} |') # imprime dados\n",
        "    print(f'+---+---+---+') # imprime linha inferior\n",
        "\n",
        "\n",
        "tabuleiro_velha ()"
      ],
      "metadata": {
        "colab": {
          "base_uri": "https://localhost:8080/"
        },
        "id": "tXRAie3Hf5dg",
        "outputId": "a4d1d7cc-4e17-4db7-e2e0-f63b2a1331b6"
      },
      "execution_count": null,
      "outputs": [
        {
          "output_type": "stream",
          "name": "stdout",
          "text": [
            "+---+---+---+\n",
            "| X | X | X |\n",
            "+---+---+---+\n",
            "| X | X | X |\n",
            "+---+---+---+\n",
            "| X | X | X |\n",
            "+---+---+---+\n"
          ]
        }
      ]
    },
    {
      "cell_type": "markdown",
      "source": [
        "## Exemplo 5\n",
        "Crie uma função que receba um aparâmetro n (tamanho da matriz quadrada) imprima  uma matriz quadrada n (linhas) x n (colunas) com valores 1 em todas as linhas"
      ],
      "metadata": {
        "id": "HUnblj1gumuO"
      }
    },
    {
      "cell_type": "code",
      "source": [
        "def tabuleiro(n):\n",
        "  import random\n",
        "  tab = [[1] * n] * n # define a matriz n x n\n",
        "\n",
        "  # define o tamanho do traço\n",
        "  traco = '+----' *  n\n",
        "  print(traco + '+') # imprime linha superior\n",
        "\n",
        "  for i in range(n):\n",
        "    for j in range (n):\n",
        "      tab[i][j]= random.randint(1,9)\n",
        "      print(f'| {tab[i][j]} ', end=\" \") # o uso do parametro \"end = \" \" evita pular linha\n",
        "    print('|')\n",
        "    print(traco + '+') # imprime linha inferior\n",
        "\n",
        "tabuleiro (2)\n",
        "tabuleiro (3)\n",
        "tabuleiro (4)"
      ],
      "metadata": {
        "colab": {
          "base_uri": "https://localhost:8080/"
        },
        "id": "c-1_6FxsuONw",
        "outputId": "65fb70d8-7d12-4782-e136-eb1f266008c8"
      },
      "execution_count": null,
      "outputs": [
        {
          "output_type": "stream",
          "name": "stdout",
          "text": [
            "+----+----+\n",
            "| 6  | 9  |\n",
            "+----+----+\n",
            "| 2  | 7  |\n",
            "+----+----+\n",
            "+----+----+----+\n",
            "| 2  | 3  | 1  |\n",
            "+----+----+----+\n",
            "| 9  | 8  | 5  |\n",
            "+----+----+----+\n",
            "| 2  | 9  | 2  |\n",
            "+----+----+----+\n",
            "+----+----+----+----+\n",
            "| 8  | 6  | 2  | 1  |\n",
            "+----+----+----+----+\n",
            "| 2  | 8  | 1  | 8  |\n",
            "+----+----+----+----+\n",
            "| 7  | 7  | 5  | 1  |\n",
            "+----+----+----+----+\n",
            "| 4  | 1  | 1  | 5  |\n",
            "+----+----+----+----+\n"
          ]
        }
      ]
    },
    {
      "cell_type": "markdown",
      "source": [
        "## Exemplo 6\n",
        "Crie uma função que receba 2 parâmetros m (linhas) e n ( colunas) e imprima  uma matriz n x m  com valores 1 em todas as linhas"
      ],
      "metadata": {
        "id": "rALy41JW0bD1"
      }
    },
    {
      "cell_type": "code",
      "source": [
        "def matriz(n, m):\n",
        "  tab = [[1] * m] * n # define a matriz n x m\n",
        "\n",
        "  # define o tamanho do traço\n",
        "  traco = '+----' *  m # o tamanho traço depdende da qdade de colunas\n",
        "  print(traco + '+') # imprime linha superior\n",
        "\n",
        "  for i in range(n):\n",
        "    for j in range (m):\n",
        "      print(f'| {tab[i][j]} ', end=\" \") # o uso do parametro \"end = \" \" evita pular linha\n",
        "    print('|')\n",
        "    print(traco + '+') # imprime linha inferior\n",
        "\n",
        "matriz (2, 3)\n",
        "matriz (3, 4)\n",
        "matriz (4, 3)"
      ],
      "metadata": {
        "colab": {
          "base_uri": "https://localhost:8080/"
        },
        "id": "qYbj0k_D1EtS",
        "outputId": "cdf66e7d-c649-49cc-f518-a52e776391ea"
      },
      "execution_count": null,
      "outputs": [
        {
          "output_type": "stream",
          "name": "stdout",
          "text": [
            "+----+----+----+\n",
            "| 1  | 1  | 1  |\n",
            "+----+----+----+\n",
            "| 1  | 1  | 1  |\n",
            "+----+----+----+\n",
            "+----+----+----+----+\n",
            "| 1  | 1  | 1  | 1  |\n",
            "+----+----+----+----+\n",
            "| 1  | 1  | 1  | 1  |\n",
            "+----+----+----+----+\n",
            "| 1  | 1  | 1  | 1  |\n",
            "+----+----+----+----+\n",
            "+----+----+----+\n",
            "| 1  | 1  | 1  |\n",
            "+----+----+----+\n",
            "| 1  | 1  | 1  |\n",
            "+----+----+----+\n",
            "| 1  | 1  | 1  |\n",
            "+----+----+----+\n",
            "| 1  | 1  | 1  |\n",
            "+----+----+----+\n"
          ]
        }
      ]
    },
    {
      "cell_type": "markdown",
      "source": [
        "## Exemplo Calculadora"
      ],
      "metadata": {
        "id": "0jST8xcp2gdu"
      }
    },
    {
      "cell_type": "code",
      "source": [
        "def imprimeMenu():\n",
        "  print(\"Escolha a opção:\")\n",
        "  print(\"'+' - Soma de 2 números inteiros.\")\n",
        "  print(\"'-' - Diferença entre 2 números.\")\n",
        "  print(\"'*' - Produto entre 2 números.\")\n",
        "  print(\"'/' - Divisão entre 2 números.\")\n",
        "  print(\"'S' ou 's' - Sair\")\n",
        "\n",
        "def leOpcaoValida():\n",
        "  while True:\n",
        "    imprimeMenu()\n",
        "    opcao=input('entre com a opção desejada')\n",
        "    if opcao not in ('+','-', '*', '/', 's', 'S'):\n",
        "      print('OPÇÃO INVALIDA')\n",
        "    else:\n",
        "      return(opcao)\n",
        "\n",
        "def soma(x, y):\n",
        "  return(x+y)\n",
        "\n",
        "def diferenca(x, y):\n",
        "  return(x-y)\n",
        "\n",
        "def multiplicacao(x, y):\n",
        "  return(x*y)\n",
        "\n",
        "def divisao(x, y):\n",
        "  if y != 0:\n",
        "    return(x/y)\n",
        "  else:\n",
        "    return ('ERRO - DIVISAO POR ZERO!')\n",
        "\n",
        "def le_numeros():\n",
        "  n1 = int(input('entre com x: '))\n",
        "  n2 = int(input('entre com y: '))\n",
        "  return(n1, n2)\n",
        "\n",
        "def calcula(opt, a, b):\n",
        "  if opt == '+':\n",
        "    resultado = soma(a,b)\n",
        "  elif opt == '-':\n",
        "    resultado = diferenca(a,b)\n",
        "  elif opt == '*':\n",
        "    resultado = multiplicacao(a,b)\n",
        "  elif opt == '/':\n",
        "    resultado = divisao(a,b)\n",
        "\n",
        "  return(resultado)\n",
        "\n",
        "# Programa principal\n",
        "\n",
        "while True:\n",
        "  opt = leOpcaoValida()\n",
        "  if opt in ('s', 'S'):\n",
        "    break\n",
        "\n",
        "  (x, y) = le_numeros()\n",
        "  print(f'RESULTADO: {calcula(opt, x, y)}')\n",
        "\n",
        "print('FIM DA CALCULADORA')\n"
      ],
      "metadata": {
        "id": "2hxglJyj2jqw"
      },
      "execution_count": null,
      "outputs": []
    }
  ]
}