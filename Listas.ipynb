{
  "nbformat": 4,
  "nbformat_minor": 0,
  "metadata": {
    "colab": {
      "provenance": [],
      "include_colab_link": true
    },
    "kernelspec": {
      "name": "python3",
      "display_name": "Python 3"
    },
    "language_info": {
      "name": "python"
    }
  },
  "cells": [
    {
      "cell_type": "markdown",
      "metadata": {
        "id": "view-in-github",
        "colab_type": "text"
      },
      "source": [
        "<a href=\"https://colab.research.google.com/github/rharkovskyProf/IntProgramacao/blob/main/Listas.ipynb\" target=\"_parent\"><img src=\"https://colab.research.google.com/assets/colab-badge.svg\" alt=\"Open In Colab\"/></a>"
      ]
    },
    {
      "cell_type": "markdown",
      "source": [
        "# LISTAS"
      ],
      "metadata": {
        "id": "19LhpACGPNrZ"
      }
    },
    {
      "cell_type": "markdown",
      "source": [
        "# Exemplo 1\n",
        "Inverta a lista lista1 = [100, 200, 300, 400, 500]"
      ],
      "metadata": {
        "id": "wGujUngzC_qn"
      }
    },
    {
      "cell_type": "code",
      "execution_count": 6,
      "metadata": {
        "colab": {
          "base_uri": "https://localhost:8080/"
        },
        "id": "aQNb2BtiAzSY",
        "outputId": "358e070c-b37f-47e2-9e0d-1d8726bff16e"
      },
      "outputs": [
        {
          "output_type": "stream",
          "name": "stdout",
          "text": [
            "5\n",
            "opção1\n",
            "[500, 400, 300, 200, 100]\n",
            "opção2\n",
            "[500, 400, 300, 200, 100]\n",
            "[100, 200, 300, 400, 500]\n"
          ]
        }
      ],
      "source": [
        "lista1 = [100, 200, 300, 400, 500]\n",
        "#print(len(lista1))\n",
        "lista2=[]\n",
        "tamanho = len(lista1)\n",
        "print(tamanho)\n",
        "for i in range (tamanho-1, -1, -1):\n",
        "  lista2.append(lista1[i])\n",
        "\n",
        "print('opção1')\n",
        "print(lista2)\n",
        "\n",
        "# 2 opção\n",
        "lista1.reverse()\n",
        "print('opção2')\n",
        "print(lista1)\n"
      ]
    },
    {
      "cell_type": "markdown",
      "source": [
        "Ordenando uma lista"
      ],
      "metadata": {
        "id": "ts9kpykKcdWr"
      }
    },
    {
      "cell_type": "code",
      "source": [
        "# ordenando a lista\n",
        "lista3 = [400, 100, 500, 200, 300]\n",
        "lista3=sorted(lista1)\n",
        "print(lista3)"
      ],
      "metadata": {
        "colab": {
          "base_uri": "https://localhost:8080/"
        },
        "id": "Ofx_lvcRcPvu",
        "outputId": "a9ffe089-811a-4a7f-ccdf-ba6a33462a0e"
      },
      "execution_count": 7,
      "outputs": [
        {
          "output_type": "stream",
          "name": "stdout",
          "text": [
            "[100, 200, 300, 400, 500]\n"
          ]
        }
      ]
    },
    {
      "cell_type": "markdown",
      "source": [
        "# Exemplo 2.\n",
        "Transforme cada item da lista numeros = [1, 2, 3, 4, 5, 6, 7] em seu quadrado"
      ],
      "metadata": {
        "id": "bzrKOnKaDQpJ"
      }
    },
    {
      "cell_type": "code",
      "source": [
        "numeros = [11, 21, 33, 14, 5, 76, 47]\n",
        "# resultado\n",
        "res = []\n",
        "for i in numeros:\n",
        "    # calcula o quadrado\n",
        "    res.append(i * i)\n",
        "print(res)"
      ],
      "metadata": {
        "colab": {
          "base_uri": "https://localhost:8080/"
        },
        "id": "wuLrpfFxC1Bh",
        "outputId": "bd218977-79da-461c-e95b-b597a4dbe7ac"
      },
      "execution_count": null,
      "outputs": [
        {
          "output_type": "stream",
          "name": "stdout",
          "text": [
            "[121, 441, 1089, 196, 25, 5776, 2209]\n"
          ]
        }
      ]
    },
    {
      "cell_type": "markdown",
      "source": [
        "## Exemplo 3.\n",
        "Remova strings vazias da lista [“Beto”, “Julia”, “Paula”, ””, “Isabela”]"
      ],
      "metadata": {
        "id": "5LxiJSlqFSgQ"
      }
    },
    {
      "cell_type": "code",
      "source": [
        "lista1 = ['Beto', 'Julia', 'Paula', '', 'Isabela']\n",
        "lista2=[]\n",
        "for i in lista1:\n",
        "  if i !='':\n",
        "    lista2.append(i)\n",
        "print(lista2)\n"
      ],
      "metadata": {
        "colab": {
          "base_uri": "https://localhost:8080/"
        },
        "id": "jlLxEhgRFbl7",
        "outputId": "c1dd816e-675e-4668-ddca-6ea846f9b1d3"
      },
      "execution_count": null,
      "outputs": [
        {
          "output_type": "stream",
          "name": "stdout",
          "text": [
            "['Beto', 'Julia', 'Paula', 'Isabela']\n"
          ]
        }
      ]
    },
    {
      "cell_type": "code",
      "source": [
        "lista1 = ['Beto', '','Julia', 'Paula', '', 'Isabela','']\n",
        "for i in lista1:\n",
        "  if i =='':\n",
        "    lista1.remove(i)\n",
        "print(lista1)\n"
      ],
      "metadata": {
        "colab": {
          "base_uri": "https://localhost:8080/"
        },
        "id": "raoUvtJbMS7a",
        "outputId": "71b6bb71-538b-4031-848f-6bad3a24f7f6"
      },
      "execution_count": null,
      "outputs": [
        {
          "output_type": "stream",
          "name": "stdout",
          "text": [
            "['Beto', 'Julia', 'Paula', 'Isabela']\n"
          ]
        }
      ]
    },
    {
      "cell_type": "markdown",
      "source": [
        "## Exemplo 4.\n",
        "Adicionar item 50 à lista lista1 = [10, 20, 25, 30, 40]"
      ],
      "metadata": {
        "id": "T_CbRd70DR2i"
      }
    },
    {
      "cell_type": "code",
      "source": [
        "lista1 = [10, 20, 25, 30, 40]\n",
        "lista1.append(50)\n",
        "print(lista1)"
      ],
      "metadata": {
        "colab": {
          "base_uri": "https://localhost:8080/"
        },
        "id": "CCk48bVmGLqo",
        "outputId": "5620af7b-cffd-4f0d-fbc6-bd04be85245c"
      },
      "execution_count": null,
      "outputs": [
        {
          "output_type": "stream",
          "name": "stdout",
          "text": [
            "[10, 20, 25, 30, 40, 50]\n"
          ]
        }
      ]
    },
    {
      "cell_type": "markdown",
      "source": [
        "## Exemplo 5.\n",
        "Remover o item 50 da lista lista1 = [10, 20, 25, 30, 40, 50]"
      ],
      "metadata": {
        "id": "0q_KzE1qcoCl"
      }
    },
    {
      "cell_type": "code",
      "source": [
        "lista1 = [10, 20, 25, 30, 40, 50]\n",
        "lista1.remove(50)\n",
        "print(lista1)"
      ],
      "metadata": {
        "colab": {
          "base_uri": "https://localhost:8080/"
        },
        "id": "U27uthe6cvCs",
        "outputId": "820fb4a9-fbe8-4e79-8be6-851c59ffc8b6"
      },
      "execution_count": 8,
      "outputs": [
        {
          "output_type": "stream",
          "name": "stdout",
          "text": [
            "[10, 20, 25, 30, 40]\n"
          ]
        }
      ]
    }
  ]
}