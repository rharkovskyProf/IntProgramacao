{
  "nbformat": 4,
  "nbformat_minor": 0,
  "metadata": {
    "colab": {
      "provenance": [],
      "authorship_tag": "ABX9TyPproFWtydXIJrsfCqM1A2S",
      "include_colab_link": true
    },
    "kernelspec": {
      "name": "python3",
      "display_name": "Python 3"
    },
    "language_info": {
      "name": "python"
    }
  },
  "cells": [
    {
      "cell_type": "markdown",
      "metadata": {
        "id": "view-in-github",
        "colab_type": "text"
      },
      "source": [
        "<a href=\"https://colab.research.google.com/github/rharkovskyProf/IntProgramacao/blob/main/List%C3%A3o_Basico0.ipynb\" target=\"_parent\"><img src=\"https://colab.research.google.com/assets/colab-badge.svg\" alt=\"Open In Colab\"/></a>"
      ]
    },
    {
      "cell_type": "code",
      "execution_count": null,
      "metadata": {
        "id": "XDbvFiqJVekh"
      },
      "outputs": [],
      "source": [
        "# 1.\tEscreva um programa que imprima a frase “Viva o Bob!!”\n",
        "# 2.\tEscreva um código para achar o máximo de 2 números a e b. Coloque os valores de a e b no código. Imprima o maior valor\n",
        "\n",
        "# 1. Imprimir \"Viva o Bob!!\"\n",
        "print(\"Viva o Bob!!\")\n",
        "\n",
        "# 2. Encontrar o máximo de dois números\n",
        "a = 10\n",
        "b = 5\n",
        "\n",
        "if a > b:\n",
        "  print(a)\n",
        "else:\n",
        "  print(b)\n"
      ]
    },
    {
      "cell_type": "code",
      "source": [
        "# 3.\tEscreva o mesmo código, lendo os números como parâmetros de entrada (use input). Imprima o maior valor.\n",
        "# 4.\tEscreva o mesmo código, lendo os números como parâmetros de entrada (use input), prevendo a possibilidade de os números serem iguais. Imprima o maior valor, ou a frase “Os números são iguais e tem o valor x”.\n",
        "# 5.\tEscreva um programa que imprima os múltiplos de 3 até um valor lido “N”.\n",
        "\n",
        "# 3. Encontrar o máximo de dois números com entrada do usuário\n",
        "a = int(input(\"Digite o primeiro número: \"))\n",
        "b = int(input(\"Digite o segundo número: \"))\n",
        "\n",
        "if a > b:\n",
        "  print(a)\n",
        "else:\n",
        "  print(b)\n",
        "\n",
        "\n",
        "# 4. Encontrar o máximo de dois números com entrada do usuário, prevendo números iguais\n",
        "a = int(input(\"Digite o primeiro número: \"))\n",
        "b = int(input(\"Digite o segundo número: \"))\n",
        "\n",
        "if a > b:\n",
        "  print(a)\n",
        "elif b > a:\n",
        "  print(b)\n",
        "else:\n",
        "  print(f\"Os números são iguais e têm o valor {a}\")\n",
        "\n",
        "\n",
        "# 5. Imprimir múltiplos de 3 até um valor N\n",
        "n = int(input(\"Digite o valor de N: \"))\n",
        "\n",
        "for i in range(1, n + 1):\n",
        "  if i % 3 == 0:\n",
        "    print(i)\n"
      ],
      "metadata": {
        "id": "nvP-KfXsfXjf"
      },
      "execution_count": null,
      "outputs": []
    },
    {
      "cell_type": "code",
      "source": [
        "# 6.\tEscreva o mesmo programa imprimindo em separado aqueles múltiplo de 3 que também são múltiplos de 2.(ex.: 3 – múltiplo de 3 ; 6 múltiplo de 3 e 2, etc...)\n",
        "# 7.\tEscreva um código que leia um texto e o imprima, até que o texto lido seja igual a “Sair”.\n",
        "# 8.\tEscreva um código que leia uma letra e o imprima “a letra lida foi <letra>”, até que a letra lida seja igual a “X”.\n",
        "\n",
        "# 6. Imprimir múltiplos de 3 e múltiplos de 3 e 2 até um valor N\n",
        "n = int(input(\"Digite o valor de N: \"))\n",
        "\n",
        "for i in range(1, n + 1):\n",
        "  if i % 3 == 0:\n",
        "    print(f\"{i} múltiplo de 3\")\n",
        "    if i % 2 == 0:\n",
        "      print(f\"{i} múltiplo de 3 e 2\")\n",
        "\n",
        "\n",
        "# 7. Ler e imprimir texto até que seja \"Sair\"\n",
        "texto = \"\"\n",
        "while texto != \"Sair\":\n",
        "  texto = input(\"Digite um texto (ou 'Sair' para finalizar): \")\n",
        "  print(texto)\n",
        "\n",
        "\n",
        "# 8. Ler e imprimir letra até que seja \"X\"\n",
        "letra = \"\"\n",
        "while letra != \"X\":\n",
        "  letra = input(\"Digite uma letra (ou 'X' para finalizar): \")\n",
        "  print(f\"A letra lida foi {letra}\")\n"
      ],
      "metadata": {
        "id": "oI0A7VErfgeQ"
      },
      "execution_count": null,
      "outputs": []
    }
  ]
}