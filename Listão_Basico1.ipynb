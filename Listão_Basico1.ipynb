{
  "nbformat": 4,
  "nbformat_minor": 0,
  "metadata": {
    "colab": {
      "provenance": [],
      "authorship_tag": "ABX9TyP6mspafm0iiI+XcYEch190",
      "include_colab_link": true
    },
    "kernelspec": {
      "name": "python3",
      "display_name": "Python 3"
    },
    "language_info": {
      "name": "python"
    }
  },
  "cells": [
    {
      "cell_type": "markdown",
      "metadata": {
        "id": "view-in-github",
        "colab_type": "text"
      },
      "source": [
        "<a href=\"https://colab.research.google.com/github/rharkovskyProf/IntProgramacao/blob/main/List%C3%A3o_Basico1.ipynb\" target=\"_parent\"><img src=\"https://colab.research.google.com/assets/colab-badge.svg\" alt=\"Open In Colab\"/></a>"
      ]
    },
    {
      "cell_type": "code",
      "source": [
        "#-- SAUDAÇÃO GENTIL --\n",
        "#Faça um Programa que pergunte seu nome e em que turno você estuda.\n",
        "#Peça para digitar M-matutino ou V-Vespertino ou N- Noturno. Imprima a mensagem\n",
        "#\"Bom Dia, <Fulano>!\", \"Boa Tarde, <Fulano>!\" ou \"Boa Noite, <Fulano>!\" ou\n",
        "#em caso de erro \"Valor Inválido!\", conforme o caso.\n",
        "\n",
        "nome = input(\"Digite seu nome: \")\n",
        "turno = input(\"Em que turno você estuda? (M-matutino ou V-Vespertino ou N- Noturno): \")\n",
        "\n",
        "if turno == 'M':\n",
        "  print(f\"Bom Dia, {nome}!\")\n",
        "elif turno == 'V':\n",
        "  print(f\"Boa Tarde, {nome}!\")\n",
        "elif turno == 'N':\n",
        "  print(f\"Boa Noite, {nome}!\")\n",
        "else:\n",
        "  print(f\"Valor Inválido!\")\n"
      ],
      "metadata": {
        "id": "Y38Y3bWcEFSO"
      },
      "execution_count": null,
      "outputs": []
    },
    {
      "cell_type": "code",
      "source": [
        "# -- GÊNERO --\n",
        "# Faça um Programa que fique lendo um caractere e verificando se a letra\n",
        "# digitada é \"F\" ou \"M\", escrevendo: F - Feminino, M - Masculino, N - Neutro ou\n",
        "# senão \"Genero Inválido\". o programa deve terminar se o usuário digitar 'X'\n",
        "\n",
        "while True:\n",
        "  genero = input(\"Digite seu gênero (F/M/N ou X para sair): \").upper()\n",
        "\n",
        "  if genero == 'F':\n",
        "    print(\"F - Feminino\")\n",
        "  elif genero == 'M':\n",
        "    print(\"M - Masculino\")\n",
        "  elif genero == 'N':\n",
        "    print(\"N - Neutro\")\n",
        "  elif genero == 'X':\n",
        "    break\n",
        "  else:\n",
        "    print(\"Gênero Inválido\")\n"
      ],
      "metadata": {
        "id": "9kWcqEG_Fvq8"
      },
      "execution_count": null,
      "outputs": []
    },
    {
      "cell_type": "code",
      "source": [
        "# -- GÊNERO 2--\n",
        "# Faça um Programa que fique lendo um caractere e verificando se a letra\n",
        "# digitada é \"F\" ou \"M\", escrevendo: F - Feminino, M - Masculino, N - Neutro ou\n",
        "# senão \"Genero Inválido\". o programa deve terminar se o usuário digitar 'X' e\n",
        "# exibir a quantidade entrada de cada Gênero, incluindo os inválidos.\n",
        "\n",
        "feminino_count = 0\n",
        "masculino_count = 0\n",
        "neutro_count = 0\n",
        "invalido_count = 0\n",
        "\n",
        "while True:\n",
        "  genero = input(\"Digite seu gênero (F/M/N ou X para sair): \").upper()\n",
        "\n",
        "  if genero == 'F':\n",
        "    print(\"F - Feminino\")\n",
        "    feminino_count += 1\n",
        "  elif genero == 'M':\n",
        "    print(\"M - Masculino\")\n",
        "    masculino_count += 1\n",
        "  elif genero == 'N':\n",
        "    print(\"N - Neutro\")\n",
        "    neutro_count += 1\n",
        "  elif genero == 'X':\n",
        "    break\n",
        "  else:\n",
        "    print(\"Gênero Inválido\")\n",
        "    invalido_count += 1\n",
        "\n",
        "print(\"\\nQuantidade de entradas por gênero:\")\n",
        "print(\"Feminino:\", feminino_count)\n",
        "print(\"Masculino:\", masculino_count)\n",
        "print(\"Neutro:\", neutro_count)\n",
        "print(\"Inválido:\", invalido_count)\n"
      ],
      "metadata": {
        "id": "HpIV5xRgGTt5"
      },
      "execution_count": null,
      "outputs": []
    },
    {
      "cell_type": "code",
      "source": [
        "# -- VOGAL ---\n",
        "# Faça um Programa que verifique se uma letra digitada é vogal ou consoante.\n",
        "# (dica: utilize uma string com as 5 vogais e verifique se a letra lida faz parte da string)\n",
        "\n",
        "letra = input(\"Digite uma letra: \").lower()\n",
        "vogais = \"aeiou\"\n",
        "\n",
        "if letra in vogais:\n",
        "  print(\"A letra digitada é uma vogal.\")\n",
        "else:\n",
        "  print(\"A letra digitada é uma consoante.\")\n"
      ],
      "metadata": {
        "id": "_LoLXluEHDkY"
      },
      "execution_count": null,
      "outputs": []
    },
    {
      "cell_type": "code",
      "source": [
        "# -- DOWNLOAD DE ARQUIVOS ---\n",
        "# Faça um programa que peça o tamanho de um arquivo para download (em MB) e a\n",
        "# velocidade de um link de Internet (em Mbps), calcule e informe o tempo aproximado\n",
        "# de download do arquivo usando este link em segundos\n",
        "# Considere 1B (byte) = 8b (bits) e que o tempo de download = tamanho / velocidade\n",
        "\n",
        "tamanho_arq_mb = float(input(\"Digite o tamanho do arquivo para download (em MB): \"))\n",
        "vel_internet_mbps = float(input(\"Digite a velocidade da internet (em Mbps): \"))\n",
        "\n",
        "tamanho_arq_bits = tamanho_arq_mb * 8 * 1024 * 1024  # Convertendo MB para bits\n",
        "tempo_download_seg = tamanho_arq_bits / (vel_internet_mbps * 1024 * 1024)\n",
        "\n",
        "print(f\"O tempo aproximado de download é de {tempo_download_seg:.2f} segundos.\")\n"
      ],
      "metadata": {
        "id": "AmhvwZUYHdcC"
      },
      "execution_count": null,
      "outputs": []
    },
    {
      "cell_type": "code",
      "source": [
        "# -- DIA DA SEMANA --\n",
        "# Faça um Programa que lendo um número e exiba o dia correspondente da semana.\n",
        "#  (1-Domingo, 2- Segunda, .. 7 - Sábado) ou invalido caso outro valor seja entrado.\n",
        "#  O programa termina quando o usuário digitar 0.\n",
        "\n",
        "while True:\n",
        "  numero_dia = int(input(\"Digite um número do dia da semana (1-7, ou 0 para sair): \"))\n",
        "\n",
        "  if numero_dia == 0:\n",
        "    break\n",
        "  elif numero_dia == 1:\n",
        "    print(\"Domingo\")\n",
        "  elif numero_dia == 2:\n",
        "    print(\"Segunda-feira\")\n",
        "  elif numero_dia == 3:\n",
        "    print(\"Terça-feira\")\n",
        "  elif numero_dia == 4:\n",
        "    print(\"Quarta-feira\")\n",
        "  elif numero_dia == 5:\n",
        "    print(\"Quinta-feira\")\n",
        "  elif numero_dia == 6:\n",
        "    print(\"Sexta-feira\")\n",
        "  elif numero_dia == 7:\n",
        "    print(\"Sábado\")\n",
        "  else:\n",
        "    print(\"Valor inválido!\")\n"
      ],
      "metadata": {
        "id": "qMixGjZXJv6L"
      },
      "execution_count": null,
      "outputs": []
    },
    {
      "cell_type": "code",
      "source": [
        "# -- DATA VALIDA --\n",
        "# Faça um Programa que peça uma data no formato dd/mm/aaaa e determine se a mesma é uma data válida.\n",
        "\n",
        "data = input(\"Digite uma data no formato dd/mm/aaaa: \")\n",
        "dia = int(data[:2]) # separando dia e tornando numerico\n",
        "mes = int(data[3:5]) # separando mes e tornando numerico\n",
        "ano = int(data[6:]) # separando ano e tornando numerico\n",
        "\n",
        "# iniciando variaveis boolanas\n",
        "diaOK = False\n",
        "mesOK = False\n",
        "anoOK = False\n",
        "\n",
        "# testando mes\n",
        "mesOK = (1 <= mes <= 12)\n",
        "\n",
        "# Testando dia\n",
        "diaOK = mes in [4, 6, 9, 11] and (1 <= dia <=30) or \\\n",
        "        mes in [1, 3, 5, 7, 8, 10, 12] and (1 <= dia <= 31) or \\\n",
        "        mes == 2 and (1 <= dia <= 29)\n",
        "# testando ano\n",
        "anoOK = (1900 <= ano <= 2024)\n",
        "\n",
        "if diaOK and mesOK and anoOK:\n",
        "  print(\"Data válida!\")\n",
        "else:\n",
        "  print(\"Data inválida!\")\n"
      ],
      "metadata": {
        "id": "Il7w9I08MrMc"
      },
      "execution_count": null,
      "outputs": []
    },
    {
      "cell_type": "code",
      "source": [
        "# -- FIBONACCI --\n",
        "# A série de Fibonacci é formada pela sequência 1,1,2,3,5,8,13,21,34, 55, ...\n",
        "# Faça um programa capaz de gerar a série até o n−ésimo termo.\n",
        "# (na série de Fibonacci, cada elemento é a soma dos 2 anteriores, isto é,\n",
        "# o elemento n é elemento(n-1) + elemento (n-2) ).\n",
        "\n",
        "# Sequência de Fibonacci:\n",
        "a = 0 # 1o termo\n",
        "b = 1 # 2o termo\n",
        "n = int(input(\"Digite o n-ésimo termo desejado: \"))\n",
        "\n",
        "if n <= 0:\n",
        "  print(\"Por favor, digite um número inteiro positivo.\")\n",
        "elif n == 1:\n",
        "  print(f\"Sequência de Fibonacci até o {n}º termo:\")\n",
        "  print(a)\n",
        "else:\n",
        "  print(f\"Sequência de Fibonacci até o {n}º termo:\")\n",
        "  print(a)\n",
        "  print(b)\n",
        "  for i in range(2, n):\n",
        "    c = a + b\n",
        "    print(c)\n",
        "    a = b\n",
        "    b = c\n"
      ],
      "metadata": {
        "id": "UIbgM6IpSEQI"
      },
      "execution_count": null,
      "outputs": []
    },
    {
      "cell_type": "code",
      "source": [
        "# -- PRIMO --\n",
        "# Faça um programa que peça um número inteiro e determine se ele é ou não um número primo.\n",
        "# Um número primo é aquele que é divisível somente por ele mesmo e por 1.\n",
        "# Dica: ser divisível significa que o resto da divisão é zero (numero%divisor ==0)\n",
        "\n",
        "numero = int(input(\"Digite um número inteiro: \"))\n",
        "\n",
        "if numero <= 1:\n",
        "  print(f\"{numero} não é um número primo.\")\n",
        "else:\n",
        "  primo = True\n",
        "  for i in range(2, numero): # intervalo de teste exclui \"1\" e o próprio numero\n",
        "    if numero % i == 0: # teste se há algum divisor para o numero\n",
        "      primo = False # se há não é primo\n",
        "      break\n",
        "\n",
        "  if primo:\n",
        "    print(f\"{numero} é um número primo.\")\n",
        "  else:\n",
        "    print(f\"{numero} não é um número primo.\")\n"
      ],
      "metadata": {
        "id": "h8kUbK44S9_C"
      },
      "execution_count": null,
      "outputs": []
    },
    {
      "cell_type": "code",
      "source": [
        "# Escreva um algoritmo que imprima o seguinte trecho da letra de “let it be” de autoria dos Beatles, utilizando loops:\n",
        "# let it be,\n",
        "# let it be,\n",
        "# let it be,\n",
        "# let it be,\n",
        "# there will be an answer,\n",
        "# let it be,\n",
        "# let it be,\n",
        "# let it be,\n",
        "# let it be,\n",
        "# let it be,\n",
        "# whisper words of wisdom, let it be\n",
        "\n",
        "for i in range(4):\n",
        "  print(\"let it be,\")\n",
        "\n",
        "print(\"there will be an answer,\")\n",
        "\n",
        "for iter in range(4):\n",
        "  print(\"let it be,\")\n",
        "\n",
        "print(\"let it be,\")\n",
        "print(\"whisper words of wisdom, let it be\")\n"
      ],
      "metadata": {
        "id": "inLju4tuT5QI"
      },
      "execution_count": null,
      "outputs": []
    }
  ]
}