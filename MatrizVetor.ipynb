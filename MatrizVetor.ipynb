{
  "nbformat": 4,
  "nbformat_minor": 0,
  "metadata": {
    "colab": {
      "provenance": [],
      "include_colab_link": true
    },
    "kernelspec": {
      "name": "python3",
      "display_name": "Python 3"
    },
    "language_info": {
      "name": "python"
    }
  },
  "cells": [
    {
      "cell_type": "markdown",
      "metadata": {
        "id": "view-in-github",
        "colab_type": "text"
      },
      "source": [
        "<a href=\"https://colab.research.google.com/github/rharkovskyProf/IntProgramacao/blob/main/MatrizVetor.ipynb\" target=\"_parent\"><img src=\"https://colab.research.google.com/assets/colab-badge.svg\" alt=\"Open In Colab\"/></a>"
      ]
    },
    {
      "cell_type": "markdown",
      "source": [
        "# MATRIZ"
      ],
      "metadata": {
        "id": "T7uQX-KZ3ejb"
      }
    },
    {
      "cell_type": "markdown",
      "source": [
        "## Exemplo 1 \n",
        "Escreva um programa que armazene 10 números inteiros em um vetor e exiba o \n",
        "maior e o menor valor armazenado."
      ],
      "metadata": {
        "id": "eerEFsVk3hbK"
      }
    },
    {
      "cell_type": "code",
      "execution_count": null,
      "metadata": {
        "colab": {
          "base_uri": "https://localhost:8080/"
        },
        "id": "dpu_Wm--1v6u",
        "outputId": "e22deefb-8487-489c-f2a8-6d31e54a1c26"
      },
      "outputs": [
        {
          "output_type": "stream",
          "name": "stdout",
          "text": [
            "Entre com um numero: 23\n",
            "Entre com um numero: 45\n",
            "Entre com um numero: 2\n",
            "Entre com um numero: 67\n",
            "Entre com um numero: 4\n",
            "Entre com um numero: 9\n",
            "Entre com um numero: 56\n",
            "Entre com um numero: 7\n",
            "Entre com um numero: 8\n",
            "Entre com um numero: 6\n",
            "[23, 45, 2, 67, 4, 9, 56, 7, 8, 6]\n",
            "o maior é 67\n"
          ]
        }
      ],
      "source": [
        "# cria um vetor com 10 posiçoes iguais a 0\n",
        "vet = [0]*10 # equivale a vet = [0,0,0,0,0,0,0,0,0,0]\n",
        "\n",
        "# le os 10 numeros no vetor\n",
        "for i in range(10):\n",
        "  vet[i] = int(input('Entre com um numero: '))\n",
        "print(vet)\n",
        "\n",
        "# estabelece maior e menor valor\n",
        "maior = menor = vet[0]\n",
        "for i in range(1,10):\n",
        "  if vet[i] > maior:\n",
        "    maior=vet[i]\n",
        "  if vet[i] < menor:\n",
        "    menor=vet[i]\n",
        "print(f'o maior é {maior}, e o menor é {menor}')"
      ]
    },
    {
      "cell_type": "markdown",
      "source": [
        "## Exemplo 2 \n",
        "Imprimir uma matriz 3 x 3 com valores sequenciais, com caracter \"X\""
      ],
      "metadata": {
        "id": "V7-iZ28k3RCF"
      }
    },
    {
      "cell_type": "code",
      "source": [
        "# programa que cria um tabuleiro do jogo da velha\n",
        "print(f'+---+---+---+') # imprime linha superior\n",
        "tab = ['X'*3,'X'*3, 'X'*3]\n",
        "for i in range(3):\n",
        "  print(f'| {tab[i][0]} | {tab[i][1]} | {tab[i][2]} |') # imprime dados\n",
        "  print(f'+---+---+---+') # imprime linha inferior "
      ],
      "metadata": {
        "colab": {
          "base_uri": "https://localhost:8080/"
        },
        "id": "io0fWufd3Bfo",
        "outputId": "0bbaa4c3-465c-4191-bcce-c7b3a4598c61"
      },
      "execution_count": 1,
      "outputs": [
        {
          "output_type": "stream",
          "name": "stdout",
          "text": [
            "+---+---+---+\n",
            "| X | X | X |\n",
            "+---+---+---+\n",
            "| X | X | X |\n",
            "+---+---+---+\n",
            "| X | X | X |\n",
            "+---+---+---+\n"
          ]
        }
      ]
    }
  ]
}