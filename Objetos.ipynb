{
  "nbformat": 4,
  "nbformat_minor": 0,
  "metadata": {
    "colab": {
      "provenance": [],
      "include_colab_link": true
    },
    "kernelspec": {
      "name": "python3",
      "display_name": "Python 3"
    },
    "language_info": {
      "name": "python"
    }
  },
  "cells": [
    {
      "cell_type": "markdown",
      "metadata": {
        "id": "view-in-github",
        "colab_type": "text"
      },
      "source": [
        "<a href=\"https://colab.research.google.com/github/rharkovskyProf/IntProgramacao/blob/main/Objetos.ipynb\" target=\"_parent\"><img src=\"https://colab.research.google.com/assets/colab-badge.svg\" alt=\"Open In Colab\"/></a>"
      ]
    },
    {
      "cell_type": "markdown",
      "source": [
        "### Criando Classes e Objetos"
      ],
      "metadata": {
        "id": "1iIVG4bTw2WU"
      }
    },
    {
      "cell_type": "code",
      "source": [
        "class personagemMarvel:\n",
        "  def __init__(self, nome):\n",
        "    self.nome=nome\n",
        "  def __str__(self):\n",
        "    return self.nome\n",
        "\n",
        "personagem1 = personagemMarvel(\"Thor\")\n",
        "personagem2 = personagemMarvel(\"IronMan\")\n",
        "print(personagem1)\n",
        "print(personagem2)"
      ],
      "metadata": {
        "colab": {
          "base_uri": "https://localhost:8080/"
        },
        "id": "xnCu_3nOqoUP",
        "outputId": "7c0772b9-cbc6-44a8-84a6-91cc0fa28c52"
      },
      "execution_count": null,
      "outputs": [
        {
          "output_type": "stream",
          "name": "stdout",
          "text": [
            "Thor\n",
            "IronMan\n"
          ]
        }
      ]
    },
    {
      "cell_type": "markdown",
      "source": [
        "### Parâmetro self\n"
      ],
      "metadata": {
        "id": "1A04nWomcuB4"
      }
    },
    {
      "cell_type": "code",
      "source": [
        "class Calculadora:\n",
        "    def __init__(self, valor_inicial):\n",
        "        self.valor_interno = valor_inicial\n",
        "\n",
        "    def adiciona(self, numero):\n",
        "        # não podemos chamar a variável \"valor_interno\" sem \"self\" porque \"valor\" é um atributo de Calculadora\n",
        "        return self.valor_interno + numero;\n",
        "\n",
        "total = Calculadora(10)\n",
        "print(\"resultado = %d\" % total.adiciona(3)) # self pegará o valor 5 de valor_interno e o valor 3 irá para numero"
      ],
      "metadata": {
        "colab": {
          "base_uri": "https://localhost:8080/"
        },
        "id": "I50EGZsTcyOR",
        "outputId": "bc88a6ee-7069-43c0-db37-9270a385d931"
      },
      "execution_count": null,
      "outputs": [
        {
          "output_type": "stream",
          "name": "stdout",
          "text": [
            "resultado = 13\n"
          ]
        }
      ]
    },
    {
      "cell_type": "markdown",
      "source": [
        "### Método \\_\\_init__"
      ],
      "metadata": {
        "id": "Aze-yRxxcGvp"
      }
    },
    {
      "cell_type": "code",
      "source": [
        "class Carro:\n",
        "    def __init__(self):\n",
        "        self.cor = \"preto\"\n",
        "\n",
        "# um novo carro é criado com cor = \"preto\"\n",
        "carro_1 = Carro()\n",
        "print(carro_1.cor)\n",
        "\n",
        "# alterando o valor da color de carro_1 para \"branco\"\n",
        "carro_1.cor = \"branco\"\n",
        "print(carro_1.cor)"
      ],
      "metadata": {
        "colab": {
          "base_uri": "https://localhost:8080/"
        },
        "id": "-Vc0mmzscHhv",
        "outputId": "486735a0-8900-4633-e08c-7e734b3365ba"
      },
      "execution_count": null,
      "outputs": [
        {
          "output_type": "stream",
          "name": "stdout",
          "text": [
            "preto\n",
            "branco\n"
          ]
        }
      ]
    },
    {
      "cell_type": "markdown",
      "source": [
        "### Exemplo de classe e métodos"
      ],
      "metadata": {
        "id": "kODkaBrR9I4t"
      }
    },
    {
      "cell_type": "code",
      "source": [
        "class listadeNotas:\n",
        "  def __init__(self, notas):\n",
        "    self.notas=notas\n",
        "  def __str__(self):\n",
        "    return \",\".join([str(n) for n in self.notas])\n",
        "  def soma(self):\n",
        "    return sum(self.notas)\n",
        "  def media(self):\n",
        "    return sum(self.notas)/len(self.notas)\n",
        "\n",
        "minhaNotas = listadeNotas ([9,6,8,5,10,9,8])\n",
        "print(f'a soma de {minhaNotas} é {minhaNotas.soma()}')\n",
        "print(f'a média de {minhaNotas} é {minhaNotas.media():.2f}')"
      ],
      "metadata": {
        "colab": {
          "base_uri": "https://localhost:8080/"
        },
        "id": "UgpdYoVF16Ag",
        "outputId": "c2ee2bc5-5947-4453-bd85-8d77f5618399"
      },
      "execution_count": null,
      "outputs": [
        {
          "output_type": "stream",
          "name": "stdout",
          "text": [
            "a soma de 9,6,8,5,10,9,8 é 55\n",
            "a média de 9,6,8,5,10,9,8 é 7.86\n"
          ]
        }
      ]
    },
    {
      "cell_type": "markdown",
      "source": [
        "### Atributos de Classe"
      ],
      "metadata": {
        "id": "y7GsGfIE9Q0r"
      }
    },
    {
      "cell_type": "code",
      "source": [
        "class Pessoa:\n",
        "  num_pessoas = 0\n",
        "  def __init__(self, nome):\n",
        "    self.nome=nome\n",
        "    Pessoa.num_pessoas +=1\n"
      ],
      "metadata": {
        "id": "Ek12m1O69Gaa"
      },
      "execution_count": null,
      "outputs": []
    },
    {
      "cell_type": "markdown",
      "source": [
        "## Encapsulamento"
      ],
      "metadata": {
        "id": "NcqcOqeOvR-V"
      }
    },
    {
      "cell_type": "code",
      "source": [
        "class Conta:\n",
        "\n",
        "    def __init__(self, numero, saldo):\n",
        "        self.numero = numero\n",
        "        self.__saldo = saldo\n",
        "\n",
        "conta1234 = Conta(1234, 750.84)\n",
        "conta1234.numero\n"
      ],
      "metadata": {
        "colab": {
          "base_uri": "https://localhost:8080/"
        },
        "id": "KgVMfK_uvXqP",
        "outputId": "c77f2502-a808-4af4-a5da-40cd89b70f05"
      },
      "execution_count": null,
      "outputs": [
        {
          "output_type": "execute_result",
          "data": {
            "text/plain": [
              "1234"
            ]
          },
          "metadata": {},
          "execution_count": 2
        }
      ]
    },
    {
      "cell_type": "code",
      "source": [
        "conta1234.__saldo # dá erro , pois o atributo não é público"
      ],
      "metadata": {
        "id": "CTDebbqk4B2_"
      },
      "execution_count": null,
      "outputs": []
    },
    {
      "cell_type": "markdown",
      "source": [
        "Para acessar um atributo não publico, utilizamos o método público consulta_saldo"
      ],
      "metadata": {
        "id": "lNyltgoZ4M4d"
      }
    },
    {
      "cell_type": "code",
      "source": [
        "class Conta:\n",
        "\n",
        "    def __init__(self, numero, saldo):\n",
        "        self.__numero = numero\n",
        "        self.__saldo = saldo\n",
        "\n",
        "    def consulta_saldo(self):\n",
        "        return self.__saldo\n",
        "\n",
        "conta1234 = Conta(1234, 750.84)\n",
        "conta1234.consulta_saldo()"
      ],
      "metadata": {
        "colab": {
          "base_uri": "https://localhost:8080/"
        },
        "id": "EeaDEKL_voie",
        "outputId": "086790cc-c6b7-45f5-ec60-6e1dc0a9097b"
      },
      "execution_count": null,
      "outputs": [
        {
          "output_type": "execute_result",
          "data": {
            "text/plain": [
              "750.84"
            ]
          },
          "metadata": {},
          "execution_count": 5
        }
      ]
    },
    {
      "cell_type": "code",
      "source": [
        "# método alternativo par aacessar um atributo não público\n",
        "conta1234._Conta__saldo"
      ],
      "metadata": {
        "colab": {
          "base_uri": "https://localhost:8080/"
        },
        "id": "xB1T32nnvoQm",
        "outputId": "23fed712-599f-4dc5-b376-7b31b261d462"
      },
      "execution_count": null,
      "outputs": [
        {
          "output_type": "execute_result",
          "data": {
            "text/plain": [
              "750.84"
            ]
          },
          "metadata": {},
          "execution_count": 6
        }
      ]
    },
    {
      "cell_type": "markdown",
      "source": [
        "### Herança"
      ],
      "metadata": {
        "id": "FnaNS_YJEt7Z"
      }
    },
    {
      "cell_type": "code",
      "source": [
        "class Pessoa:\n",
        "  num_pessoas = 0\n",
        "  def __init__(self, nome, login, senha):\n",
        "    self.__nome=nome\n",
        "    self.__login=login\n",
        "    self.senha=senha\n",
        "    Pessoa.num_pessoas +=1\n",
        "\n",
        "  def consulta_nome(self):\n",
        "    return self.__nome\n",
        "\n",
        "  def consulta_dados(self):\n",
        "    record = 'nome:'+str(self.__nome) +  ' - login:'+str(self.__login)\n",
        "    return  record\n",
        "\n",
        "# classes Aluno\n",
        "class Aluno(Pessoa): # Indica que a classe Aluno herda da classe Pessoa\n",
        "  def __init__(self, nome, login, senha, curso):\n",
        "    super().__init__(nome, login, senha) # Invoca o método init da super classe (ou classe base, Pessoa).\n",
        "    self.__curso=curso\n",
        "\n",
        "  def consulta_curso(self):\n",
        "    return self.__curso\n",
        "\n",
        "# classes Professor\n",
        "class Professor(Pessoa): # Indica que a classe Aluno herda da classe Pessoa\n",
        "  def __init__(self, nome, login, senha, titulacao):\n",
        "    super().__init__( nome, login, senha) # Invoca o método init da super classe (ou classe base, Pessoa).\n",
        "    self.__titulacao=titulacao\n",
        "\n",
        "  def consulta_titulacao(self):\n",
        "      return self.__titulacao"
      ],
      "metadata": {
        "id": "EaycYiGmEwpl"
      },
      "execution_count": null,
      "outputs": []
    },
    {
      "cell_type": "code",
      "source": [
        "aluno1 = Aluno('Victor','victor@rj.senac.br', '12345', 'Programação')\n",
        "aluno2 = Aluno('Thamires','thamires@rj.senac.br', '12345', 'Banco de Dados I')\n",
        "prof1 = Professor('Roberto', 'roberto.harkovsky@rj.senac.br', '12345', 'MsC')\n",
        "\n",
        "print(aluno1.consulta_dados())\n",
        "print(aluno1.consulta_curso())\n",
        "print(aluno2.consulta_dados())\n",
        "print(aluno2.consulta_curso())\n",
        "print(prof1.consulta_nome())\n",
        "print(prof1.consulta_titulacao())"
      ],
      "metadata": {
        "colab": {
          "base_uri": "https://localhost:8080/"
        },
        "id": "IDiD1mGQHPwG",
        "outputId": "e7f61a6e-5608-4587-d1ae-daedfd43e9a0"
      },
      "execution_count": null,
      "outputs": [
        {
          "output_type": "stream",
          "name": "stdout",
          "text": [
            "nome:Victor - login:victor@rj.senac.br\n",
            "Programação\n",
            "nome:Thamires - login:thamires@rj.senac.br\n",
            "Banco de Dados I\n",
            "Roberto\n",
            "MsC\n"
          ]
        }
      ]
    },
    {
      "cell_type": "markdown",
      "source": [
        "## Polimorfismo"
      ],
      "metadata": {
        "id": "n56uAsur83LT"
      }
    },
    {
      "cell_type": "code",
      "source": [
        "class EntradaUniversidade:\n",
        "\n",
        "    def __init__(self):\n",
        "        pass\n",
        "\n",
        "    def permite_entrada(self, pessoa):\n",
        "        print(\"Pode entrar, \" + pessoa.consulta_nome())\n",
        "\n",
        "entrada = EntradaUniversidade()\n",
        "entrada.permite_entrada(prof1)"
      ],
      "metadata": {
        "colab": {
          "base_uri": "https://localhost:8080/"
        },
        "id": "GcTsgvoj83vf",
        "outputId": "2bb9c991-6814-4c95-b837-2b4c985be4c8"
      },
      "execution_count": null,
      "outputs": [
        {
          "output_type": "stream",
          "name": "stdout",
          "text": [
            "Pode entrar, Roberto\n"
          ]
        }
      ]
    },
    {
      "cell_type": "code",
      "source": [
        "# Classe Coordenador\n",
        "class Coordenador(Pessoa):\n",
        "    def __init__(self, nome, login, senha):\n",
        "        Pessoa.__init__(self, nome, login, senha)\n",
        "\n",
        "coord1 = Coordenador('Johnny', 'jy', 'j123')\n",
        "entrada.permite_entrada(coord1)"
      ],
      "metadata": {
        "colab": {
          "base_uri": "https://localhost:8080/"
        },
        "id": "TvtljFm986x2",
        "outputId": "8d0fe12b-faac-4469-8642-c1ffbdf6ead0"
      },
      "execution_count": null,
      "outputs": [
        {
          "output_type": "stream",
          "name": "stdout",
          "text": [
            "Pode entrar, Johnny\n"
          ]
        }
      ]
    },
    {
      "cell_type": "markdown",
      "source": [
        "### Abstração\n",
        "Absclass é a classe abstrata que herda da classe ABC do módulo abc. Ele contém um método abstrato task() e um método print() que são visíveis pelo usuário. Duas outras classes que herdam desta classe abstrata são test_class e example_class. Ambos têm seu próprio método task() (extensão do método abstrato).\n",
        "\n",
        "Depois que o usuário cria objetos das classes teste_class e exemplo_class e invoca o método task() para ambas, as definições ocultas dos métodos task() dentro de ambas as classes entram em ação. Essas definições ficam ocultas do usuário. O método abstrato task() da classe abstrata Absclass na verdade nunca é invocado.\n",
        "\n",
        "Mas quando o método print() é chamado para test_obj e example_obj, o método print() da Absclass é invocado, pois não é um método abstrato.\n",
        "\n",
        "Nota: Não podemos criar instâncias de uma classe abstrata. Isso gera um erro."
      ],
      "metadata": {
        "id": "BLodMTc5UNPp"
      }
    },
    {
      "cell_type": "code",
      "source": [
        "from abc import ABC, abstractmethod\n",
        "class Absclass(ABC): # Classe abstrata\n",
        "    def print(self,x):\n",
        "        print(\"Valor passado: \", x)\n",
        "    @abstractmethod\n",
        "    def task(self):\n",
        "        print(\"Dentro de Absclass task\")\n",
        "\n",
        "class teste_class(Absclass): # classe herdada de classe abstrata Absclass\n",
        "    def task(self):\n",
        "        print(\"Dentro de test_class task\")\n",
        "\n",
        "class exemplo_class(Absclass): # classe herdada de classe abstrata Absclass\n",
        "    def task(self):\n",
        "        print(\"Dentro de example_class task\")\n",
        "\n",
        "#objecttos da classe test_class criados\n",
        "test_obj = teste_class()\n",
        "test_obj.task()\n",
        "test_obj.print(100)\n",
        "\n",
        "#object of example_class created\n",
        "example_obj = exemplo_class()\n",
        "example_obj.task()\n",
        "example_obj.print(200)\n",
        "\n",
        "print(\"test_obj is instance of Absclass? \", isinstance(test_obj, Absclass))\n",
        "print(\"example_obj is instance of Absclass? \", isinstance(example_obj, Absclass))\n"
      ],
      "metadata": {
        "colab": {
          "base_uri": "https://localhost:8080/"
        },
        "id": "XPbi6H5JUQAS",
        "outputId": "061b1c97-1f02-4cf1-fb51-28ac5dcb6b75"
      },
      "execution_count": null,
      "outputs": [
        {
          "output_type": "stream",
          "name": "stdout",
          "text": [
            "Dentro de test_class task\n",
            "Valor passado:  100\n",
            "Dentro de example_class task\n",
            "Valor passado:  200\n",
            "test_obj is instance of Absclass?  True\n",
            "example_obj is instance of Absclass?  True\n"
          ]
        }
      ]
    },
    {
      "cell_type": "markdown",
      "source": [
        "## Associação, Agregação e Composição"
      ],
      "metadata": {
        "id": "sizWOm1SDpvz"
      }
    },
    {
      "cell_type": "code",
      "source": [
        "class Aluno(Pessoa):\n",
        "\n",
        "    def __init__(self, nome, login, senha, curso, orientador):\n",
        "        Pessoa.__init__(self, nome, login, senha)\n",
        "        self.__curso = curso\n",
        "        self.__orientador = orientador\n",
        "\n",
        "    def consulta_curso(self):\n",
        "        return self.__curso\n",
        "\n",
        "    def consulta_orientador(self):\n",
        "        return self.__orientador\n",
        "\n",
        "    def consulta_nome(self):\n",
        "        return self.nome"
      ],
      "metadata": {
        "id": "jE-TmYT1Dq0-"
      },
      "execution_count": null,
      "outputs": []
    },
    {
      "cell_type": "code",
      "source": [
        "professorBob = Professor('Roberto', 'robertoh', 'r123', 'Doutor')\n",
        "\n",
        "novoAluno = Aluno('Patricia', 'pat', 'p123', 'ADS', professorBob)"
      ],
      "metadata": {
        "id": "rwdaaeF_Dwxs"
      },
      "execution_count": null,
      "outputs": []
    },
    {
      "cell_type": "markdown",
      "source": [
        "## Agregação"
      ],
      "metadata": {
        "id": "mm4IhqMdJ6Ww"
      }
    },
    {
      "cell_type": "code",
      "source": [
        "# Classe Salary com o método público salário anual()\n",
        "class Salary:\n",
        "    def __init__(self, pay, bonus):\n",
        "        self.pay = pay\n",
        "        self.bonus = bonus\n",
        "\n",
        "    def annual_salary(self):\n",
        "        return (self.pay*12)+self.bonus\n",
        "\n",
        "# Classe EmployeeOne com método público total_sal()\n",
        "class EmployeeOne:\n",
        "    # Aqui o parâmetro \"sal\" refere-se a um objeto da classe Salary que\n",
        "    # passaremos como parâmetro posteriormente\n",
        "    def __init__(self, name, age, sal):\n",
        "        self.name = name\n",
        "        self.age = age\n",
        "\n",
        "        # inicializado o parametro \"sal\" parameter\"\n",
        "        self.agg_salary = sal   # Agregação\n",
        "\n",
        "    def total_sal(self):\n",
        "        return self.agg_salary.annual_salary()\n",
        "\n",
        "# Aqui estamos criando um objeto da classe Salary no qual estamos passando os parâmetros necessários\n",
        "salary = Salary(10000, 1500)\n",
        "\n",
        "# Agora passando o mesmo objeto Salay que criamos anteriormente como parâmetro para a classe EmployeeOne\n",
        "emp = EmployeeOne('Geek', 25, salary)\n",
        "\n",
        "print(emp.total_sal())"
      ],
      "metadata": {
        "colab": {
          "base_uri": "https://localhost:8080/"
        },
        "id": "1RpYlFzmJ9FE",
        "outputId": "d6ffeb26-49a6-490a-f7a1-0fee1fc6237e"
      },
      "execution_count": null,
      "outputs": [
        {
          "output_type": "stream",
          "name": "stdout",
          "text": [
            "121500\n"
          ]
        }
      ]
    },
    {
      "cell_type": "markdown",
      "source": [
        "## Composição"
      ],
      "metadata": {
        "id": "93XLA0jnG5qo"
      }
    },
    {
      "cell_type": "code",
      "source": [
        "# Classe Salary em que estamos declarando um método público annual_salary\n",
        "class Salary:\n",
        "    def __init__(self, pay, bonus):\n",
        "        self.pay = pay\n",
        "        self.bonus = bonus\n",
        "\n",
        "    def annual_salary(self):\n",
        "        return (self.pay*12)+self.bonus\n",
        "\n",
        "# Classe EmployeeOne que não herda a classe Salary\n",
        "# ainda utilizaremos o método salário anual utilizando Composição\n",
        "class EmployeeOne:\n",
        "    def __init__(self, name, age, pay, bonus):\n",
        "        self.name = name\n",
        "        self.age = age\n",
        "        self.obj_salary = Salary(pay, bonus)  # composition\n",
        "\n",
        "    def total_sal(self):\n",
        "        return self.obj_salary.annual_salary()\n",
        "\n",
        "# Criando o objeto\n",
        "emp = EmployeeOne('Geek', 25, 10000, 1500)\n",
        "print(emp.total_sal())"
      ],
      "metadata": {
        "id": "8xKIqgeiG776"
      },
      "execution_count": null,
      "outputs": []
    }
  ]
}