{
  "nbformat": 4,
  "nbformat_minor": 0,
  "metadata": {
    "colab": {
      "provenance": [],
      "include_colab_link": true
    },
    "kernelspec": {
      "name": "python3",
      "display_name": "Python 3"
    },
    "language_info": {
      "name": "python"
    }
  },
  "cells": [
    {
      "cell_type": "markdown",
      "metadata": {
        "id": "view-in-github",
        "colab_type": "text"
      },
      "source": [
        "<a href=\"https://colab.research.google.com/github/rharkovskyProf/IntProgramacao/blob/main/Objetos.ipynb\" target=\"_parent\"><img src=\"https://colab.research.google.com/assets/colab-badge.svg\" alt=\"Open In Colab\"/></a>"
      ]
    },
    {
      "cell_type": "markdown",
      "source": [
        "## Encapsulamento"
      ],
      "metadata": {
        "id": "NcqcOqeOvR-V"
      }
    },
    {
      "cell_type": "code",
      "source": [
        "class Conta:\n",
        "\n",
        "    def __init__(self, numero, saldo):\n",
        "        self.numero = numero\n",
        "        self.__saldo = saldo\n",
        "\n",
        "conta1234 = Conta(1234, 750.84)\n",
        "conta1234.numero\n"
      ],
      "metadata": {
        "colab": {
          "base_uri": "https://localhost:8080/"
        },
        "id": "KgVMfK_uvXqP",
        "outputId": "215c921b-1527-4344-eac4-5f049bb3bd8f"
      },
      "execution_count": null,
      "outputs": [
        {
          "output_type": "execute_result",
          "data": {
            "text/plain": [
              "1234"
            ]
          },
          "metadata": {},
          "execution_count": 1
        }
      ]
    },
    {
      "cell_type": "code",
      "source": [
        "conta1234.__saldo # dá erro , pois o atributo não é público"
      ],
      "metadata": {
        "id": "CTDebbqk4B2_",
        "colab": {
          "base_uri": "https://localhost:8080/",
          "height": 141
        },
        "outputId": "0f341acf-c372-4b4d-96ba-72273187c33e"
      },
      "execution_count": null,
      "outputs": [
        {
          "output_type": "error",
          "ename": "AttributeError",
          "evalue": "'Conta' object has no attribute '__saldo'",
          "traceback": [
            "\u001b[0;31m---------------------------------------------------------------------------\u001b[0m",
            "\u001b[0;31mAttributeError\u001b[0m                            Traceback (most recent call last)",
            "\u001b[0;32m<ipython-input-2-262289d7c5b8>\u001b[0m in \u001b[0;36m<cell line: 1>\u001b[0;34m()\u001b[0m\n\u001b[0;32m----> 1\u001b[0;31m \u001b[0mconta1234\u001b[0m\u001b[0;34m.\u001b[0m\u001b[0m__saldo\u001b[0m \u001b[0;31m# dá erro , pois o atributo não é público\u001b[0m\u001b[0;34m\u001b[0m\u001b[0;34m\u001b[0m\u001b[0m\n\u001b[0m",
            "\u001b[0;31mAttributeError\u001b[0m: 'Conta' object has no attribute '__saldo'"
          ]
        }
      ]
    },
    {
      "cell_type": "markdown",
      "source": [
        "Para acessar um atributo não publico, utilizamos o método público consulta_saldo"
      ],
      "metadata": {
        "id": "lNyltgoZ4M4d"
      }
    },
    {
      "cell_type": "code",
      "source": [
        "class Conta:\n",
        "\n",
        "    def __init__(self, numero, saldo):\n",
        "        self.__numero = numero\n",
        "        self.__saldo = saldo\n",
        "\n",
        "    def consulta_saldo(self):\n",
        "        return self.__saldo\n",
        "\n",
        "conta1234 = Conta(1234, 750.84)\n",
        "conta1234.consulta_saldo()"
      ],
      "metadata": {
        "colab": {
          "base_uri": "https://localhost:8080/"
        },
        "id": "EeaDEKL_voie",
        "outputId": "621ebb2c-9138-4b6a-f7fc-1d8f135651a4"
      },
      "execution_count": null,
      "outputs": [
        {
          "output_type": "execute_result",
          "data": {
            "text/plain": [
              "750.84"
            ]
          },
          "metadata": {},
          "execution_count": 3
        }
      ]
    },
    {
      "cell_type": "code",
      "source": [
        "# método alternativo par aacessar um atributo não público\n",
        "conta1234._Conta__saldo"
      ],
      "metadata": {
        "colab": {
          "base_uri": "https://localhost:8080/"
        },
        "id": "xB1T32nnvoQm",
        "outputId": "23fed712-599f-4dc5-b376-7b31b261d462"
      },
      "execution_count": null,
      "outputs": [
        {
          "output_type": "execute_result",
          "data": {
            "text/plain": [
              "750.84"
            ]
          },
          "metadata": {},
          "execution_count": 6
        }
      ]
    },
    {
      "cell_type": "markdown",
      "source": [
        "## Herança"
      ],
      "metadata": {
        "id": "FnaNS_YJEt7Z"
      }
    },
    {
      "cell_type": "code",
      "source": [
        "class Pessoa:\n",
        "  num_pessoas = 0\n",
        "  def __init__(self, nome, login, senha):\n",
        "    self.__nome=nome\n",
        "    self.__login=login\n",
        "    self.senha=senha\n",
        "    Pessoa.num_pessoas +=1\n",
        "\n",
        "  def consulta_nome(self):\n",
        "    return self.__nome\n",
        "\n",
        "  def consulta_dados(self):\n",
        "    record = 'nome:'+str(self.__nome) +  ' - login:'+str(self.__login)\n",
        "    return  record\n",
        "\n",
        "# classes Aluno\n",
        "class Aluno(Pessoa): # Indica que a classe Aluno herda da classe Pessoa\n",
        "  def __init__(self, nome, login, senha, curso):\n",
        "    super().__init__(nome, login, senha) # Invoca o método init da super classe (ou classe base, Pessoa).\n",
        "    self.__curso=curso\n",
        "\n",
        "  def consulta_curso(self):\n",
        "    return self.__curso\n",
        "\n",
        "# classes Professor\n",
        "class Professor(Pessoa): # Indica que a classe Aluno herda da classe Pessoa\n",
        "  def __init__(self, nome, login, senha, titulacao):\n",
        "    super().__init__( nome, login, senha) # Invoca o método init da super classe (ou classe base, Pessoa).\n",
        "    self.__titulacao=titulacao\n",
        "\n",
        "  def consulta_titulacao(self):\n",
        "      return self.__titulacao"
      ],
      "metadata": {
        "id": "EaycYiGmEwpl"
      },
      "execution_count": null,
      "outputs": []
    },
    {
      "cell_type": "code",
      "source": [
        "aluno1 = Aluno('Victor','victor@rj.senac.br', '12345', 'Programação')\n",
        "aluno2 = Aluno('Thamires','thamires@rj.senac.br', '12345', 'Banco de Dados I')\n",
        "prof1 = Professor('Roberto', 'roberto.harkovsky@rj.senac.br', '12345', 'MsC')\n",
        "\n",
        "print(aluno1.consulta_dados())\n",
        "print(aluno1.consulta_curso())\n",
        "print(aluno2.consulta_dados())\n",
        "print(aluno2.consulta_curso())\n",
        "print(prof1.consulta_nome())\n",
        "print(prof1.consulta_titulacao())"
      ],
      "metadata": {
        "colab": {
          "base_uri": "https://localhost:8080/"
        },
        "id": "IDiD1mGQHPwG",
        "outputId": "747cce56-c1b5-4275-e1a0-635a7a245c89"
      },
      "execution_count": null,
      "outputs": [
        {
          "output_type": "stream",
          "name": "stdout",
          "text": [
            "nome:Victor - login:victor@rj.senac.br\n",
            "Programação\n",
            "nome:Thamires - login:thamires@rj.senac.br\n",
            "Banco de Dados I\n",
            "Roberto\n",
            "MsC\n"
          ]
        }
      ]
    },
    {
      "cell_type": "markdown",
      "source": [
        "## Polimorfismo"
      ],
      "metadata": {
        "id": "n56uAsur83LT"
      }
    },
    {
      "cell_type": "markdown",
      "source": [
        "### Polimorfismo de classe"
      ],
      "metadata": {
        "id": "RHWHkDDpRUfW"
      }
    },
    {
      "cell_type": "code",
      "source": [
        "class Gato:\n",
        "    def __init__(self, name, age):\n",
        "        self.name = name\n",
        "        self.age = age\n",
        "\n",
        "    def info(self):\n",
        "        print(f\"Eu sou um gato. Meu nome é {self.name}. Tenho {self.age} anos.\")\n",
        "\n",
        "    def make_sound(self):\n",
        "        print(\"Miauuuu\")\n",
        "\n",
        "class Cachorro:\n",
        "    def __init__(self, name, age):\n",
        "        self.name = name\n",
        "        self.age = age\n",
        "\n",
        "    def info(self):\n",
        "        print(f\"Eu sou um cachorro. Meu nome é {self.name}. Tenho {self.age} anos.\")\n",
        "\n",
        "    def make_sound(self):\n",
        "        print(\"Au Auuuuu\")\n",
        "\n",
        "# main\n",
        "Gato1 = Gato(\"Kitty\", 2.5)\n",
        "Cachorro1 = Cachorro(\"Fluffy\", 4)\n",
        "\n",
        "for animal in (Gato1, Cachorro1):\n",
        "    animal.info() # mesma nome de função com tratamentos diferentes\n",
        "    animal.make_sound()  # mesma nome de função com tratamentos diferentes\n"
      ],
      "metadata": {
        "colab": {
          "base_uri": "https://localhost:8080/"
        },
        "id": "gpbyBa7cO6H_",
        "outputId": "32cfb8d5-c5ae-4e83-f646-638eec70fefc"
      },
      "execution_count": 5,
      "outputs": [
        {
          "output_type": "stream",
          "name": "stdout",
          "text": [
            "Eu sou um gato. Meu nome é Kitty. Tenho 2.5 anos.\n",
            "Miauuuu\n",
            "Eu sou um cachorro. Meu nome é Fluffy. Tenho 4 anos.\n",
            "Au Auuuuu\n"
          ]
        }
      ]
    },
    {
      "cell_type": "markdown",
      "source": [
        "### Polimorfismo e Herança"
      ],
      "metadata": {
        "id": "6KeNDr8DRblv"
      }
    },
    {
      "cell_type": "code",
      "source": [
        "from math import pi\n",
        "\n",
        "class Shape:\n",
        "    def __init__(self, name):\n",
        "        self.name = name\n",
        "\n",
        "    def area(self):\n",
        "        pass\n",
        "\n",
        "    def fact(self):\n",
        "        return \"Eu sou uma forma bidimensional.\"\n",
        "\n",
        "    def __str__(self):\n",
        "        return self.name\n",
        "\n",
        "class Quadrado(Shape):\n",
        "    def __init__(self, length):\n",
        "        super().__init__(\"Quadrado\")\n",
        "        self.length = length\n",
        "\n",
        "    def area(self):\n",
        "        return self.length**2\n",
        "\n",
        "    def fact(self):\n",
        "        return \"Quadrados têm cada ângulo igual a 90 graus.\"\n",
        "\n",
        "class Circulo(Shape):\n",
        "    def __init__(self, radius):\n",
        "        super().__init__(\"Circulo\")\n",
        "        self.radius = radius\n",
        "\n",
        "    def area(self):\n",
        "        return pi*self.radius**2\n",
        "\n",
        "# main\n",
        "a = Quadrado(4)\n",
        "b = Circulo(7)\n",
        "print(b)\n",
        "print(b.fact()) # mesma nome de função \"fact\" com tratamentos diferentes\n",
        "print(a.fact())\n",
        "print(a.area()) # mesma nome de função \"area' com tratamentos diferentes\n",
        "print(b.area())\n"
      ],
      "metadata": {
        "colab": {
          "base_uri": "https://localhost:8080/"
        },
        "id": "QldXH5svRhyl",
        "outputId": "e4685524-bed0-4161-f3b2-9d32f3a5d523"
      },
      "execution_count": 9,
      "outputs": [
        {
          "output_type": "stream",
          "name": "stdout",
          "text": [
            "Circulo\n",
            "Eu sou uma forma bidimensional.\n",
            "Quadrados têm cada ângulo igual a 90 graus.\n",
            "16\n",
            "153.93804002589985\n"
          ]
        }
      ]
    },
    {
      "cell_type": "markdown",
      "source": [
        "## Abstração\n"
      ],
      "metadata": {
        "id": "BLodMTc5UNPp"
      }
    },
    {
      "cell_type": "code",
      "source": [
        "from abc import ABC, abstractmethod\n",
        "class Absclass(ABC): # Classe abstrata\n",
        "    def print(self,x):\n",
        "        print(\"Valor passado: \", x)\n",
        "    @abstractmethod\n",
        "    def task(self):\n",
        "        print(\"Dentro de Absclass task\")\n",
        "\n",
        "class teste_class(Absclass): # classe herdada de classe abstrata Absclass\n",
        "    def task(self):\n",
        "        print(\"Dentro de test_class task\")\n",
        "\n",
        "class exemplo_class(Absclass): # classe herdada de classe abstrata Absclass\n",
        "    def task(self):\n",
        "        print(\"Dentro de example_class task\")\n",
        "\n",
        "#objecttos da classe test_class criados\n",
        "test_obj = teste_class()\n",
        "test_obj.task()\n",
        "test_obj.print(100)\n",
        "\n",
        "#object of example_class created\n",
        "example_obj = exemplo_class()\n",
        "example_obj.task()\n",
        "example_obj.print(200)\n",
        "\n",
        "print(\"test_obj is instance of Absclass? \", isinstance(test_obj, Absclass))\n",
        "print(\"example_obj is instance of Absclass? \", isinstance(example_obj, Absclass))\n"
      ],
      "metadata": {
        "colab": {
          "base_uri": "https://localhost:8080/"
        },
        "id": "XPbi6H5JUQAS",
        "outputId": "061b1c97-1f02-4cf1-fb51-28ac5dcb6b75"
      },
      "execution_count": null,
      "outputs": [
        {
          "output_type": "stream",
          "name": "stdout",
          "text": [
            "Dentro de test_class task\n",
            "Valor passado:  100\n",
            "Dentro de example_class task\n",
            "Valor passado:  200\n",
            "test_obj is instance of Absclass?  True\n",
            "example_obj is instance of Absclass?  True\n"
          ]
        }
      ]
    },
    {
      "cell_type": "markdown",
      "source": [
        "## Associação, Agregação e Composição"
      ],
      "metadata": {
        "id": "sizWOm1SDpvz"
      }
    },
    {
      "cell_type": "code",
      "source": [
        "# Define uma classe chamada Pessoa\n",
        "class Pessoa:\n",
        "  # Inicialize o objeto Pessoa com um nome, login e senha\n",
        "  def __init__(self, nome, login, senha):\n",
        "    self.nome = nome\n",
        "    self.login = login\n",
        "    self.senha = senha\n",
        "\n",
        "  def consulta_nome(self):\n",
        "    return self.nome\n",
        "\n",
        "class Aluno(Pessoa):\n",
        "\n",
        "    def __init__(self, nome, login, senha, curso, orientador):\n",
        "        Pessoa.__init__(self, nome, login, senha)\n",
        "        self.__curso = curso\n",
        "        self.__orientador = orientador # classe Pessoa\n",
        "\n",
        "    def consulta_curso(self):\n",
        "        return self.__curso\n",
        "\n",
        "    def consulta_orientador(self):\n",
        "        return self.__orientador.consulta_nome()\n",
        "\n",
        "    def consulta_nome(self):\n",
        "        return self.nome"
      ],
      "metadata": {
        "id": "jE-TmYT1Dq0-"
      },
      "execution_count": null,
      "outputs": []
    },
    {
      "cell_type": "code",
      "source": [
        "professorBob = Pessoa('Roberto', 'robertoh', 'r123')\n",
        "novoAluno = Aluno('Patricia', 'pat', 'p123', 'ADS', professorBob)\n",
        "print(novoAluno.consulta_orientador())"
      ],
      "metadata": {
        "id": "rwdaaeF_Dwxs",
        "colab": {
          "base_uri": "https://localhost:8080/"
        },
        "outputId": "c7a3d05a-e69e-4347-9a52-b18e60253688"
      },
      "execution_count": null,
      "outputs": [
        {
          "output_type": "stream",
          "name": "stdout",
          "text": [
            "Roberto\n"
          ]
        }
      ]
    },
    {
      "cell_type": "markdown",
      "source": [
        "## Agregação"
      ],
      "metadata": {
        "id": "mm4IhqMdJ6Ww"
      }
    },
    {
      "cell_type": "code",
      "source": [
        "# Classe Salary com o método público salário anual()\n",
        "class Salary:\n",
        "    def __init__(self, pay, bonus):\n",
        "        self.pay = pay\n",
        "        self.bonus = bonus\n",
        "\n",
        "    def annual_salary(self):\n",
        "        return (self.pay*12)+self.bonus\n",
        "\n",
        "# Classe EmployeeOne com método público total_sal()\n",
        "class EmployeeOne:\n",
        "    # Aqui o parâmetro \"sal\" refere-se a um objeto da classe Salary que\n",
        "    # passaremos como parâmetro posteriormente\n",
        "    def __init__(self, name, age, sal):\n",
        "        self.name = name\n",
        "        self.age = age\n",
        "\n",
        "        # inicializado o parametro \"sal\" parameter\"\n",
        "        self.agg_salary = sal   # Agregação\n",
        "\n",
        "    def total_sal(self):\n",
        "        return self.agg_salary.annual_salary()\n",
        "\n",
        "# Aqui estamos criando um objeto da classe Salary no qual estamos passando os parâmetros necessários\n",
        "salary = Salary(10000, 1500)\n",
        "\n",
        "# Agora passando o mesmo objeto Salay que criamos anteriormente como parâmetro para a classe EmployeeOne\n",
        "emp = EmployeeOne('Geek', 25, salary)\n",
        "\n",
        "print(emp.total_sal())"
      ],
      "metadata": {
        "colab": {
          "base_uri": "https://localhost:8080/"
        },
        "id": "1RpYlFzmJ9FE",
        "outputId": "d6ffeb26-49a6-490a-f7a1-0fee1fc6237e"
      },
      "execution_count": null,
      "outputs": [
        {
          "output_type": "stream",
          "name": "stdout",
          "text": [
            "121500\n"
          ]
        }
      ]
    },
    {
      "cell_type": "markdown",
      "source": [
        "## Composição"
      ],
      "metadata": {
        "id": "93XLA0jnG5qo"
      }
    },
    {
      "cell_type": "code",
      "source": [
        "# Classe Salary em que estamos declarando um método público annual_salary\n",
        "class Salary:\n",
        "    def __init__(self, pay, bonus):\n",
        "        self.pay = pay\n",
        "        self.bonus = bonus\n",
        "\n",
        "    def annual_salary(self):\n",
        "        return (self.pay*12)+self.bonus\n",
        "\n",
        "# Classe EmployeeOne que não herda a classe Salary\n",
        "# ainda utilizaremos o método salário anual utilizando Composição\n",
        "class EmployeeOne:\n",
        "    def __init__(self, name, age, pay, bonus):\n",
        "        self.name = name\n",
        "        self.age = age\n",
        "        self.obj_salary = Salary(pay, bonus)  # composition\n",
        "\n",
        "    def total_sal(self):\n",
        "        return self.obj_salary.annual_salary()\n",
        "\n",
        "# Criando o objeto\n",
        "emp = EmployeeOne('Geek', 25, 10000, 1500)\n",
        "print(emp.total_sal())"
      ],
      "metadata": {
        "id": "8xKIqgeiG776"
      },
      "execution_count": null,
      "outputs": []
    },
    {
      "cell_type": "code",
      "source": [
        "def naofaznada():\n",
        "  # pass\n",
        "  print('Fiz algo')\n",
        "\n",
        "\n",
        "# main\n",
        "naofaznada()"
      ],
      "metadata": {
        "colab": {
          "base_uri": "https://localhost:8080/"
        },
        "id": "mG7b9zScNrDO",
        "outputId": "cdc460be-b5af-476e-ffff-0398ecd4339d"
      },
      "execution_count": null,
      "outputs": [
        {
          "output_type": "stream",
          "name": "stdout",
          "text": [
            "Fiz algo\n"
          ]
        }
      ]
    }
  ]
}