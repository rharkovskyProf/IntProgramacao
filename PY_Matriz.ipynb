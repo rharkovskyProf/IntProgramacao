{
  "nbformat": 4,
  "nbformat_minor": 0,
  "metadata": {
    "colab": {
      "provenance": [],
      "authorship_tag": "ABX9TyOTbPvoXg623JE3iWYeLGAb",
      "include_colab_link": true
    },
    "kernelspec": {
      "name": "python3",
      "display_name": "Python 3"
    },
    "language_info": {
      "name": "python"
    }
  },
  "cells": [
    {
      "cell_type": "markdown",
      "metadata": {
        "id": "view-in-github",
        "colab_type": "text"
      },
      "source": [
        "<a href=\"https://colab.research.google.com/github/rharkovskyProf/IntProgramacao/blob/main/PY_Matriz.ipynb\" target=\"_parent\"><img src=\"https://colab.research.google.com/assets/colab-badge.svg\" alt=\"Open In Colab\"/></a>"
      ]
    },
    {
      "cell_type": "markdown",
      "source": [
        "### Faça um programa que preencha uma matriz 3x3 com números inteiros e multiplique todos os seus valores por 2. Apresente ambas matrizes"
      ],
      "metadata": {
        "id": "EXcmZkiTxXL-"
      }
    },
    {
      "cell_type": "code",
      "execution_count": 19,
      "metadata": {
        "colab": {
          "base_uri": "https://localhost:8080/"
        },
        "id": "hkPHG_XdxB2t",
        "outputId": "2cb52ccc-54c1-4b52-f7d2-42fbfe60985f"
      },
      "outputs": [
        {
          "output_type": "stream",
          "name": "stdout",
          "text": [
            " Matriz 1 Entre com o valor da posição [0][0]: 1\n",
            " Matriz 1 Entre com o valor da posição [0][1]: 2\n",
            " Matriz 1 Entre com o valor da posição [0][2]: 3\n",
            " Matriz 1 Entre com o valor da posição [1][0]: 4\n",
            " Matriz 1 Entre com o valor da posição [1][1]: 5\n",
            " Matriz 1 Entre com o valor da posição [1][2]: 6\n",
            " Matriz 1 Entre com o valor da posição [2][0]: 7\n",
            " Matriz 1 Entre com o valor da posição [2][1]: 8\n",
            " Matriz 1 Entre com o valor da posição [2][2]: 9\n",
            "matriz entrada: [[1, 2, 3], [4, 5, 6], [7, 8, 9]]\n",
            "matriz Saida: [[2, 4, 6], [8, 10, 12], [14, 16, 18]]\n"
          ]
        }
      ],
      "source": [
        "matrizEntrada = [[0,0,0], [0,0,0], [0,0,0] ]\n",
        "matrizSaida = [[0,0,0], [0,0,0], [0,0,0] ]\n",
        "\n",
        "# matrizEntrada\n",
        "for row in range(3):\n",
        "  for col in range(3):\n",
        "    matrizEntrada[row][col] = int(input(f' Matriz 1 Entre com o valor da posição [{row}][{col}]: '))\n",
        "    matrizSaida[row][col] = 2 * matrizEntrada[row][col]\n",
        "\n",
        "print(f'matriz entrada: {matrizEntrada}')\n",
        "print(f'matriz Saida: {matrizSaida}')\n"
      ]
    },
    {
      "cell_type": "markdown",
      "source": [
        "### Faça um programa que leia valores inteiros em duas matrizes 3x3 e imprima ambas matrizes e a matriz soma das duas."
      ],
      "metadata": {
        "id": "B3tmU6I6xdcG"
      }
    },
    {
      "cell_type": "code",
      "source": [
        "matriz1 = [[0,0,0], [0,0,0], [0,0,0] ]\n",
        "matriz2 = [[0,0,0], [0,0,0], [0,0,0] ]\n",
        "matrizSoma = [[0,0,0], [0,0,0], [0,0,0] ]\n",
        "\n",
        "# matriz1\n",
        "for row in range(3):\n",
        "  for col in range(3):\n",
        "    matriz1[row][col] = int(input(f' Matriz 1 Entre com o valor da posição [{row}][{col}]: '))\n",
        "\n",
        "# matriz2\n",
        "for row in range(3):\n",
        "  for col in range(3):\n",
        "    matriz2[row][col] = int(input(f' Matriz 2 Entre com o valor da posição  [{row}][{col}]: '))\n",
        "\n",
        "# matriz soma\n",
        "for row in range(3):\n",
        "  for col in range(3):\n",
        "    matrizSoma[row][col] = matriz1[row][col] + matriz2[row][col]\n",
        "\n",
        "print(f'matriz 1: {matriz1}')\n",
        "print(f'matriz 2: {matriz2}')\n",
        "print(f'matriz Soma: {matrizSoma}')\n"
      ],
      "metadata": {
        "colab": {
          "base_uri": "https://localhost:8080/"
        },
        "id": "hMyNsaJrxm9v",
        "outputId": "a474a97b-fdcd-401c-f848-e086ceee0793"
      },
      "execution_count": 18,
      "outputs": [
        {
          "output_type": "stream",
          "name": "stdout",
          "text": [
            " Matriz 1 Entre com o valor da posição [0][0]: 1\n",
            " Matriz 1 Entre com o valor da posição [0][1]: 2\n",
            " Matriz 1 Entre com o valor da posição [0][2]: 3\n",
            " Matriz 1 Entre com o valor da posição [1][0]: 4\n",
            " Matriz 1 Entre com o valor da posição [1][1]: 5\n",
            " Matriz 1 Entre com o valor da posição [1][2]: 6\n",
            " Matriz 1 Entre com o valor da posição [2][0]: 7\n",
            " Matriz 1 Entre com o valor da posição [2][1]: 8\n",
            " Matriz 1 Entre com o valor da posição [2][2]: 9\n",
            " Matriz 2 Entre com o valor da posição  [0][0]: 11\n",
            " Matriz 2 Entre com o valor da posição  [0][1]: 22\n",
            " Matriz 2 Entre com o valor da posição  [0][2]: 33\n",
            " Matriz 2 Entre com o valor da posição  [1][0]: 44\n",
            " Matriz 2 Entre com o valor da posição  [1][1]: 55\n",
            " Matriz 2 Entre com o valor da posição  [1][2]: 66\n",
            " Matriz 2 Entre com o valor da posição  [2][0]: 77\n",
            " Matriz 2 Entre com o valor da posição  [2][1]: 88\n",
            " Matriz 2 Entre com o valor da posição  [2][2]: 99\n",
            "matriz 1: [[1, 2, 3], [4, 5, 6], [7, 8, 9]]\n",
            "matriz 2: [[11, 22, 33], [44, 55, 66], [77, 88, 99]]\n",
            "matriz Soma: [[12, 24, 36], [48, 60, 72], [84, 96, 108]]\n"
          ]
        }
      ]
    },
    {
      "cell_type": "markdown",
      "source": [
        "### Dada a matriz de alunos e notas, calcular a media de cada aluno e informar se ele passou (>=6) ou foi reprovado (<6)"
      ],
      "metadata": {
        "id": "MMYWIYfhxhcz"
      }
    },
    {
      "cell_type": "code",
      "source": [
        "alunos = ['Ana', 'Joao', 'Carla', 'Aline', 'Pedro']\n",
        "notas = [ [10.0, 7.5, 4.3, 8.2, 6.0], [9.5, 8.0, 3.6, 7.8, 9.0],\n",
        "           [6.5, 4.9, 5.7, 6.0, 7.2], [3.5, 1.0, 5.0, 3.6, 4.4],\n",
        "           [10.0, 9.0, 9.5, 8.9, 9.2] ]\n",
        "media = [0.0, 0.0, 0.0, 0.0, 0.0]\n",
        "for row in range(5): # para cada linha (ou aluno)\n",
        "  somaNotas = 0 # soma de notas de um aluno (linha i)\n",
        "  for col in range(5):\n",
        "    somaNotas = somaNotas + notas[row][col]\n",
        "  media[i] = somaNotas / 5 # calcula media do aluno i\n",
        "\n",
        "for row in range (5):\n",
        "  if media[row]>=6.0:\n",
        "    msg = 'APROVADO'\n",
        "  else:\n",
        "    msg = 'REPROVADO'\n",
        "  print(f'aluno {alunos[row]} tem média {media[row]:.1f} e está {msg}')\n"
      ],
      "metadata": {
        "colab": {
          "base_uri": "https://localhost:8080/"
        },
        "id": "zwoHoU-7xnp8",
        "outputId": "626dcff1-6c8a-44b1-a4fb-44cc1c3b2073"
      },
      "execution_count": 8,
      "outputs": [
        {
          "output_type": "stream",
          "name": "stdout",
          "text": [
            "aluno Ana tem média 0.0 e está REPROVADO\n",
            "aluno Joao tem média 0.0 e está REPROVADO\n",
            "aluno Carla tem média 0.0 e está REPROVADO\n",
            "aluno Aline tem média 0.0 e está REPROVADO\n",
            "aluno Pedro tem média 9.3 e está APROVADO\n"
          ]
        }
      ]
    }
  ]
}