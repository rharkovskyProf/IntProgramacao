{
  "nbformat": 4,
  "nbformat_minor": 0,
  "metadata": {
    "colab": {
      "provenance": [],
      "authorship_tag": "ABX9TyPbj0jPp+3+bc8MmMUpCG0C",
      "include_colab_link": true
    },
    "kernelspec": {
      "name": "python3",
      "display_name": "Python 3"
    },
    "language_info": {
      "name": "python"
    }
  },
  "cells": [
    {
      "cell_type": "markdown",
      "metadata": {
        "id": "view-in-github",
        "colab_type": "text"
      },
      "source": [
        "<a href=\"https://colab.research.google.com/github/rharkovskyProf/IntProgramacao/blob/main/PY_OOP1.ipynb\" target=\"_parent\"><img src=\"https://colab.research.google.com/assets/colab-badge.svg\" alt=\"Open In Colab\"/></a>"
      ]
    },
    {
      "cell_type": "markdown",
      "source": [
        "# PROGRAMAÇÃO ORIENTADA A OBJETOS\n",
        "\n",
        "Agora é com Voces"
      ],
      "metadata": {
        "id": "xDb_ZT2APpP9"
      }
    },
    {
      "cell_type": "markdown",
      "source": [
        "### 1. Escreva um programa Python para criar uma classe de calculadora. Incluir métodos para operações aritméticas básicas."
      ],
      "metadata": {
        "id": "d-k48NCFPMoo"
      }
    },
    {
      "cell_type": "code",
      "execution_count": 2,
      "metadata": {
        "colab": {
          "base_uri": "https://localhost:8080/"
        },
        "id": "D2-1hkNEPIkW",
        "outputId": "ebd17977-7716-4274-f7a2-4d4dbdf11abc"
      },
      "outputs": [
        {
          "output_type": "stream",
          "name": "stdout",
          "text": [
            "7 + 5 = 12\n",
            "34 - 21 = 13\n",
            "54 * 2 = 108\n",
            "144/2 = 72.0\n",
            "45/0 = Não é possível dividir por zero.\n"
          ]
        }
      ],
      "source": [
        "# Define uma classe chamada Calculadora para realizar operações aritméticas básicas\n",
        "class Calculadora:\n",
        "     # Define um método de adição que receba dois argumentos e retorne sua soma\n",
        "     def adicionar(self, x, y):\n",
        "         return x + y\n",
        "\n",
        "     # Define um método para subtração que receba dois argumentos e retorne sua diferença\n",
        "     def subtrair(self, x, y):\n",
        "         return x - y\n",
        "\n",
        "     # Define um método de multiplicação que receba dois argumentos e retorne seu produto\n",
        "     def multiplicar(self, x, y):\n",
        "         return x * y\n",
        "\n",
        "     # Define um método de divisão que receba dois argumentos e retorne o resultado se o denominador não for zero,\n",
        "     # ou uma mensagem de erro se o denominador for zero\n",
        "     def dividir(self, x, y):\n",
        "         if y != 0:\n",
        "             return x/y\n",
        "         else:\n",
        "             return (\"Não é possível dividir por zero.\")\n",
        "\n",
        "# main\n",
        "\n",
        "#Criando uma instância da classe Calculadora\n",
        "calc1 = Calculadora()\n",
        "\n",
        "# Realize a adição e imprima o resultado\n",
        "resultado = calc1.adicionar(7, 5)\n",
        "print(\"7 + 5 =\", resultado)\n",
        "\n",
        "# Realize a subtração e imprima o resultado\n",
        "resultado = calc1.subtrair(34, 21)\n",
        "print(\"34 - 21 =\", resultado)\n",
        "\n",
        "# Faça a multiplicação e imprima o resultado\n",
        "resultado = calc1.multiplicar(54, 2)\n",
        "print(\"54 * 2 =\", resultado)\n",
        "\n",
        "# Realize a divisão e imprima o resultado\n",
        "resultado = calc1.dividir(144, 2)\n",
        "print(\"144/2 =\",resultado)\n",
        "\n",
        "# Tenta realizar a divisão por zero, o que gera um erro, e imprime a mensagem de erro\n",
        "resultado = calc1.dividir(45, 0)\n",
        "print(\"45/0 =\",resultado)"
      ]
    },
    {
      "cell_type": "markdown",
      "source": [
        "### 2. Escreva um programa Python para criar uma classe representando um Círculo. Incluir métodos para calcular sua área e perímetro.\n"
      ],
      "metadata": {
        "id": "h0aV-soQPYaG"
      }
    },
    {
      "cell_type": "code",
      "source": [
        "# Importando o módulo math para acessar funções matemáticas como pi\n",
        "import math\n",
        "\n",
        "# Define uma classe chamada Circulo para representar um círculo\n",
        "class Circulo:\n",
        "    # Inicializa o objeto Circulo com um determinado raio\n",
        "    def __init__(self, raio):\n",
        "        self.radius = raio\n",
        "\n",
        "    # Calcula e retorna a área do círculo usando a fórmula: π * r^2\n",
        "    def calcula_area_circulo(self):\n",
        "        return math.pi * self.radius**2\n",
        "\n",
        "    # Calcula e retorna o perímetro (circunferência) do círculo usando a fórmula: 2π * r\n",
        "    def calcula_perimetro_circulo(self):\n",
        "        return 2 * math.pi * self.radius\n",
        "\n",
        "\n",
        "raio_circulo = float(input(\"Entre como raio do circulo desejado: \"))\n",
        "# Cria um objeto Circle com o raio fornecido\n",
        "meu_circulo = Circulo(raio_circulo)\n",
        "\n",
        "# Calcula a área do círculo usando o método calcula_area_circulo\n",
        "area = meu_circulo.calcula_area_circulo()\n",
        "\n",
        "# Calcula o perímetro do círculo usando o método calcula_perimetro_circulo\n",
        "perimetro = meu_circulo.calcula_perimetro_circulo()\n",
        "\n",
        "# Exibir a área calculada e o perímetro do círculo\n",
        "print(\"Área do círculo:\", area)\n",
        "print(\"Perímetro do círculo:\", perimetro)"
      ],
      "metadata": {
        "colab": {
          "base_uri": "https://localhost:8080/"
        },
        "id": "nBlmUzFIPm44",
        "outputId": "d3d4d929-9098-4b72-d4cd-d6bd10766eb7"
      },
      "execution_count": 6,
      "outputs": [
        {
          "output_type": "stream",
          "name": "stdout",
          "text": [
            "Entre como raio do circulo desejado: 1\n",
            "Área do círculo: 3.141592653589793\n",
            "Perímetro do círculo: 6.283185307179586\n"
          ]
        }
      ]
    },
    {
      "cell_type": "markdown",
      "source": [
        "### 3. Escreva um programa Python para criar uma classe que represente um carrinho de compras. Inclui métodos para adicionar e remover itens e calcular o preço total."
      ],
      "metadata": {
        "id": "KlzPUAtNPe1C"
      }
    },
    {
      "cell_type": "code",
      "source": [
        "# Define uma classe chamada ShoppingCart para representar um carrinho de compras\n",
        "class ShoppingCart:\n",
        "    # Inicializa o carrinho Vazio\n",
        "    def __init__(self):\n",
        "        self.itens = []\n",
        "\n",
        "    # Adiciona um item com nome e quantidade ao carrinho de compras\n",
        "    def add_item(self, item_nome, qty):\n",
        "        item = (item_nome, qty)\n",
        "        self.itens.append(item)\n",
        "\n",
        "    # Remove um item com um nome específico do carrinho de compras\n",
        "    def remove_item(self, item_nome):\n",
        "        for item in self.itens:\n",
        "            if item[0] == item_nome:\n",
        "                self.itens.remove(item)\n",
        "                break\n",
        "\n",
        "    # Calcula e retorna a quantidade total de itens no carrinho de compras\n",
        "    def calculate_total(self):\n",
        "        total = 0\n",
        "        for item in self.itens:\n",
        "            total += item[1]\n",
        "        return total\n",
        "\n",
        "    # Imprime itens no carrinho de compras\n",
        "    def imprime_carrinho(self):\n",
        "      for item in self.itens:\n",
        "        print(item)"
      ],
      "metadata": {
        "id": "yF6_eQkUPnTQ"
      },
      "execution_count": 8,
      "outputs": []
    },
    {
      "cell_type": "code",
      "source": [
        "# Criando uma instância da classe ShoppingCart\n",
        "carrinho_bob = ShoppingCart()\n",
        "\n",
        "# Adicione itens ao carrinho de compras\n",
        "carrinho_bob.add_item(\"Papaya\", 5)\n",
        "carrinho_bob.add_item(\"Banana\", 24)\n",
        "carrinho_bob.add_item(\"Laranja\", 15)\n",
        "\n",
        "# Exibindo os itens atuais no carrinho e calcule a quantidade total\n",
        "print(\"Itens atuais no carrinho:\")\n",
        "carrinho_bob.imprime_carrinho()\n",
        "print(\"Quantidade Total:\", carrinho_bob.calculate_total())\n",
        "\n",
        "# Removendo um item\n",
        "carrinho_bob.remove_item(\"Laranja\")\n",
        "print(\"\\nItens atualizados no carrinho após a remoção da Laranja:\")\n",
        "carrinho_bob.imprime_carrinho()\n",
        "print(\"Quantidade Total:\", carrinho_bob.calculate_total())"
      ],
      "metadata": {
        "colab": {
          "base_uri": "https://localhost:8080/"
        },
        "id": "SDxieTBIQ-ZH",
        "outputId": "60a6b5b9-a0df-4a40-ed91-7d5c93afb195"
      },
      "execution_count": 9,
      "outputs": [
        {
          "output_type": "stream",
          "name": "stdout",
          "text": [
            "Itens atuais no carrinho:\n",
            "('Papaya', 5)\n",
            "('Banana', 24)\n",
            "('Laranja', 15)\n",
            "Quantidade Total: 44\n",
            "\n",
            "Itens atualizados no carrinho após a remoção da Laranja:\n",
            "('Papaya', 5)\n",
            "('Banana', 24)\n",
            "Quantidade Total: 29\n"
          ]
        }
      ]
    }
  ]
}