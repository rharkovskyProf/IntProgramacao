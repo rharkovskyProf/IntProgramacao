{
  "nbformat": 4,
  "nbformat_minor": 0,
  "metadata": {
    "colab": {
      "provenance": [],
      "authorship_tag": "ABX9TyPYsfG8z9q2iFXlTwVzydJm",
      "include_colab_link": true
    },
    "kernelspec": {
      "name": "python3",
      "display_name": "Python 3"
    },
    "language_info": {
      "name": "python"
    }
  },
  "cells": [
    {
      "cell_type": "markdown",
      "metadata": {
        "id": "view-in-github",
        "colab_type": "text"
      },
      "source": [
        "<a href=\"https://colab.research.google.com/github/rharkovskyProf/IntProgramacao/blob/main/PY_OOP1.ipynb\" target=\"_parent\"><img src=\"https://colab.research.google.com/assets/colab-badge.svg\" alt=\"Open In Colab\"/></a>"
      ]
    },
    {
      "cell_type": "markdown",
      "source": [
        "# PROGRAMAÇÃO ORIENTADA A OBJETOS\n",
        "\n"
      ],
      "metadata": {
        "id": "xDb_ZT2APpP9"
      }
    },
    {
      "cell_type": "markdown",
      "source": [
        "## Agora é Com voces 1"
      ],
      "metadata": {
        "id": "uvyJ2vyJ9G_V"
      }
    },
    {
      "cell_type": "markdown",
      "source": [
        "### 1. Escreva um programa Python para criar uma classe Carro contendo modelo, ano, velocidade máxima"
      ],
      "metadata": {
        "id": "c1_6CeLB8weH"
      }
    },
    {
      "cell_type": "code",
      "source": [
        "class Carro:\n",
        "  def __init__(self, mod, ano, vel):\n",
        "    self.modelo = mod\n",
        "    self.ano = ano\n",
        "    self.speed = vel\n",
        "\n",
        "  def __str__(self):\n",
        "    return self.modelo + ' ' + str(self.ano)\n",
        "\n",
        "#main\n",
        "carro1 = Carro('Honda', 2024,180)\n",
        "print(carro1)"
      ],
      "metadata": {
        "colab": {
          "base_uri": "https://localhost:8080/"
        },
        "id": "3r1_p_LW9Ouj",
        "outputId": "7554839a-1b5f-4cc9-915c-481d98351919"
      },
      "execution_count": 5,
      "outputs": [
        {
          "output_type": "stream",
          "name": "stdout",
          "text": [
            "Honda 2024\n"
          ]
        }
      ]
    },
    {
      "cell_type": "markdown",
      "source": [
        "### 2. Escreva um programa Python para criar uma classe Estudante contendo nome, disciplina, notas, sendo notas uma lista. Crie os métodos somaNota() e mediaNotas() para calcular a soma e a media das notas\n"
      ],
      "metadata": {
        "id": "MuhdLZLZ9PWr"
      }
    },
    {
      "cell_type": "code",
      "source": [
        "class Estudante:\n",
        "  def __init__(self, nome, disc, notas):\n",
        "    self.nome = nome\n",
        "    self.disciplina = disc\n",
        "    self.notas = notas\n",
        "\n",
        "  def somaNotas(self):\n",
        "    return(sum(self.notas))\n",
        "\n",
        "  def mediaNotas(self):\n",
        "    return(sum(self.notas)/len(self.notas))"
      ],
      "metadata": {
        "id": "nk9Uu0VK9Tob"
      },
      "execution_count": 10,
      "outputs": []
    },
    {
      "cell_type": "code",
      "source": [
        "#main\n",
        "bob = Estudante('Bob', 'Programação', [10.0, 8, 9.5, 9.1])\n",
        "clara = Estudante('Clara', 'Programação', [10.0, 10.0, 9.0, 9.5])\n",
        "gustavo = Estudante('Gustavo', 'Programação', [9.9, 8.0, 9.4, 8.5])\n",
        "\n",
        "print(f'{bob.nome} Soma: {bob.somaNotas()} e media: {bob.mediaNotas()}')\n",
        "print(f'{clara.nome} Soma: {clara.somaNotas()} e media: {clara.mediaNotas()}')\n",
        "print(f'{gustavo.nome} Soma: {gustavo.somaNotas()} e media: {gustavo.mediaNotas()}')"
      ],
      "metadata": {
        "colab": {
          "base_uri": "https://localhost:8080/"
        },
        "id": "YtXgWrV9Ct7l",
        "outputId": "bf7e28b0-c560-4e60-98bf-6d1ae2cd3c03"
      },
      "execution_count": 13,
      "outputs": [
        {
          "output_type": "stream",
          "name": "stdout",
          "text": [
            "Bob Soma: 36.6 e media: 9.15\n",
            "Clara Soma: 38.5 e media: 9.625\n",
            "Gustavo Soma: 35.8 e media: 8.95\n"
          ]
        }
      ]
    },
    {
      "cell_type": "code",
      "source": [
        "#main 2\n",
        "alunos = []\n",
        "bob = Estudante('Bob', 'Programação', [10.0, 8, 9.5, 9.1])\n",
        "clara = Estudante('Clara', 'Programação', [10.0, 10.0, 9.0, 9.5])\n",
        "gustavo = Estudante('Gustavo', 'Programação', [9.9, 8.0, 9.4, 8.5])\n",
        "vitor = Estudante('Vitor', 'Programação', [8.9, 9.0, 8.4, 9.5])\n",
        "\n",
        "alunos.append(bob)\n",
        "alunos.append(clara)\n",
        "alunos.append(gustavo)\n",
        "alunos.append(vitor)\n",
        "\n",
        "for aluno in alunos:\n",
        "  print(f'{aluno.nome} - Soma: {aluno.somaNotas()} e media: {aluno.mediaNotas()}')\n"
      ],
      "metadata": {
        "colab": {
          "base_uri": "https://localhost:8080/"
        },
        "id": "kKgisYtvEie9",
        "outputId": "07049cb5-0d1f-4132-f5bd-d18a5a12c324"
      },
      "execution_count": 16,
      "outputs": [
        {
          "output_type": "stream",
          "name": "stdout",
          "text": [
            "Bob - Soma: 36.6 e media: 9.15\n",
            "Clara - Soma: 38.5 e media: 9.625\n",
            "Gustavo - Soma: 35.8 e media: 8.95\n",
            "Vitor - Soma: 35.8 e media: 8.95\n"
          ]
        }
      ]
    },
    {
      "cell_type": "code",
      "source": [
        "#main 3\n",
        "alunos = []\n",
        "alunos.append(Estudante('Bob', 'Programação', [10.0, 8, 9.5, 9.1]))\n",
        "alunos.append(Estudante('Clara', 'Programação', [10.0, 10.0, 9.0, 9.5]))\n",
        "alunos.append(Estudante('Gustavo', 'Programação', [9.9, 8.0, 9.4, 8.5]))\n",
        "alunos.append(Estudante('Vitor', 'Programação', [8.9, 9.0, 8.4, 9.5]))\n",
        "alunos.append(Estudante('Fabio', 'Programação', [9.0, 8.0, 9.4, 9.9]))\n",
        "\n",
        "for aluno in alunos:\n",
        "  print(f'{aluno.nome} - Soma: {aluno.somaNotas()} e media: {aluno.mediaNotas():.1f}')"
      ],
      "metadata": {
        "colab": {
          "base_uri": "https://localhost:8080/"
        },
        "id": "7kKbWRd7FoFt",
        "outputId": "751ad8d8-42e0-4db3-cccb-2af11a083494"
      },
      "execution_count": 19,
      "outputs": [
        {
          "output_type": "stream",
          "name": "stdout",
          "text": [
            "Bob - Soma: 36.6 e media: 9.2\n",
            "Clara - Soma: 38.5 e media: 9.6\n",
            "Gustavo - Soma: 35.8 e media: 8.9\n",
            "Vitor - Soma: 35.8 e media: 8.9\n",
            "Fabio - Soma: 36.3 e media: 9.1\n"
          ]
        }
      ]
    },
    {
      "cell_type": "markdown",
      "source": [
        "## Agora é com Voces - 2"
      ],
      "metadata": {
        "id": "lv2KoZNf8-aN"
      }
    },
    {
      "cell_type": "markdown",
      "source": [
        "### 1. Escreva um programa Python para criar uma classe de calculadora. Incluir métodos para operações aritméticas básicas."
      ],
      "metadata": {
        "id": "d-k48NCFPMoo"
      }
    },
    {
      "cell_type": "code",
      "execution_count": null,
      "metadata": {
        "colab": {
          "base_uri": "https://localhost:8080/"
        },
        "id": "D2-1hkNEPIkW",
        "outputId": "ebd17977-7716-4274-f7a2-4d4dbdf11abc"
      },
      "outputs": [
        {
          "output_type": "stream",
          "name": "stdout",
          "text": [
            "7 + 5 = 12\n",
            "34 - 21 = 13\n",
            "54 * 2 = 108\n",
            "144/2 = 72.0\n",
            "45/0 = Não é possível dividir por zero.\n"
          ]
        }
      ],
      "source": [
        "# Define uma classe chamada Calculadora para realizar operações aritméticas básicas\n",
        "class Calculadora:\n",
        "     # Define um método de adição que receba dois argumentos e retorne sua soma\n",
        "     def adicionar(self, x, y):\n",
        "         return x + y\n",
        "\n",
        "     # Define um método para subtração que receba dois argumentos e retorne sua diferença\n",
        "     def subtrair(self, x, y):\n",
        "         return x - y\n",
        "\n",
        "     # Define um método de multiplicação que receba dois argumentos e retorne seu produto\n",
        "     def multiplicar(self, x, y):\n",
        "         return x * y\n",
        "\n",
        "     # Define um método de divisão que receba dois argumentos e retorne o resultado se o denominador não for zero,\n",
        "     # ou uma mensagem de erro se o denominador for zero\n",
        "     def dividir(self, x, y):\n",
        "         if y != 0:\n",
        "             return x/y\n",
        "         else:\n",
        "             return (\"Não é possível dividir por zero.\")\n",
        "\n",
        "# main\n",
        "\n",
        "#Criando uma instância da classe Calculadora\n",
        "calc1 = Calculadora()\n",
        "\n",
        "# Realize a adição e imprima o resultado\n",
        "resultado = calc1.adicionar(7, 5)\n",
        "print(\"7 + 5 =\", resultado)\n",
        "\n",
        "# Realize a subtração e imprima o resultado\n",
        "resultado = calc1.subtrair(34, 21)\n",
        "print(\"34 - 21 =\", resultado)\n",
        "\n",
        "# Faça a multiplicação e imprima o resultado\n",
        "resultado = calc1.multiplicar(54, 2)\n",
        "print(\"54 * 2 =\", resultado)\n",
        "\n",
        "# Realize a divisão e imprima o resultado\n",
        "resultado = calc1.dividir(144, 2)\n",
        "print(\"144/2 =\",resultado)\n",
        "\n",
        "# Tenta realizar a divisão por zero, o que gera um erro, e imprime a mensagem de erro\n",
        "resultado = calc1.dividir(45, 0)\n",
        "print(\"45/0 =\",resultado)"
      ]
    },
    {
      "cell_type": "markdown",
      "source": [
        "### 2. Escreva um programa Python para criar uma classe representando um Círculo. Incluir métodos para calcular sua área e perímetro.\n"
      ],
      "metadata": {
        "id": "h0aV-soQPYaG"
      }
    },
    {
      "cell_type": "code",
      "source": [
        "# Importando o módulo math para acessar funções matemáticas como pi\n",
        "import math\n",
        "\n",
        "# Define uma classe chamada Circulo para representar um círculo\n",
        "class Circulo:\n",
        "    # Inicializa o objeto Circulo com um determinado raio\n",
        "    def __init__(self, raio):\n",
        "        self.radius = raio\n",
        "\n",
        "    # Calcula e retorna a área do círculo usando a fórmula: π * r^2\n",
        "    def calcula_area_circulo(self):\n",
        "        return math.pi * self.radius**2\n",
        "\n",
        "    # Calcula e retorna o perímetro (circunferência) do círculo usando a fórmula: 2π * r\n",
        "    def calcula_perimetro_circulo(self):\n",
        "        return 2 * math.pi * self.radius\n",
        "\n",
        "\n",
        "raio_circulo = float(input(\"Entre como raio do circulo desejado: \"))\n",
        "# Cria um objeto Circle com o raio fornecido\n",
        "meu_circulo = Circulo(raio_circulo)\n",
        "\n",
        "# Calcula a área do círculo usando o método calcula_area_circulo\n",
        "area = meu_circulo.calcula_area_circulo()\n",
        "\n",
        "# Calcula o perímetro do círculo usando o método calcula_perimetro_circulo\n",
        "perimetro = meu_circulo.calcula_perimetro_circulo()\n",
        "\n",
        "# Exibir a área calculada e o perímetro do círculo\n",
        "print(\"Área do círculo:\", area)\n",
        "print(\"Perímetro do círculo:\", perimetro)"
      ],
      "metadata": {
        "colab": {
          "base_uri": "https://localhost:8080/"
        },
        "id": "nBlmUzFIPm44",
        "outputId": "d3d4d929-9098-4b72-d4cd-d6bd10766eb7"
      },
      "execution_count": null,
      "outputs": [
        {
          "output_type": "stream",
          "name": "stdout",
          "text": [
            "Entre como raio do circulo desejado: 1\n",
            "Área do círculo: 3.141592653589793\n",
            "Perímetro do círculo: 6.283185307179586\n"
          ]
        }
      ]
    },
    {
      "cell_type": "markdown",
      "source": [
        "### 3. Escreva um programa Python para criar uma classe que represente um carrinho de compras. Inclui métodos para adicionar e remover itens e calcular o preço total."
      ],
      "metadata": {
        "id": "KlzPUAtNPe1C"
      }
    },
    {
      "cell_type": "code",
      "source": [
        "# Define uma classe chamada ShoppingCart para representar um carrinho de compras\n",
        "class ShoppingCart:\n",
        "    # Inicializa o carrinho Vazio\n",
        "    def __init__(self):\n",
        "        self.itens = []\n",
        "\n",
        "    # Adiciona um item com nome e quantidade ao carrinho de compras\n",
        "    def add_item(self, item_nome, qty):\n",
        "        item = (item_nome, qty)\n",
        "        self.itens.append(item)\n",
        "\n",
        "    # Remove um item com um nome específico do carrinho de compras\n",
        "    def remove_item(self, item_nome):\n",
        "        for item in self.itens:\n",
        "            if item[0] == item_nome:\n",
        "                self.itens.remove(item)\n",
        "                break\n",
        "\n",
        "    # Calcula e retorna a quantidade total de itens no carrinho de compras\n",
        "    def calculate_total(self):\n",
        "        total = 0\n",
        "        for item in self.itens:\n",
        "            total += item[1]\n",
        "        return total\n",
        "\n",
        "    # Imprime itens no carrinho de compras\n",
        "    def imprime_carrinho(self):\n",
        "      for item in self.itens:\n",
        "        print(item)"
      ],
      "metadata": {
        "id": "yF6_eQkUPnTQ"
      },
      "execution_count": null,
      "outputs": []
    },
    {
      "cell_type": "code",
      "source": [
        "# Criando uma instância da classe ShoppingCart\n",
        "carrinho_bob = ShoppingCart()\n",
        "\n",
        "# Adicione itens ao carrinho de compras\n",
        "carrinho_bob.add_item(\"Papaya\", 5)\n",
        "carrinho_bob.add_item(\"Banana\", 24)\n",
        "carrinho_bob.add_item(\"Laranja\", 15)\n",
        "\n",
        "# Exibindo os itens atuais no carrinho e calcule a quantidade total\n",
        "print(\"Itens atuais no carrinho:\")\n",
        "carrinho_bob.imprime_carrinho()\n",
        "print(\"Quantidade Total:\", carrinho_bob.calculate_total())\n",
        "\n",
        "# Removendo um item\n",
        "carrinho_bob.remove_item(\"Laranja\")\n",
        "print(\"\\nItens atualizados no carrinho após a remoção da Laranja:\")\n",
        "carrinho_bob.imprime_carrinho()\n",
        "print(\"Quantidade Total:\", carrinho_bob.calculate_total())"
      ],
      "metadata": {
        "colab": {
          "base_uri": "https://localhost:8080/"
        },
        "id": "SDxieTBIQ-ZH",
        "outputId": "60a6b5b9-a0df-4a40-ed91-7d5c93afb195"
      },
      "execution_count": null,
      "outputs": [
        {
          "output_type": "stream",
          "name": "stdout",
          "text": [
            "Itens atuais no carrinho:\n",
            "('Papaya', 5)\n",
            "('Banana', 24)\n",
            "('Laranja', 15)\n",
            "Quantidade Total: 44\n",
            "\n",
            "Itens atualizados no carrinho após a remoção da Laranja:\n",
            "('Papaya', 5)\n",
            "('Banana', 24)\n",
            "Quantidade Total: 29\n"
          ]
        }
      ]
    }
  ]
}