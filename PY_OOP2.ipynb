{
  "nbformat": 4,
  "nbformat_minor": 0,
  "metadata": {
    "colab": {
      "provenance": [],
      "authorship_tag": "ABX9TyMysXBRwUgkafYNzJ36SCCN",
      "include_colab_link": true
    },
    "kernelspec": {
      "name": "python3",
      "display_name": "Python 3"
    },
    "language_info": {
      "name": "python"
    }
  },
  "cells": [
    {
      "cell_type": "markdown",
      "metadata": {
        "id": "view-in-github",
        "colab_type": "text"
      },
      "source": [
        "<a href=\"https://colab.research.google.com/github/rharkovskyProf/IntProgramacao/blob/main/PY_OOP2.ipynb\" target=\"_parent\"><img src=\"https://colab.research.google.com/assets/colab-badge.svg\" alt=\"Open In Colab\"/></a>"
      ]
    },
    {
      "cell_type": "markdown",
      "source": [
        "### 1. Escreva um programa Python para criar uma classe que represente uma forma geométrica. Incluir método “showDados” para imprimir o numero de lados,  sua  cor, área e perímetro da forma, e métodos genéricos para calcular sua área e seu perímetro."
      ],
      "metadata": {
        "id": "Md3DRPZRRxs3"
      }
    },
    {
      "cell_type": "code",
      "execution_count": null,
      "metadata": {
        "colab": {
          "base_uri": "https://localhost:8080/"
        },
        "id": "6GpQTasDRimd",
        "outputId": "70ae3452-476a-4cbe-de41-dd921e3aa3f2"
      },
      "outputs": [
        {
          "output_type": "stream",
          "name": "stdout",
          "text": [
            "Circulo: cor= azul, area=78.5 e perimetro= 31.4\n",
            "Quadrado: cor= amarelo, area=25.0 e perimetro= 20.0\n",
            "Retangulo: cor= verde, area=8.0 e perimetro= 12.0\n"
          ]
        }
      ],
      "source": [
        "class Geometrica:\n",
        "  def __init__(self, poligono, cor):\n",
        "    self.cor = cor\n",
        "    self.poligono=poligono\n",
        "\n",
        "  def perimetro(self):\n",
        "    pass\n",
        "\n",
        "  def area(self):\n",
        "    pass\n",
        "\n",
        "  def showDados(self):\n",
        "    print(f'{self.poligono}: cor= {self.cor}, area={self.area():.1f} e perimetro= {self.perimetro():.1f}')\n",
        "\n",
        "class poligono4lados(Geometrica):\n",
        "  def __init__(self, poligono, cor, base, altura):\n",
        "    super().__init__( poligono, cor)\n",
        "    self.base = base\n",
        "    self.altura = altura\n",
        "\n",
        "  def area(self):\n",
        "    return(self.base*self.altura)\n",
        "\n",
        "  def perimetro(self):\n",
        "    return((self.base+self.altura)*2)\n",
        "\n",
        "class Quadrado(poligono4lados):\n",
        "  def __init__(self, cor, tamanhoLado):\n",
        "      super().__init__( 'Quadrado', cor, tamanhoLado, tamanhoLado)\n",
        "\n",
        "class Retangulo(poligono4lados):\n",
        "  def __init__(self, cor, base, altura):\n",
        "      super().__init__( 'Retangulo', cor, base, altura)\n",
        "\n",
        "import math\n",
        "class Circulo(Geometrica):\n",
        "  def __init__(self, cor, raio):\n",
        "    super().__init__( 'Circulo', cor)\n",
        "    self.raio = raio\n",
        "\n",
        "  def area(self):\n",
        "    return(math.pi* self.raio**2)\n",
        "\n",
        "  def perimetro(self):\n",
        "    return(self.raio*2*math.pi)\n",
        "#main\n",
        "q1 = Circulo('azul', 5)\n",
        "q2 = Quadrado('amarelo', 5)\n",
        "q3 = Retangulo('verde', 4, 2)\n",
        "\n",
        "q1.showDados()\n",
        "q2.showDados()\n",
        "q3.showDados()\n"
      ]
    },
    {
      "cell_type": "markdown",
      "source": [
        "### 2. Implementar uma classe chamada “Veiculo” com a sua capacidade, quantidade rodas, e métodos para acelerar, frear e mostrar o painel. Crie em seguida 2 classes: Automovel e Bicicleta.\n",
        "Para Automovel redefina acelerar e frear para +10 Km/h e -10 km/h\n",
        "Para Bicicleta redefina acelerar e frear para +1 Km/h e -1 km/h\n",
        "\tCrie objetos das classes Automovel e Bicicleta e acelere e freie a gosto, apresentando sempre o painel\n"
      ],
      "metadata": {
        "id": "DqTQVEr1R-tM"
      }
    },
    {
      "cell_type": "code",
      "source": [
        "class Veiculo:\n",
        "  def __init__(self, rodas, capacidade):\n",
        "    self.numRodas = rodas\n",
        "    self.capacidade = capacidade\n",
        "    self.velocidade = 0 # veiculo parado inicialmente\n",
        "\n",
        "  def acelerar(self):\n",
        "    pass\n",
        "\n",
        "  def frear(self):\n",
        "    pass\n",
        "\n",
        "  def painel(self):\n",
        "    print(f'Veiculo de {self.numRodas} rodas - Velocidade Atual: {self.velocidade} Km/h')\n",
        "\n",
        "class Bicicleta(Veiculo):\n",
        "  def __init__(self):\n",
        "    super().__init__(2,2)\n",
        "\n",
        "  def acelerar(self):\n",
        "    self.velocidade +=1\n",
        "\n",
        "  def frear(self):\n",
        "    if self.velocidade > 0:\n",
        "      self.velocidade -=1\n",
        "\n",
        "class Carro(Veiculo):\n",
        "  def __init__(self):\n",
        "    super().__init__(4,5)\n",
        "\n",
        "  def acelerar(self):\n",
        "    self.velocidade +=10\n",
        "\n",
        "  def frear(self):\n",
        "    if self.velocidade > 0:\n",
        "      self.velocidade -=10\n",
        "\n",
        "#main\n",
        "bike1 = Bicicleta()\n",
        "car1 = Carro()\n",
        "\n",
        "bike1.painel()\n",
        "bike1.acelerar()\n",
        "bike1.acelerar()\n",
        "bike1.painel()\n",
        "\n",
        "print()\n",
        "\n",
        "car1.painel()\n",
        "car1.acelerar()\n",
        "car1.acelerar()\n",
        "car1.painel()\n",
        "\n",
        "car1.frear()\n",
        "car1.painel()\n"
      ],
      "metadata": {
        "colab": {
          "base_uri": "https://localhost:8080/"
        },
        "id": "LjrngosvSC4H",
        "outputId": "34876498-32ac-4dee-99cc-b84649ff43d9"
      },
      "execution_count": null,
      "outputs": [
        {
          "output_type": "stream",
          "name": "stdout",
          "text": [
            "Veiculo de 2 rodas - Velocidade Atual: 0 Km/h\n",
            "Veiculo de 2 rodas - Velocidade Atual: 2 Km/h\n",
            "\n",
            "Veiculo de 4 rodas - Velocidade Atual: 0 Km/h\n",
            "Veiculo de 4 rodas - Velocidade Atual: 20 Km/h\n",
            "Veiculo de 4 rodas - Velocidade Atual: 10 Km/h\n"
          ]
        }
      ]
    }
  ]
}