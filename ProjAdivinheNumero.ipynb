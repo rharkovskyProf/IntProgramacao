{
  "nbformat": 4,
  "nbformat_minor": 0,
  "metadata": {
    "colab": {
      "provenance": [],
      "authorship_tag": "ABX9TyNe5N8BLhbCHomKNRirP0yW",
      "include_colab_link": true
    },
    "kernelspec": {
      "name": "python3",
      "display_name": "Python 3"
    },
    "language_info": {
      "name": "python"
    }
  },
  "cells": [
    {
      "cell_type": "markdown",
      "metadata": {
        "id": "view-in-github",
        "colab_type": "text"
      },
      "source": [
        "<a href=\"https://colab.research.google.com/github/rharkovskyProf/IntProgramacao/blob/main/ProjAdivinheNumero.ipynb\" target=\"_parent\"><img src=\"https://colab.research.google.com/assets/colab-badge.svg\" alt=\"Open In Colab\"/></a>"
      ]
    },
    {
      "cell_type": "markdown",
      "source": [
        "###PROJETO: “Adivinhe o número”\n",
        "“Adivinhe o número” é um projeto clássico do Python onde o computador seleciona um número aleatório entre 1 e 100 e a tarefa do jogador é adivinhá-lo. Os jogadores podem dar seus palpites e o programa fornece dicas, informando se o número está acima, ou abaixo do palpite.\n"
      ],
      "metadata": {
        "id": "44SbXzqGDtz0"
      }
    },
    {
      "cell_type": "code",
      "execution_count": 2,
      "metadata": {
        "colab": {
          "base_uri": "https://localhost:8080/"
        },
        "id": "DQU-vW7PDpA3",
        "outputId": "51b2d1ba-42c7-437c-9624-d00264f76673"
      },
      "outputs": [
        {
          "output_type": "stream",
          "name": "stdout",
          "text": [
            "\n",
            "Está é sua 1a tentativa. Insira um número entre 1 e 100:\n",
            "50\n",
            "\n",
            "O número é menor que 50\n",
            "\n",
            "\n",
            "Está é sua 2a tentativa. Insira um número entre 1 e 100:\n",
            "25\n",
            "\n",
            "O número é MAIOR que 25\n",
            "\n",
            "\n",
            "Está é sua 3a tentativa. Insira um número entre 1 e 100:\n",
            "37\n",
            "\n",
            "O número é MAIOR que 37\n",
            "\n",
            "\n",
            "Está é sua 4a tentativa. Insira um número entre 1 e 100:\n",
            "42\n",
            "\n",
            "O número é MAIOR que 42\n",
            "\n",
            "\n",
            "Está é sua 5a tentativa. Insira um número entre 1 e 100:\n",
            "45\n",
            "\n",
            "O número é MAIOR que 45\n",
            "\n",
            "\n",
            "Está é sua 6a tentativa. Insira um número entre 1 e 100:\n",
            "47\n",
            "\n",
            "\n",
            "!!!PARABÉNS - VOCÊ ADIVINHOU O NÚMERO!!!\n",
            "\n",
            "\n"
          ]
        }
      ],
      "source": [
        "import random\n",
        "\n",
        "alea = random.randint(1,100)\n",
        "numerousuario = 0\n",
        "contador = 1\n",
        "while alea != numerousuario:\n",
        "    numerousuario = int(input(f'\\nEstá é sua {contador}a tentativa. Insira um número entre 1 e 100:\\n'))\n",
        "\n",
        "    contador = contador + 1\n",
        "\n",
        "    if numerousuario == alea:\n",
        "        print(f'\\n\\n!!!PARABÉNS - VOCÊ ADIVINHOU O NÚMERO!!!\\n\\n')\n",
        "        break\n",
        "\n",
        "    elif numerousuario > alea:\n",
        "        print(f'\\nO número é menor que {numerousuario}\\n')\n",
        "\n",
        "    elif numerousuario < alea:\n",
        "        print(f'\\nO número é MAIOR que {numerousuario}\\n')"
      ]
    }
  ]
}