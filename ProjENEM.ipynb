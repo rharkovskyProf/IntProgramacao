{
  "nbformat": 4,
  "nbformat_minor": 0,
  "metadata": {
    "colab": {
      "provenance": [],
      "authorship_tag": "ABX9TyN+x4Pwmtx240rdxHLY1K7R",
      "include_colab_link": true
    },
    "kernelspec": {
      "name": "python3",
      "display_name": "Python 3"
    },
    "language_info": {
      "name": "python"
    }
  },
  "cells": [
    {
      "cell_type": "markdown",
      "metadata": {
        "id": "view-in-github",
        "colab_type": "text"
      },
      "source": [
        "<a href=\"https://colab.research.google.com/github/rharkovskyProf/IntProgramacao/blob/main/ProjENEM.ipynb\" target=\"_parent\"><img src=\"https://colab.research.google.com/assets/colab-badge.svg\" alt=\"Open In Colab\"/></a>"
      ]
    },
    {
      "cell_type": "markdown",
      "source": [
        "### Projeto ENEM\n",
        "\n",
        "Considere que a prova do ENEM possui 10 questões e que você pegou uma amostra de 10 (dez) respostas dos candidatos para criar um código que calcule a Nota de cada aluno.\n",
        "\n",
        "•\tCada questão certa vale 1 pontos.\n",
        "\n",
        "•\tNota final é a soma dos acertos\n",
        "\n",
        "O programa deve apresentar o nome, o resultado e a pontuação final de cada aluno, em ordem decrescente, no formato:\n",
        "\n",
        "\" 1o colocado: <aluno>\n",
        "\n",
        "Matriz de acertos: [1, 1, 0, 1, 1, 1, 0, 1, 1, 0]\n",
        "\n",
        "Nota final <nota>\"\n",
        "\n",
        "![img1.PNG](data:image/png;base64,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)\n"
      ],
      "metadata": {
        "id": "UpsCwmuDJe8S"
      }
    },
    {
      "cell_type": "code",
      "execution_count": 1,
      "metadata": {
        "colab": {
          "base_uri": "https://localhost:8080/"
        },
        "id": "JVeIeVPpJUYb",
        "outputId": "95f3567a-376a-4b49-aaad-dd66c7270232"
      },
      "outputs": [
        {
          "output_type": "stream",
          "name": "stdout",
          "text": [
            "1o colocado: EDUARDA\n",
            "Matriz de acertos: [1, 1, 1, 1, 1, 1, 1, 1, 1, 1]\n",
            "Nota final 10\n",
            "\n",
            "2o colocado: PEDRO\n",
            "Matriz de acertos: [1, 1, 1, 1, 1, 1, 1, 1, 0, 1]\n",
            "Nota final 9\n",
            "\n",
            "3o colocado: FLAVIO\n",
            "Matriz de acertos: [1, 1, 1, 1, 0, 1, 1, 0, 1, 1]\n",
            "Nota final 8\n",
            "\n",
            "4o colocado: GABRIELA\n",
            "Matriz de acertos: [1, 1, 0, 1, 1, 1, 0, 1, 1, 0]\n",
            "Nota final 7\n",
            "\n",
            "5o colocado: LAURA\n",
            "Matriz de acertos: [1, 0, 0, 1, 0, 1, 1, 1, 1, 1]\n",
            "Nota final 7\n",
            "\n",
            "6o colocado: RODRIGO\n",
            "Matriz de acertos: [1, 0, 1, 0, 1, 1, 1, 1, 0, 0]\n",
            "Nota final 6\n",
            "\n",
            "7o colocado: MARIA\n",
            "Matriz de acertos: [1, 0, 0, 1, 0, 0, 1, 1, 1, 1]\n",
            "Nota final 6\n",
            "\n",
            "8o colocado: BOB\n",
            "Matriz de acertos: [1, 0, 0, 0, 1, 0, 0, 1, 1, 1]\n",
            "Nota final 5\n",
            "\n",
            "9o colocado: CARLOS\n",
            "Matriz de acertos: [1, 0, 1, 0, 1, 0, 1, 1, 0, 0]\n",
            "Nota final 5\n",
            "\n",
            "10o colocado: CLARA\n",
            "Matriz de acertos: [0, 1, 0, 0, 1, 0, 0, 1, 1, 0]\n",
            "Nota final 4\n",
            "\n"
          ]
        }
      ],
      "source": [
        "# codigo utiliza listas e dicionarios\n",
        "# cada elemento da lista alunos é um dicionario com as chaves \"nome\" e \"respostas\"\n",
        "# Lista de alunos com seus nomes e respostas para as 10 questões do ENEM\n",
        "alunos = [\n",
        "    {\"nome\": \"BOB\", \"respostas\": [\"B\", \"E\", \"B\", \"E\", \"D\", \"B\", \"A\", \"A\", \"A\", \"E\"]},\n",
        "    {\"nome\": \"RODRIGO\", \"respostas\": [\"B\", \"E\", \"D\", \"A\", \"D\", \"A\", \"C\", \"A\", \"B\", \"D\"]},\n",
        "    {\"nome\": \"PEDRO\", \"respostas\": [\"B\", \"C\", \"D\", \"C\", \"D\", \"A\", \"C\", \"A\", \"C\", \"E\"]},\n",
        "    {\"nome\": \"GABRIELA\", \"respostas\": [\"B\", \"C\", \"A\", \"C\", \"D\", \"A\", \"D\", \"A\", \"A\", \"B\"]},\n",
        "    {\"nome\": \"LAURA\", \"respostas\": [\"B\", \"E\", \"B\", \"C\", \"B\", \"A\", \"C\", \"A\", \"A\", \"E\"]},\n",
        "    {\"nome\": \"CARLOS\", \"respostas\": [\"B\", \"B\", \"D\", \"A\", \"D\", \"D\", \"C\", \"A\", \"C\", \"B\"]},\n",
        "    {\"nome\": \"FLAVIO\", \"respostas\": [\"B\", \"C\", \"D\", \"C\", \"B\", \"A\", \"C\", \"B\", \"A\", \"E\"]},\n",
        "    {\"nome\": \"CLARA\", \"respostas\": [\"A\", \"C\", \"E\", \"D\", \"D\", \"B\", \"A\", \"A\", \"A\", \"A\"]},\n",
        "    {\"nome\": \"EDUARDA\", \"respostas\": [\"B\", \"C\", \"D\", \"C\", \"D\", \"A\", \"C\", \"A\", \"A\", \"E\"]},\n",
        "    {\"nome\": \"MARIA\", \"respostas\": [\"B\", \"D\", \"A\", \"C\", \"B\", \"C\", \"C\", \"A\", \"A\", \"E\"]}\n",
        "]\n",
        "\n",
        "# Gabarito oficial para as 10 questões da prova\n",
        "gabarito = [\"B\", \"C\", \"D\", \"C\", \"D\", \"A\", \"C\", \"A\", \"A\", \"E\"]\n",
        "\n",
        "# Lista para armazenar os resultados de cada aluno\n",
        "resultados = []\n",
        "\n",
        "# Loop para calcular a pontuação de cada aluno\n",
        "for aluno in alunos:\n",
        "\n",
        "    # Lista que armazena os acertos (1 para correto, 0 para incorreto)\n",
        "    acertos = [int(aluno['respostas'][i] == gabarito[i]) for i in range(10)]\n",
        "\n",
        "    # Soma dos acertos para obter a nota final do aluno\n",
        "    nota = sum(acertos)\n",
        "\n",
        "    # Adiciona o nome, a lista de acertos e a nota final à lista de resultados\n",
        "    resultados.append({\"nome\": aluno[\"nome\"], \"acertos\": acertos, \"nota\": nota})\n",
        "\n",
        "# Ordena a lista de resultados pela nota em ordem decrescente\n",
        "resultados.sort(key=lambda x: x[\"nota\"], reverse=True)\n",
        "\n",
        "# Exibe o resultado final em formato ordenado\n",
        "for i, resultado in enumerate(resultados):\n",
        "    print(f\"{i+1}o colocado: {resultado['nome']}\")\n",
        "    print(f\"Matriz de acertos: {resultado['acertos']}\")\n",
        "    print(f\"Nota final {resultado['nota']}\\n\")\n"
      ]
    }
  ]
}