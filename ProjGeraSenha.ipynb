{
  "nbformat": 4,
  "nbformat_minor": 0,
  "metadata": {
    "colab": {
      "provenance": [],
      "authorship_tag": "ABX9TyOKfP6BiOk2aovdhgxL7LbL",
      "include_colab_link": true
    },
    "kernelspec": {
      "name": "python3",
      "display_name": "Python 3"
    },
    "language_info": {
      "name": "python"
    }
  },
  "cells": [
    {
      "cell_type": "markdown",
      "metadata": {
        "id": "view-in-github",
        "colab_type": "text"
      },
      "source": [
        "<a href=\"https://colab.research.google.com/github/rharkovskyProf/IntProgramacao/blob/main/ProjGeraSenha.ipynb\" target=\"_parent\"><img src=\"https://colab.research.google.com/assets/colab-badge.svg\" alt=\"Open In Colab\"/></a>"
      ]
    },
    {
      "cell_type": "markdown",
      "source": [
        "### Projeto Gerador de Senha Forte\n",
        "\n",
        "O projeto \"Password Generator\" envolve a criação de um programa Python que gera senhas fortes e seguras com base nas preferências do usuário. Os usuários podem especificar parâmetros tais como comprimento da senha e tipos de caracteres, e o programa gerará uma senha robusta, aumentando a segurança cibernética para contas online e dados pessoais.\n",
        "\n",
        "entrada:\n",
        "tamanho da senha\n",
        "utilizar caracteres Maiúsculos (S/N):\n",
        "\n",
        "utilizar caracteres Minúsculos (S/N):\n",
        "\n",
        "utilizar Dígitos (S/N):\n",
        "\n",
        "utilizar caracteres especiais (S/N):\n",
        "\n",
        "Dica: Crie listas de caracteres diversos (maiúsculos, minúsculos, dígitos e especiais) e selecione os componentes da senha dessas listas. Para selecionar um caractere de uma lista pode-se utilizar o método random.choice() da biblioteca random, que retorna 1 caractere aleatório de uma string fornecida.\n",
        "\n",
        "utilizar os seguintes caracteres:\n",
        "\n",
        "•\tdígitos= '1234567890'\n",
        "\n",
        "•\tminúsculo = letras minúsculas do alfabeto\n",
        "\n",
        "•\tmaiúsculo = letras maiúsculas do alfabeto\n",
        "\n",
        "•\tespeciais = '!@#$%&*()'\n"
      ],
      "metadata": {
        "id": "yjKrudOdFELB"
      }
    },
    {
      "cell_type": "code",
      "execution_count": 1,
      "metadata": {
        "colab": {
          "base_uri": "https://localhost:8080/"
        },
        "id": "P81vw4sNE-BK",
        "outputId": "b055f324-590f-43e3-9f51-59cd62025596"
      },
      "outputs": [
        {
          "output_type": "stream",
          "name": "stdout",
          "text": [
            "Quantos dígitos terá a senha: 10\n",
            "Sua senha terá caracteres maiúsculos? [S] [N]: S\n",
            "Sua senha terá caracteres minúsculos? [S] [N]: S\n",
            "Sua senha terá caracteres especiais? [S] [N]: N\n",
            "Sua senha terá dígitos? [S] [N]: S\n",
            "Senha gerada: hZ1xc6vtK7\n",
            "Você deseja continuar e fazer outra senha? [S] [N]: S\n",
            "Quantos dígitos terá a senha: 7\n",
            "Sua senha terá caracteres maiúsculos? [S] [N]: n\n",
            "Sua senha terá caracteres minúsculos? [S] [N]: S\n",
            "Sua senha terá caracteres especiais? [S] [N]: S\n",
            "Sua senha terá dígitos? [S] [N]: S\n",
            "Senha gerada: o6jfm4w\n",
            "Você deseja continuar e fazer outra senha? [S] [N]: N\n",
            "Fim do programa...\n"
          ]
        }
      ],
      "source": [
        "import random\n",
        "\n",
        "# Funcao geradora de senha\n",
        "def gerador_senha(dig,maiusculos,minusculas, especial, digito):\n",
        "    caractere = \"\"\n",
        "    if maiusculos:\n",
        "        caractere += \"ABCDEFGHIJKLMNOPQRSTUVWXYZ\"\n",
        "    if minusculas:\n",
        "        caractere += \"abcdefghijklmnopqrstuvwxyz\"\n",
        "    if especial:\n",
        "        caractere += \"!@#$%&*()\"\n",
        "    if digito:\n",
        "        caractere += \"123456789\"\n",
        "    if not caractere:\n",
        "        return \"ERROR, sua senha deve haver pelo menos 1 tipo de caractere...\"\n",
        "\n",
        "    senha = \"\".join(random.choice(caractere) for i in range(dig))\n",
        "    return senha\n",
        "\n",
        "while True:\n",
        "# Le definições\n",
        "    dig = int(input(\"Quantos dígitos terá a senha: \"))\n",
        "    maiusculos = input(\"Sua senha terá caracteres maiúsculos? [S] [N]: \").upper() == \"S\"\n",
        "    minusculas = input(\"Sua senha terá caracteres minúsculos? [S] [N]: \").upper() == \"S\"\n",
        "    especial = input(\"Sua senha terá caracteres especiais? [S] [N]: \").upper() == \"S\"\n",
        "    digito = input(\"Sua senha terá dígitos? [S] [N]: \").upper() == \"S\"\n",
        "\n",
        "# gera senha\n",
        "    senha_gerada = gerador_senha(dig,maiusculos,minusculas,especial,digito)\n",
        "    print(\"Senha gerada: {}\".format(senha_gerada))\n",
        "\n",
        "# Pergunta se continua\n",
        "    dnv = input(\"Você deseja continuar e fazer outra senha? [S] [N]: \").upper()\n",
        "    if dnv != \"S\":\n",
        "        break\n",
        "# Fim\n",
        "print(\"Fim do programa...\")"
      ]
    }
  ]
}