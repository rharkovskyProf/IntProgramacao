{
  "nbformat": 4,
  "nbformat_minor": 0,
  "metadata": {
    "colab": {
      "provenance": [],
      "authorship_tag": "ABX9TyP68lR8f18H+5lPaXp+TDC0",
      "include_colab_link": true
    },
    "kernelspec": {
      "name": "python3",
      "display_name": "Python 3"
    },
    "language_info": {
      "name": "python"
    }
  },
  "cells": [
    {
      "cell_type": "markdown",
      "metadata": {
        "id": "view-in-github",
        "colab_type": "text"
      },
      "source": [
        "<a href=\"https://colab.research.google.com/github/rharkovskyProf/IntProgramacao/blob/main/ProjJogodoSegredo.ipynb\" target=\"_parent\"><img src=\"https://colab.research.google.com/assets/colab-badge.svg\" alt=\"Open In Colab\"/></a>"
      ]
    },
    {
      "cell_type": "markdown",
      "source": [
        "### Projeto Criptografia Simétrica\n",
        "\n",
        "Desde a antiguidade, a necessidade de segurança da informação era presente. Já naquela época mensagens eram cifradas antes de serem enviadas para as frentes de batalha, ou para os reis. Mesmo nas guerras mais recentes, como a 2ª guerra mundial, o conceito de segurança permanecia. Obviamente tudo era feito manualmente, ou via o uso de máquinas mecânicas.\n",
        "\n",
        "Vamos construir um código para automatizar esta criptografia, por meio de um código em python que realize a cifragem e decifragem de um texto, baseado na seguinte regra:\n",
        "\n",
        "Z <=> P\n",
        "\n",
        "E <=> O\n",
        "\n",
        "N <=> L\n",
        "\n",
        "I <=> A\n",
        "\n",
        "T <=> R\n",
        "\n",
        "z <=> p\n",
        "\n",
        "e <=> o\n",
        "\n",
        "n <=> l\n",
        "\n",
        "i  <=> a\n",
        "\n",
        "\n",
        "t <=> r\n"
      ],
      "metadata": {
        "id": "t-KAkztIHCmK"
      }
    },
    {
      "cell_type": "code",
      "execution_count": 5,
      "metadata": {
        "colab": {
          "base_uri": "https://localhost:8080/"
        },
        "id": "-CVVyMuuG5ef",
        "outputId": "846b8695-8516-4e36-aad6-b3b86b88a152"
      },
      "outputs": [
        {
          "output_type": "stream",
          "name": "stdout",
          "text": [
            "Escreva o texto: Rede mulde igo lie izolis zet cemzunsie oxrotli, mis rimbom zet locossadido alrami\n",
            "Entrada:\"Rede mulde igo lie izolis zet cemzunsie oxrotli, mis rimbom zet locossadido alrami\"\n",
            "Saida:\"Todo mundo age nao apenas por compulsao externa, mas tambem por necessidade intima\"\n"
          ]
        }
      ],
      "source": [
        "# Opção 1 - usando for, if/elif\n",
        "texto = input('Escreva o texto: ')\n",
        "novo_texto = ''\n",
        "\n",
        "for i in range(len(texto)):\n",
        "    if texto[i] == 'z':\n",
        "        novo_texto += 'p'\n",
        "    elif texto[i] == 'Z':\n",
        "        novo_texto += 'P'\n",
        "    elif texto[i] == 'e':\n",
        "        novo_texto += 'o'\n",
        "    elif texto[i] == 'E':\n",
        "        novo_texto += 'O'\n",
        "    elif texto[i] == 'n':\n",
        "        novo_texto += 'l'\n",
        "    elif texto[i] == 'N':\n",
        "        novo_texto += 'L'\n",
        "    elif texto[i] == 'i':\n",
        "        novo_texto += 'a'\n",
        "    elif texto[i] == 'I':\n",
        "        novo_texto += 'A'\n",
        "    elif texto[i] == 't':\n",
        "        novo_texto += 'r'\n",
        "    elif texto[i] == 'T':\n",
        "        novo_texto += 'R'\n",
        "    elif texto[i] == 'p':\n",
        "        novo_texto += 'z'\n",
        "    elif texto[i] == 'P':\n",
        "        novo_texto += 'Z'\n",
        "    elif texto[i] == 'o':\n",
        "        novo_texto += 'e'\n",
        "    elif texto[i] == 'O':\n",
        "        novo_texto += 'E'\n",
        "    elif texto[i] == 'l':\n",
        "        novo_texto += 'n'\n",
        "    elif texto[i] == 'L':\n",
        "        novo_texto += 'N'\n",
        "    elif texto[i] == 'a':\n",
        "        novo_texto += 'i'\n",
        "    elif texto[i] == 'A':\n",
        "        novo_texto += 'I'\n",
        "    elif texto[i] == 'r':\n",
        "        novo_texto += 't'\n",
        "    elif texto[i] == 'R':\n",
        "        novo_texto += 'T'\n",
        "    else:\n",
        "        novo_texto += texto[i]\n",
        "\n",
        "print(f'Entrada:\"{texto}\"')\n",
        "print(f'Saida:\"{novo_texto}\"')"
      ]
    },
    {
      "cell_type": "code",
      "source": [
        "#Opção 2 - com dicionario\n",
        "codificacao = {'z':'p', 'Z':'P', 'e':'o', 'E':'O', 'n':'l', 'N':'L', 'i':'a', 'I':'A', 't':'r', 'T':'R', 'p':'z', 'P':'Z', 'o':'e', 'O':'E', 'l':'n', 'L':'N', 'a':'i', 'A':'I', 'r':'t', 'R':'T'}\n",
        "\n",
        "texto = input('Escreva o texto: ')\n",
        "novo_texto = ''\n",
        "\n",
        "for letra in texto:\n",
        "    novo_texto += codificacao.get(letra, letra)\n",
        "\n",
        "print(f'Entrada:\"{texto}\"')\n",
        "print(f'Saida:\"{novo_texto}\"')"
      ],
      "metadata": {
        "colab": {
          "base_uri": "https://localhost:8080/"
        },
        "id": "0uIinwrYILO5",
        "outputId": "1fa273a6-b45a-41dc-d574-1c498da44ffb"
      },
      "execution_count": 6,
      "outputs": [
        {
          "output_type": "stream",
          "name": "stdout",
          "text": [
            "Escreva o texto: Todo mundo age nao apenas por compulsao externa, mas tambem por necessidade intima\n",
            "Entrada:\"Todo mundo age nao apenas por compulsao externa, mas tambem por necessidade intima\"\n",
            "Saida:\"Rede mulde igo lie izolis zet cemzunsie oxrotli, mis rimbom zet locossadido alrami\"\n"
          ]
        }
      ]
    }
  ]
}