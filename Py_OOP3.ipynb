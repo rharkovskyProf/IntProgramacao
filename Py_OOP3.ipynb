{
  "nbformat": 4,
  "nbformat_minor": 0,
  "metadata": {
    "colab": {
      "provenance": [],
      "authorship_tag": "ABX9TyOI0XZ9LGvDuMrYm6gOQJOz",
      "include_colab_link": true
    },
    "kernelspec": {
      "name": "python3",
      "display_name": "Python 3"
    },
    "language_info": {
      "name": "python"
    }
  },
  "cells": [
    {
      "cell_type": "markdown",
      "metadata": {
        "id": "view-in-github",
        "colab_type": "text"
      },
      "source": [
        "<a href=\"https://colab.research.google.com/github/rharkovskyProf/IntProgramacao/blob/main/Py_OOP3.ipynb\" target=\"_parent\"><img src=\"https://colab.research.google.com/assets/colab-badge.svg\" alt=\"Open In Colab\"/></a>"
      ]
    },
    {
      "cell_type": "markdown",
      "source": [
        "## OOP 3\n",
        "1. Criar classes para “Autor” e “Livro”. Classe Autor tem o nome de um autor e a classe “Livro” deve ter um objeto “Autor” como um de seus  atributos, além de seu nome e ISDN. Cada livro poderá ter vários autores. O programa deve permitir apresentar  o livro dado seu ISDN\n"
      ],
      "metadata": {
        "id": "zHtYgH2-ruS4"
      }
    },
    {
      "cell_type": "code",
      "execution_count": null,
      "metadata": {
        "colab": {
          "base_uri": "https://localhost:8080/"
        },
        "id": "8LdvzVQeqIsN",
        "outputId": "61d6838f-f367-487d-94cd-076ad244977e"
      },
      "outputs": [
        {
          "output_type": "stream",
          "name": "stdout",
          "text": [
            "Star Trek\n",
            "Harry Potter\n"
          ]
        }
      ],
      "source": [
        "class Autor:\n",
        "  def __init__(self, nome, email):\n",
        "    self.nome=nome\n",
        "    self.email=email\n",
        "\n",
        "  def leAutor(self):\n",
        "    return self.nome\n",
        "\n",
        "class Livro:\n",
        "  def __init__(self, titulo, ISDN):\n",
        "    self.titulo=titulo\n",
        "    self.ISDN = ISDN\n",
        "    self.autores = []\n",
        "\n",
        "  def addAutores(self, nomeAutor):\n",
        "    self.autores.append(nomeAutor)\n",
        "\n",
        "  def showlivro(self):\n",
        "    return self.titulo\n",
        "  def showAutores(self):\n",
        "    autores =''\n",
        "    for aut in self.autores:\n",
        "      autores = autores + ' ' + aut.leAutor()\n",
        "    return autores\n",
        "\n",
        "  def getISDN(self):\n",
        "    return self.ISDN\n",
        "\n",
        "class Biblioteca:\n",
        "  def __init__(self, nome):\n",
        "    self.nome = nome\n",
        "    self.acervo = {}\n",
        "\n",
        "  def addLivro(self, livro):\n",
        "    self.acervo[livro.getISDN()] = livro\n",
        "\n",
        "  def leLivro(self, ISDN):\n",
        "    livroRecup = self.acervo[ISDN]\n",
        "    return livroRecup.showlivro()\n",
        "    # return self.acervo[ISDN].showlivro() # opção de resposta\n",
        "\n",
        "#main\n",
        "autor1 = Autor('Felipe', 'f@gmail.com')\n",
        "autor2 = Autor('Igor', 'i@gmail.com')\n",
        "autor3 = Autor('Roberto', 'r@gmail.com')\n",
        "\n",
        "livro1 = Livro('Star Trek', 1234)\n",
        "livro1.addAutores(autor1)\n",
        "livro1.addAutores(autor2)\n",
        "\n",
        "livro2 = Livro('Harry Potter', 4321)\n",
        "livro2.addAutores(autor2)\n",
        "livro2.addAutores(autor3)\n",
        "\n",
        "biblio = Biblioteca('Aventura')\n",
        "biblio.addLivro(livro1)\n",
        "biblio.addLivro(livro2)\n",
        "\n",
        "print(biblio.leLivro(1234))\n",
        "print(biblio.leLivro(4321))\n",
        "\n",
        "\n",
        "# print(f'Livro: {livro1.showlivro()}')\n",
        "# print(f'Autores: {livro1.showAutores()}')\n",
        "# print()\n",
        "\n",
        "# print(f'Livro: {livro2.showlivro()}')\n",
        "# print(f'Autores: {livro2.showAutores()}')\n",
        "# print()\n",
        "\n"
      ]
    }
  ]
}