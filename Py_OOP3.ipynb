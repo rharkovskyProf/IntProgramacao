{
  "nbformat": 4,
  "nbformat_minor": 0,
  "metadata": {
    "colab": {
      "provenance": [],
      "authorship_tag": "ABX9TyNXgKT28VuQ6uwjKyVdTzXW",
      "include_colab_link": true
    },
    "kernelspec": {
      "name": "python3",
      "display_name": "Python 3"
    },
    "language_info": {
      "name": "python"
    }
  },
  "cells": [
    {
      "cell_type": "markdown",
      "metadata": {
        "id": "view-in-github",
        "colab_type": "text"
      },
      "source": [
        "<a href=\"https://colab.research.google.com/github/rharkovskyProf/IntProgramacao/blob/main/Py_OOP3.ipynb\" target=\"_parent\"><img src=\"https://colab.research.google.com/assets/colab-badge.svg\" alt=\"Open In Colab\"/></a>"
      ]
    },
    {
      "cell_type": "markdown",
      "source": [
        "## OOP 3\n",
        "1. Criar classes para “Autor” e “Livro”. Classe Autor tem o nome de um autor e a classe “Livro” deve ter um objeto “Autor” como um de seus  atributos, além de seu nome e ISDN. Cada livro poderá ter vários autores. O programa deve permitir apresentar  o livro dado seu ISDN\n"
      ],
      "metadata": {
        "id": "zHtYgH2-ruS4"
      }
    },
    {
      "cell_type": "code",
      "execution_count": null,
      "metadata": {
        "colab": {
          "base_uri": "https://localhost:8080/"
        },
        "id": "8LdvzVQeqIsN",
        "outputId": "61d6838f-f367-487d-94cd-076ad244977e"
      },
      "outputs": [
        {
          "output_type": "stream",
          "name": "stdout",
          "text": [
            "Star Trek\n",
            "Harry Potter\n"
          ]
        }
      ],
      "source": [
        "class Autor:\n",
        "  def __init__(self, nome, email):\n",
        "    self.nome=nome\n",
        "    self.email=email\n",
        "\n",
        "  def leAutor(self):\n",
        "    return self.nome\n",
        "\n",
        "class Livro:\n",
        "  def __init__(self, titulo, ISDN):\n",
        "    self.titulo=titulo\n",
        "    self.ISDN = ISDN\n",
        "    self.autores = []\n",
        "\n",
        "  def addAutores(self, nomeAutor):\n",
        "    self.autores.append(nomeAutor)\n",
        "\n",
        "  def showlivro(self):\n",
        "    return self.titulo\n",
        "  def showAutores(self):\n",
        "    autores =''\n",
        "    for aut in self.autores:\n",
        "      autores = autores + ' ' + aut.leAutor()\n",
        "    return autores\n",
        "\n",
        "  def getISDN(self):\n",
        "    return self.ISDN\n",
        "\n",
        "class Biblioteca:\n",
        "  def __init__(self, nome):\n",
        "    self.nome = nome\n",
        "    self.acervo = {}\n",
        "\n",
        "  def addLivro(self, livro):\n",
        "    self.acervo[livro.getISDN()] = livro\n",
        "\n",
        "  def leLivro(self, ISDN):\n",
        "    livroRecup = self.acervo[ISDN]\n",
        "    return livroRecup.showlivro()\n",
        "    # return self.acervo[ISDN].showlivro() # opção de resposta\n",
        "\n",
        "#main\n",
        "autor1 = Autor('Felipe', 'f@gmail.com')\n",
        "autor2 = Autor('Igor', 'i@gmail.com')\n",
        "autor3 = Autor('Roberto', 'r@gmail.com')\n",
        "\n",
        "livro1 = Livro('Star Trek', 1234)\n",
        "livro1.addAutores(autor1)\n",
        "livro1.addAutores(autor2)\n",
        "\n",
        "livro2 = Livro('Harry Potter', 4321)\n",
        "livro2.addAutores(autor2)\n",
        "livro2.addAutores(autor3)\n",
        "\n",
        "biblio = Biblioteca('Aventura')\n",
        "biblio.addLivro(livro1)\n",
        "biblio.addLivro(livro2)\n",
        "\n",
        "print(biblio.leLivro(1234))\n",
        "print(biblio.leLivro(4321))\n",
        "\n",
        "\n",
        "# print(f'Livro: {livro1.showlivro()}')\n",
        "# print(f'Autores: {livro1.showAutores()}')\n",
        "# print()\n",
        "\n",
        "# print(f'Livro: {livro2.showlivro()}')\n",
        "# print(f'Autores: {livro2.showAutores()}')\n",
        "# print()\n",
        "\n"
      ]
    },
    {
      "cell_type": "markdown",
      "source": [
        "2. Cadastro de viagem:  O “Cadastro” conterá “Viagem”, que deverá ser uma classe contendo destino e custo, e o cadastro uma classe que contem as possíveis viagens. O programa deverá solicitar o nome do # viajante, dar as opções de destino e imprimir a selecionada\n"
      ],
      "metadata": {
        "id": "_xKJ256PTd-Y"
      }
    },
    {
      "cell_type": "code",
      "source": [
        "class Viagem:\n",
        "  def __init__(self, destino, custo):\n",
        "    self.destino = destino\n",
        "    self.custo = custo\n",
        "\n",
        "  def __str__(self):\n",
        "    return f\"Destino: {self.destino}, Custo: R${self.custo:.2f}\"\n",
        "\n",
        "class CadastroViagens:\n",
        "  def __init__(self):\n",
        "    self.viagens = []\n",
        "\n",
        "  def adicionar_viagem(self, viagem):\n",
        "    self.viagens.append(viagem)\n",
        "\n",
        "  def mostrar_opcoes(self):\n",
        "    print(\"Opções de Viagem:\")\n",
        "    for i, viagem in enumerate(self.viagens):\n",
        "      print(f\"{i+1}. {viagem}\")\n",
        "\n",
        "  def selecionar_viagem(self, indice):\n",
        "    if 1 <= indice <= len(self.viagens):\n",
        "      return self.viagens[indice - 1]\n",
        "    else:\n",
        "      return None\n",
        "\n",
        "# Criando algumas viagens\n",
        "viagem1 = Viagem(\"Rio de Janeiro\", 500.00)\n",
        "viagem2 = Viagem(\"São Paulo\", 300.00)\n",
        "viagem3 = Viagem(\"Salvador\", 700.00)\n",
        "\n",
        "# Criando um cadastro de viagens\n",
        "cadastro = CadastroViagens()\n",
        "cadastro.adicionar_viagem(viagem1)\n",
        "cadastro.adicionar_viagem(viagem2)\n",
        "cadastro.adicionar_viagem(viagem3)\n",
        "\n",
        "# Solicitando o nome do viajante\n",
        "nome_viajante = input(\"Digite o nome do viajante: \")\n",
        "\n",
        "# Mostrando as opções de viagem\n",
        "cadastro.mostrar_opcoes()\n",
        "\n",
        "# Solicitando a escolha do viajante\n",
        "escolha = int(input(\"Selecione o número da viagem desejada: \"))\n",
        "\n",
        "# Selecionando a viagem\n",
        "viagem_selecionada = cadastro.selecionar_viagem(escolha)\n",
        "\n",
        "# Imprimindo a viagem selecionada\n",
        "if viagem_selecionada:\n",
        "  print(f\"\\n{nome_viajante}, você selecionou a seguinte viagem:\")\n",
        "  print(viagem_selecionada)\n",
        "else:\n",
        "  print(\"Opção inválida.\")\n",
        "\n"
      ],
      "metadata": {
        "colab": {
          "base_uri": "https://localhost:8080/"
        },
        "id": "M05lMZ_BTs6A",
        "outputId": "c9d7f4f1-066c-4abc-b038-c7018e899b4b"
      },
      "execution_count": 1,
      "outputs": [
        {
          "output_type": "stream",
          "name": "stdout",
          "text": [
            "Digite o nome do viajante: Roberto\n",
            "Opções de Viagem:\n",
            "1. Destino: Rio de Janeiro, Custo: R$500.00\n",
            "2. Destino: São Paulo, Custo: R$300.00\n",
            "3. Destino: Salvador, Custo: R$700.00\n",
            "Selecione o número da viagem desejada: 1\n",
            "\n",
            "Roberto, você selecionou a seguinte viagem:\n",
            "Destino: Rio de Janeiro, Custo: R$500.00\n"
          ]
        }
      ]
    },
    {
      "cell_type": "markdown",
      "source": [
        "3. Agenda de contatos: Preparar uma agenda utilizando classes. Cada entrada da “Agenda” será uma classe “Contato”, contendo nome, numero(s) e email\n"
      ],
      "metadata": {
        "id": "22aSXXLvUqeJ"
      }
    },
    {
      "cell_type": "code",
      "source": [
        "class Contato:\n",
        "  def __init__(self, nome, numeros, email):\n",
        "    self.nome = nome\n",
        "    self.numeros = numeros\n",
        "    self.email = email\n",
        "\n",
        "  def __str__(self):\n",
        "    return f\"Nome: {self.nome}\\nNúmeros: {', '.join(self.numeros)}\\nEmail: {self.email}\"\n",
        "\n",
        "class Agenda:\n",
        "  def __init__(self):\n",
        "    self.contatos = {}\n",
        "\n",
        "  def adicionar_contato(self, contato):\n",
        "    self.contatos[contato.nome] = contato\n",
        "\n",
        "  def remover_contato(self, nome):\n",
        "    if nome in self.contatos:\n",
        "      del self.contatos[nome]\n",
        "      print(f\"Contato '{nome}' removido com sucesso.\")\n",
        "    else:\n",
        "      print(f\"Contato '{nome}' não encontrado.\")\n",
        "\n",
        "  def buscar_contato(self, nome):\n",
        "    if nome in self.contatos:\n",
        "      return self.contatos[nome]\n",
        "    else:\n",
        "      return None\n",
        "\n",
        "  def listar_contatos(self):\n",
        "    if self.contatos:\n",
        "      print(\"Lista de Contatos:\")\n",
        "      for contato in self.contatos.values():\n",
        "        print(contato)\n",
        "        print(\"-\" * 20)\n",
        "    else:\n",
        "      print(\"A agenda está vazia.\")\n",
        "\n",
        "# Exemplo de uso\n",
        "agenda = Agenda()\n",
        "\n",
        "contato1 = Contato(\"João Silva\", [\"(11) 99999-9999\", \"(11) 3333-3333\"], \"joao.silva@email.com\")\n",
        "contato2 = Contato(\"Maria Santos\", [\"(21) 88888-8888\"], \"maria.santos@email.com\")\n",
        "\n",
        "agenda.adicionar_contato(contato1)\n",
        "agenda.adicionar_contato(contato2)\n",
        "\n",
        "agenda.listar_contatos()\n",
        "\n",
        "contato_buscado = agenda.buscar_contato(\"João Silva\")\n",
        "if contato_buscado:\n",
        "  print(\"\\nContato encontrado:\")\n",
        "  print(contato_buscado)\n",
        "\n",
        "agenda.remover_contato(\"Maria Santos\")\n",
        "\n",
        "agenda.listar_contatos()\n"
      ],
      "metadata": {
        "id": "Hfq1umIRUwA4"
      },
      "execution_count": null,
      "outputs": []
    }
  ]
}