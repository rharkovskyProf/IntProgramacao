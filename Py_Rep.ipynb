{
  "nbformat": 4,
  "nbformat_minor": 0,
  "metadata": {
    "colab": {
      "provenance": [],
      "authorship_tag": "ABX9TyP0n2vw0OVGq1uhOC9lHbvo",
      "include_colab_link": true
    },
    "kernelspec": {
      "name": "python3",
      "display_name": "Python 3"
    },
    "language_info": {
      "name": "python"
    }
  },
  "cells": [
    {
      "cell_type": "markdown",
      "metadata": {
        "id": "view-in-github",
        "colab_type": "text"
      },
      "source": [
        "<a href=\"https://colab.research.google.com/github/rharkovskyProf/IntProgramacao/blob/main/Py_Rep.ipynb\" target=\"_parent\"><img src=\"https://colab.research.google.com/assets/colab-badge.svg\" alt=\"Open In Colab\"/></a>"
      ]
    },
    {
      "cell_type": "markdown",
      "source": [
        "# ESTRUTURAS DE REPETIÇÃO"
      ],
      "metadata": {
        "id": "3VXY8fa92eMx"
      }
    },
    {
      "cell_type": "markdown",
      "source": [
        "## FOR"
      ],
      "metadata": {
        "id": "7-1ZWhNs2jK7"
      }
    },
    {
      "cell_type": "markdown",
      "source": [
        "Faça um programa que imprima a tabuada de 10 utilizando estrutura de repetição."
      ],
      "metadata": {
        "id": "UHMlHPBF5xNB"
      }
    },
    {
      "cell_type": "code",
      "source": [
        "# Taboada 10\n",
        "print(\"Taboada de 10\")\n",
        "for i in range(10):\n",
        "  print(f'10*{i}={10*i}')"
      ],
      "metadata": {
        "id": "92iovRRs5w08",
        "outputId": "f8f9ecba-6e63-4597-f580-2ec4f044be22",
        "colab": {
          "base_uri": "https://localhost:8080/"
        }
      },
      "execution_count": null,
      "outputs": [
        {
          "output_type": "stream",
          "name": "stdout",
          "text": [
            "Taboada de 10\n",
            "10*0=0\n",
            "10*1=10\n",
            "10*2=20\n",
            "10*3=30\n",
            "10*4=40\n",
            "10*5=50\n",
            "10*6=60\n",
            "10*7=70\n",
            "10*8=80\n",
            "10*9=90\n"
          ]
        }
      ]
    },
    {
      "cell_type": "markdown",
      "source": [
        "Faça um programa que imprima a tabuada de um numero “n” (dado de entrada do seu programa)  utilizando estrutura de repetição."
      ],
      "metadata": {
        "id": "TdNkxgV25yS4"
      }
    },
    {
      "cell_type": "code",
      "source": [
        "# Taboada genérica\n",
        "num = int(input(\"Entre com a base da taboada: \"))\n",
        "print(f\"Taboada de  {num}\")\n",
        "for i in range(10):\n",
        "  print(f'{num}*{i}={num*i}')"
      ],
      "metadata": {
        "id": "j8niuaVQ50ht",
        "outputId": "85cc3427-09be-427c-f213-aa9803651176",
        "colab": {
          "base_uri": "https://localhost:8080/"
        }
      },
      "execution_count": null,
      "outputs": [
        {
          "output_type": "stream",
          "name": "stdout",
          "text": [
            "Entre com a base da taboada: 7\n",
            "Taboada de  7\n",
            "7*0=0\n",
            "7*1=7\n",
            "7*2=14\n",
            "7*3=21\n",
            "7*4=28\n",
            "7*5=35\n",
            "7*6=42\n",
            "7*7=49\n",
            "7*8=56\n",
            "7*9=63\n"
          ]
        }
      ]
    },
    {
      "cell_type": "markdown",
      "source": [
        "Escrever um programa que lê 10 valores inteiros para a variável “a”, um de cada vez, e conta quantos destes valores são negativos, exibindo esta informação na tela."
      ],
      "metadata": {
        "id": "gSbRzaT451eh"
      }
    },
    {
      "cell_type": "code",
      "source": [
        "#\n",
        "contpos = 0\n",
        "contneg = 0\n",
        "for i in range(10):\n",
        "  a = int(input(\"entre com os dados: \"))\n",
        "  if a < 0:\n",
        "    contpos=contpos+1\n",
        "  else\n",
        "    contneg = contneg+1\n"
      ],
      "metadata": {
        "id": "TPqj-4Hu53rp"
      },
      "execution_count": null,
      "outputs": []
    },
    {
      "cell_type": "code",
      "source": [
        "# Calcula media 30 alunos\n",
        "for cont in range(1,3):\n",
        "    print(f'\\n***Aluno {cont} ***')\n",
        "    n1 = float(input(\"Informe a primeira nota: \"))\n",
        "    n2 = float(input(\"Informe a segunda nota: \"))\n",
        "    media = (n1 + n2) / 2\n",
        "    print(f'Media das notas {n1} e {n2} = {media}')\n",
        "else:\n",
        "    print (\"fim\")"
      ],
      "metadata": {
        "id": "gt-5gqJ02l3g",
        "outputId": "ced4ae26-820b-4a2a-a967-2bcac613d1ae",
        "colab": {
          "base_uri": "https://localhost:8080/"
        }
      },
      "execution_count": null,
      "outputs": [
        {
          "output_type": "stream",
          "name": "stdout",
          "text": [
            "\n",
            "***Aluno 1 ***\n",
            "Informe a primeira nota: 4\n",
            "Informe a segunda nota: 5\n",
            "Media das notas 4.0 e 5.0 = 4.5\n",
            "\n",
            "***Aluno 2 ***\n",
            "Informe a primeira nota: 6\n",
            "Informe a segunda nota: 7\n",
            "Media das notas 6.0 e 7.0 = 6.5\n",
            "fim\n"
          ]
        }
      ]
    }
  ]
}