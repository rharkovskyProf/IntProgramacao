{
  "nbformat": 4,
  "nbformat_minor": 0,
  "metadata": {
    "colab": {
      "provenance": [],
      "authorship_tag": "ABX9TyN+RVTe5UxzQktV7HM8MNbm",
      "include_colab_link": true
    },
    "kernelspec": {
      "name": "python3",
      "display_name": "Python 3"
    },
    "language_info": {
      "name": "python"
    }
  },
  "cells": [
    {
      "cell_type": "markdown",
      "metadata": {
        "id": "view-in-github",
        "colab_type": "text"
      },
      "source": [
        "<a href=\"https://colab.research.google.com/github/rharkovskyProf/IntProgramacao/blob/main/Py_RepWhile.ipynb\" target=\"_parent\"><img src=\"https://colab.research.google.com/assets/colab-badge.svg\" alt=\"Open In Colab\"/></a>"
      ]
    },
    {
      "cell_type": "code",
      "execution_count": null,
      "metadata": {
        "id": "Fy97IeNmPwMC"
      },
      "outputs": [],
      "source": [
        "# prompt: Faça um programa que mostre na tela os números de  0 até N, onde que N\n",
        "#é o limite inserido pelo usuário.\n",
        "\n",
        "n = int(input(\"Digite o limite: \"))\n",
        "\n",
        "for i in range(n + 1):\n",
        "  print(i)"
      ]
    },
    {
      "cell_type": "code",
      "source": [
        "# prompt: Faça um programa, utilizando a estrutura while, que permita o usuário\n",
        "#fazer contas de adição entre dois valores enquanto ele desejar.\n",
        "#(utilize uma estrutura do tipo “Quer continuar S/N ?” para manter o loop)\n",
        "# Só aceita \"S\"\n",
        "continuar = 'S'\n",
        "while continuar == 'S':\n",
        "  num1 = float(input(\"Digite o primeiro número: \"))\n",
        "  num2 = float(input(\"Digite o segundo número: \"))\n",
        "  soma = num1 + num2\n",
        "  print(\"A soma é:\", soma)\n",
        "  continuar = input(\"Quer continuar S/N? \")"
      ],
      "metadata": {
        "id": "Sh2memeXRAxk"
      },
      "execution_count": null,
      "outputs": []
    },
    {
      "cell_type": "code",
      "source": [
        "# prompt: Faça um programa, utilizando a estrutura while, que permita o usuário\n",
        "#fazer contas de adição entre dois valores enquanto ele desejar.\n",
        "#(utilize uma estrutura do tipo “Quer continuar S/N ?” para manter o loop)\n",
        "# aceita \"S\" o \"s\"\n",
        "continuar = 'S'\n",
        "while continuar.upper() == 'S':\n",
        "  num1 = float(input(\"Digite o primeiro número: \"))\n",
        "  num2 = float(input(\"Digite o segundo número: \"))\n",
        "  soma = num1 + num2\n",
        "  print(\"A soma é:\", soma)\n",
        "  continuar = input(\"Quer continuar S/N? \")"
      ],
      "metadata": {
        "id": "dNkjF46RQ23n"
      },
      "execution_count": null,
      "outputs": []
    },
    {
      "cell_type": "code",
      "source": [
        "# prompt: Faça um programa que leia um caractere e enquanto não se digitar “F”\n",
        "# o programa escreve “dentro do loop”. Ao final escrever “fim do programa”.\n",
        "\n",
        "caractere = input(\"Digite um caractere: \")\n",
        "while caractere != \"F\":\n",
        "  print(\"Dentro do loop\")\n",
        "  caractere = input(\"Digite um caractere: \")\n",
        "print(\"Fim do programa\")\n"
      ],
      "metadata": {
        "id": "8V1NvTvXRwcS"
      },
      "execution_count": null,
      "outputs": []
    },
    {
      "cell_type": "code",
      "source": [
        "# Faça o mesmo programa anterior, agora utilizando “break” par sair do loop.\n",
        "\n",
        "caractere = input(\"Digite um caractere: \")\n",
        "while True:\n",
        "  print(\"Dentro do loop\")\n",
        "  caractere = input(\"Digite um caractere: \")\n",
        "  if caractere == \"F\":\n",
        "    break\n",
        "print(\"Fim do programa\")\n"
      ],
      "metadata": {
        "id": "1tu1_7EMR8RJ"
      },
      "execution_count": null,
      "outputs": []
    },
    {
      "cell_type": "code",
      "source": [
        "# prompt: Escreva programa que calcule a soma de todos os números pares\n",
        "# entre 2 e N (inclusive).\n",
        "\n",
        "n = int(input(\"Digite um número inteiro positivo: \"))\n",
        "\n",
        "soma = 0\n",
        "for i in range(2, n + 1, 2):\n",
        "  soma += i\n",
        "\n",
        "print(\"A soma dos números pares entre 2 e\", n, \"é:\", soma)\n"
      ],
      "metadata": {
        "id": "8QMOEhe6SKHG"
      },
      "execution_count": null,
      "outputs": []
    }
  ]
}