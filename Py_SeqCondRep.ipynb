{
  "nbformat": 4,
  "nbformat_minor": 0,
  "metadata": {
    "colab": {
      "provenance": [],
      "authorship_tag": "ABX9TyP/scyBXRjRtWZZ+//v4sAX",
      "include_colab_link": true
    },
    "kernelspec": {
      "name": "python3",
      "display_name": "Python 3"
    },
    "language_info": {
      "name": "python"
    }
  },
  "cells": [
    {
      "cell_type": "markdown",
      "metadata": {
        "id": "view-in-github",
        "colab_type": "text"
      },
      "source": [
        "<a href=\"https://colab.research.google.com/github/rharkovskyProf/IntProgramacao/blob/main/Py_SeqCondRep.ipynb\" target=\"_parent\"><img src=\"https://colab.research.google.com/assets/colab-badge.svg\" alt=\"Open In Colab\"/></a>"
      ]
    },
    {
      "cell_type": "markdown",
      "source": [
        "# ESTRUTURA SEQUENCIAIS E CONDICIONAIS"
      ],
      "metadata": {
        "id": "9W3nnjuP2XdA"
      }
    },
    {
      "cell_type": "markdown",
      "source": [
        "Faça um programa em Python que solicite que o usuário informe duas notas. Em seguida, o programa deve calcular a média aritmética destas notas e exibir o resultado com 1 casa decimal\n"
      ],
      "metadata": {
        "id": "xFhvZILyvLAq"
      }
    },
    {
      "cell_type": "code",
      "source": [
        "nota1=float(input(\"entre com a 1a nota: \"))\n",
        "nota2=float(input(\"entre com a 2a nota: \"))\n",
        "media = (nota1+nota2)/2\n",
        "print(f\"a media é {media:3.2f}\")"
      ],
      "metadata": {
        "colab": {
          "base_uri": "https://localhost:8080/"
        },
        "id": "7ayjp79fvNmy",
        "outputId": "c7608d90-4cdf-4e51-c323-913113b50a1b"
      },
      "execution_count": null,
      "outputs": [
        {
          "output_type": "stream",
          "name": "stdout",
          "text": [
            "entre com a 1a nota: 6.1\n",
            "entre com a 2a nota: 6.5\n",
            "a media é 6.30\n"
          ]
        }
      ]
    },
    {
      "cell_type": "markdown",
      "source": [
        "Faça um programa em Python que calcule a temperatura em graus Celsius, dado como entrada a temperatura em graus Fahrenheit\n"
      ],
      "metadata": {
        "id": "GYDLZ6hvvy9c"
      }
    },
    {
      "cell_type": "code",
      "source": [
        "tempF=float(input(\"entre com a temperatura em Fahrenheit: \"))\n",
        "tempC = (5/9)*(tempF-32)\n",
        "print(f\"O equivalente em celsius é {tempC:3.2f}\")"
      ],
      "metadata": {
        "colab": {
          "base_uri": "https://localhost:8080/"
        },
        "id": "CQiZ9W4NvySM",
        "outputId": "073847a0-f769-4841-8a9f-8087435340c0"
      },
      "execution_count": null,
      "outputs": [
        {
          "output_type": "stream",
          "name": "stdout",
          "text": [
            "entre com a temperatura em Fahrenheit: 100\n",
            "O equivalente em celsius é 37.78\n"
          ]
        }
      ]
    },
    {
      "cell_type": "markdown",
      "source": [
        "Faça um programa que leia o valor dos catetos a e b de um triangulo retângulo e calcule sua área e a hipotenusa c\n"
      ],
      "metadata": {
        "id": "Ix49EeUWv5Af"
      }
    },
    {
      "cell_type": "code",
      "source": [
        "cateto1=float(input(\"Entre com o 1o cateto: \"))\n",
        "cateto2=float(input(\"Entre com o 2o cateto: \"))\n",
        "area=(cateto1*cateto2)/2\n",
        "hipotenusa=(cateto1**2+cateto2**2)**0.5\n",
        "print(f\"a area é {area}\")\n",
        "print(f\"a hipotenusa é {hipotenusa}\")"
      ],
      "metadata": {
        "colab": {
          "base_uri": "https://localhost:8080/"
        },
        "id": "5pYdeadOv9Wy",
        "outputId": "84e32699-3ecf-4a59-921f-e431df6fd424"
      },
      "execution_count": null,
      "outputs": [
        {
          "output_type": "stream",
          "name": "stdout",
          "text": [
            "Entre com o 1o cateto: 3\n",
            "Entre com o 2o cateto: 4\n",
            "a area é 6.0\n",
            "a hipotenusa é 5.0\n"
          ]
        }
      ]
    }
  ]
}