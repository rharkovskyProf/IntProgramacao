{
  "nbformat": 4,
  "nbformat_minor": 0,
  "metadata": {
    "colab": {
      "provenance": [],
      "authorship_tag": "ABX9TyPtdqBbQvqa4ipYy9sLSn2W",
      "include_colab_link": true
    },
    "kernelspec": {
      "name": "python3",
      "display_name": "Python 3"
    },
    "language_info": {
      "name": "python"
    }
  },
  "cells": [
    {
      "cell_type": "markdown",
      "metadata": {
        "id": "view-in-github",
        "colab_type": "text"
      },
      "source": [
        "<a href=\"https://colab.research.google.com/github/rharkovskyProf/IntProgramacao/blob/main/Py_Vectors.ipynb\" target=\"_parent\"><img src=\"https://colab.research.google.com/assets/colab-badge.svg\" alt=\"Open In Colab\"/></a>"
      ]
    },
    {
      "cell_type": "code",
      "execution_count": null,
      "metadata": {
        "id": "hzFIic8FYoz7"
      },
      "outputs": [],
      "source": []
    },
    {
      "cell_type": "markdown",
      "source": [
        "### 1. Faça um programa que lê 10 números inteiros e imprima os valores em ordem reversa"
      ],
      "metadata": {
        "id": "srPs_-YLY07M"
      }
    },
    {
      "cell_type": "code",
      "source": [
        "# inicializa vetores com 0\n",
        "numeros = [0]*10\n",
        "\n",
        "# le numero no vetor\n",
        "for i in range(10):\n",
        "  numeros[i] = int(input(f'entre com o {i} numero: '))\n",
        "\n",
        "# imprime em ordem reversa\n",
        "# iteração vai do ultimo valor posição 10-1=9 a 0, com passo de\n",
        "for i in range(len(numeros)-1, -1, -1):\n",
        "  print(numeros[i])"
      ],
      "metadata": {
        "colab": {
          "base_uri": "https://localhost:8080/"
        },
        "id": "CjT1s8pnZkI7",
        "outputId": "5596ade6-b4b9-45e8-e683-4ce9213ca547"
      },
      "execution_count": 6,
      "outputs": [
        {
          "output_type": "stream",
          "name": "stdout",
          "text": [
            "entre com o 0 numero: 1\n",
            "entre com o 1 numero: 2\n",
            "entre com o 2 numero: 3\n",
            "entre com o 3 numero: 4\n",
            "entre com o 4 numero: 5\n",
            "entre com o 5 numero: 6\n",
            "entre com o 6 numero: 7\n",
            "entre com o 7 numero: 8\n",
            "entre com o 8 numero: 9\n",
            "entre com o 9 numero: 10\n",
            "10\n",
            "9\n",
            "8\n",
            "7\n",
            "6\n",
            "5\n",
            "4\n",
            "3\n",
            "2\n",
            "1\n"
          ]
        }
      ]
    },
    {
      "cell_type": "code",
      "source": [
        "# opção 2 - carregando outro vetor com a ordem inversa\n",
        "# inicializa vetores com 0\n",
        "numeros = [0]*10\n",
        "reverso = [0]*10\n",
        "\n",
        "# le numero, calcula seu quadrado e armazena no vetor \"quadrado\"\n",
        "j = len(numeros)-1 # seta para ultima posição do vetor\n",
        "for i in range(10):\n",
        "  numeros[i] = int(input(f'entre com o {i} numero: '))\n",
        "  reverso[j]= numeros[i]\n",
        "  j = j -1\n",
        "\n",
        "# resultado\n",
        "print(f'vetor original {numeros}')\n",
        "print(f'vetor reverso {reverso}')"
      ],
      "metadata": {
        "colab": {
          "base_uri": "https://localhost:8080/"
        },
        "id": "lXpwVHfVbo08",
        "outputId": "724dc00e-2c0a-4ab2-ac94-e06d24581bc6"
      },
      "execution_count": 7,
      "outputs": [
        {
          "output_type": "stream",
          "name": "stdout",
          "text": [
            "entre com o 0 numero: 1\n",
            "entre com o 1 numero: 2\n",
            "entre com o 2 numero: 3\n",
            "entre com o 3 numero: 4\n",
            "entre com o 4 numero: 5\n",
            "entre com o 5 numero: 6\n",
            "entre com o 6 numero: 7\n",
            "entre com o 7 numero: 8\n",
            "entre com o 8 numero: 9\n",
            "entre com o 9 numero: 10\n",
            "vetor original [1, 2, 3, 4, 5, 6, 7, 8, 9, 10]\n",
            "vetor reverso [10, 9, 8, 7, 6, 5, 4, 3, 2, 1]\n"
          ]
        }
      ]
    },
    {
      "cell_type": "markdown",
      "source": [
        "###2. Faça um programa que lê 10 números inteiros e produza um vetor onde cada elemento é o quadrado do vetor original. Imprimir o resultado"
      ],
      "metadata": {
        "id": "O_wjC4B_Y0yL"
      }
    },
    {
      "cell_type": "code",
      "source": [
        "# inicializa vetores com 0\n",
        "numeros = [0]*10\n",
        "quadrado = [0]*10\n",
        "\n",
        "# le numero, calcula seu quadrado e armazena no vetor \"quadrado\"\n",
        "for i in range(10):\n",
        "  numeros[i] = int(input(f'entre com o {i} numero: '))\n",
        "  quadrado[i]= numeros[i]**2\n",
        "\n",
        "# resultado\n",
        "print(f'vetor original {numeros}')\n",
        "print(f'vetor quadrado {quadrado}')"
      ],
      "metadata": {
        "colab": {
          "base_uri": "https://localhost:8080/"
        },
        "id": "dC9C5iVRZjh5",
        "outputId": "a6bd0f7e-05ab-443b-b9ad-a08383d5c88c"
      },
      "execution_count": 4,
      "outputs": [
        {
          "output_type": "stream",
          "name": "stdout",
          "text": [
            "entre com o 0 numero: 1\n",
            "entre com o 1 numero: 2\n",
            "entre com o 2 numero: 3\n",
            "entre com o 3 numero: 4\n",
            "entre com o 4 numero: 5\n",
            "entre com o 5 numero: 6\n",
            "entre com o 6 numero: 7\n",
            "entre com o 7 numero: 8\n",
            "entre com o 8 numero: 9\n",
            "entre com o 9 numero: 10\n",
            "vetor original [1, 2, 3, 4, 5, 6, 7, 8, 9, 10]\n",
            "vetor quadrado [1, 4, 9, 16, 25, 36, 49, 64, 81, 100]\n"
          ]
        }
      ]
    },
    {
      "cell_type": "markdown",
      "source": [
        "### 3. Faça um programa que lê 10 números inteiros e os armazena em um vetor, e calcula e mostra dois vetores resultantes:\n",
        "o primeiro vetor resultante deve conter os números positivos;\n",
        "o segundo deve conter os números negativos.\n",
        "\tCada vetor resultante vai ter, no máximo, 10 posições, que podem não ser completamente utilizadas, sendo que as posições vazias devem ficar ao final do vetor."
      ],
      "metadata": {
        "id": "uBf-BNJJY0k4"
      }
    },
    {
      "cell_type": "code",
      "source": [
        "# inicializa vetores com 0\n",
        "numeros = [0]*10\n",
        "positivo = [0]*10\n",
        "negativo = [0]*10\n",
        "\n",
        "contP = 0 # indexador do vetor positivo\n",
        "contN = 0 # indexador do vetor negativo\n",
        "\n",
        "# le numero e define se é positivo ou negativo\n",
        "for i in range(10):\n",
        "  numeros[i] = int(input(f'entre com o {i} numero: '))\n",
        "  if numeros[i] > 0:\n",
        "    positivo[contP]=numeros[i]\n",
        "    contP = contP + 1  # reposiciona indexador para proxima posicao livre do vetor\n",
        "  else:\n",
        "    negativo[contN]=numeros[i]\n",
        "    contN =+ 1 # forma reduzida de \"contN = contN + 1\"\n",
        "\n",
        "# resultado\n",
        "print(f'vetor original {numeros}')\n",
        "print(f'vetor positivos {positivo}')\n",
        "print(f'vetor negativos {negativo}')"
      ],
      "metadata": {
        "colab": {
          "base_uri": "https://localhost:8080/"
        },
        "id": "XZTHAPDKZZXJ",
        "outputId": "ce23a779-c8ee-44f4-c0cf-304890b80d4d"
      },
      "execution_count": 8,
      "outputs": [
        {
          "output_type": "stream",
          "name": "stdout",
          "text": [
            "entre com o 0 numero: 12\n",
            "entre com o 1 numero: -3\n",
            "entre com o 2 numero: 2\n",
            "entre com o 3 numero: 4\n",
            "entre com o 4 numero: 5\n",
            "entre com o 5 numero: -9\n",
            "entre com o 6 numero: -8\n",
            "entre com o 7 numero: 30\n",
            "entre com o 8 numero: -4\n",
            "entre com o 9 numero: 19\n",
            "vetor original [12, -3, 2, 4, 5, -9, -8, 30, -4, 19]\n",
            "vetor positivos [12, 2, 4, 5, 30, 19, 0, 0, 0, 0]\n",
            "vetor negativos [-3, -4, 0, 0, 0, 0, 0, 0, 0, 0]\n"
          ]
        }
      ]
    },
    {
      "cell_type": "markdown",
      "source": [
        "### 4. Criar 3 vetores com 10 posições, o primeiro contendo o nome do aluno, um segundo com a cidade ('Rio de janeiro', 'Niteroi', 'Petropolis', 'Teresopolis') e  um terceiro com a idade.\n",
        "### Imprimir os alunos por cidade\n",
        "### Imprimir a media de idade por cidade"
      ],
      "metadata": {
        "id": "C7ErzmpQZL69"
      }
    },
    {
      "cell_type": "code",
      "source": [
        "alunos = ['Roberto', 'Allan', 'MariaE', 'Clara', 'Bernardo','Fabio', 'Felipe','Gabriel', 'Victor', 'Igor']\n",
        "city = ['Rio de janeiro', 'Niteroi', 'Petropolis', 'Teresopolis','Rio de janeiro', 'Niteroi', 'Petropolis', 'Teresopolis','Rio de janeiro', 'Niteroi']\n",
        "idade =[20,34,22,18,30,22,25,24,18, 20]\n",
        "\n",
        "# para cada cidade da lista ...\n",
        "for cidade in ('Rio de janeiro', 'Niteroi', 'Petropolis', 'Teresopolis'):\n",
        "# reseto contadores\n",
        "  somaIdade = 0\n",
        "  alunosCity = 0\n",
        "# imprimo o cabecalho\n",
        "  print('--------------')\n",
        "  print(f'{cidade}')\n",
        "  print('--------------')\n",
        "#imprimo o aluno e acumulo soma das idades e quantidade de alunos\n",
        "  for i in range(10):\n",
        "    if city[i]==cidade:\n",
        "      print(f'- {alunos[i]} - {idade[i]}')  # imprimenome e idade do aluno da cidade\n",
        "      somaIdade = somaIdade + idade[i]\n",
        "      alunosCity = alunosCity + 1\n",
        "\n",
        "  # imprimo a media\n",
        "  print(f'media = {somaIdade/alunosCity:.1f}')\n",
        "\n",
        "print('***** FIM *****')"
      ],
      "metadata": {
        "colab": {
          "base_uri": "https://localhost:8080/"
        },
        "id": "RMvOq3qfZP8f",
        "outputId": "633ab33a-2106-4af4-de39-c58e762ffed5"
      },
      "execution_count": 17,
      "outputs": [
        {
          "output_type": "stream",
          "name": "stdout",
          "text": [
            "--------------\n",
            "Rio de janeiro\n",
            "--------------\n",
            "- Roberto - 20\n",
            "- Bernardo - 30\n",
            "- Victor - 18\n",
            "media = 22.7\n",
            "--------------\n",
            "Niteroi\n",
            "--------------\n",
            "- Allan - 34\n",
            "- Fabio - 22\n",
            "- Igor - 20\n",
            "media = 25.3\n",
            "--------------\n",
            "Petropolis\n",
            "--------------\n",
            "- MariaE - 22\n",
            "- Felipe - 25\n",
            "media = 23.5\n",
            "--------------\n",
            "Teresopolis\n",
            "--------------\n",
            "- Clara - 18\n",
            "- Gabriel - 24\n",
            "media = 21.0\n",
            "***** FIM *****\n"
          ]
        }
      ]
    }
  ]
}