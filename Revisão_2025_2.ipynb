{
  "nbformat": 4,
  "nbformat_minor": 0,
  "metadata": {
    "colab": {
      "provenance": [],
      "authorship_tag": "ABX9TyMm3OiAyvjbfxV0QYiUmeET",
      "include_colab_link": true
    },
    "kernelspec": {
      "name": "python3",
      "display_name": "Python 3"
    },
    "language_info": {
      "name": "python"
    }
  },
  "cells": [
    {
      "cell_type": "markdown",
      "metadata": {
        "id": "view-in-github",
        "colab_type": "text"
      },
      "source": [
        "<a href=\"https://colab.research.google.com/github/rharkovskyProf/IntProgramacao/blob/main/Revis%C3%A3o_2025_2.ipynb\" target=\"_parent\"><img src=\"https://colab.research.google.com/assets/colab-badge.svg\" alt=\"Open In Colab\"/></a>"
      ]
    },
    {
      "cell_type": "markdown",
      "source": [
        "# REVISÃO"
      ],
      "metadata": {
        "id": "Kiyyn5EyOJdM"
      }
    },
    {
      "cell_type": "markdown",
      "source": [
        "\n",
        "1.\tElabore um programa que leia uma temperatura em graus Fahrenheit e faça uma função que receba esse valor informado e converta de graus Fahrenheit para graus centígrados.\n"
      ],
      "metadata": {
        "id": "TmAKEGgyODvZ"
      }
    },
    {
      "cell_type": "code",
      "execution_count": 4,
      "metadata": {
        "colab": {
          "base_uri": "https://localhost:8080/"
        },
        "id": "VJ-dpzGVN632",
        "outputId": "88c687a1-0f8c-4b46-c980-c90fa8dba5a3"
      },
      "outputs": [
        {
          "output_type": "stream",
          "name": "stdout",
          "text": [
            "Entre com a temperatura em Farenheit: 100\n",
            "A temperatura 100.0 graus Farenheit equivale a 37.8 graus Celsius\n"
          ]
        }
      ],
      "source": [
        "def tempC (tempF):\n",
        "  c = (tempF-32)*5/9\n",
        "  return(c)\n",
        "\n",
        "#MAIN\n",
        "# testando a funcao\n",
        "\n",
        "temp = float(input('Entre com a temperatura em Farenheit: '))\n",
        "print(f'A temperatura {temp} graus Farenheit equivale a {tempC(temp):.1f} graus Celsius')"
      ]
    },
    {
      "cell_type": "code",
      "source": [
        "# Incrementando o código\n",
        "def tempC (tempf):\n",
        "  c = (tempf-32)*5/9\n",
        "  return(c)\n",
        "\n",
        "def tempF (tempc):\n",
        "  f = 9*tempc/5 + 32\n",
        "  return(f)\n",
        "\n",
        "def menu():\n",
        "  print()\n",
        "  print('CONVERSOR DE TEMPERATURA')\n",
        "  print('Escolha a opção')\n",
        "  print('1. Celsius -> Farenheit ')\n",
        "  print('2. Farenheit -> Celsius ')\n",
        "  print('3. Sair')\n",
        "  op = int(input('Entre com sua opção: '))\n",
        "  return(op)\n",
        "\n",
        "#MAIN\n",
        "# testando a funcao\n",
        "\n",
        "while True:\n",
        "  opcao=menu()\n",
        "  if opcao==3:\n",
        "    break\n",
        "  elif opcao==1:\n",
        "    temp=float(input('Entre com a temperatura em Celsius: '))\n",
        "    print(f'tempratura em Farenheit = {tempF(temp)}')\n",
        "  elif opcao==2:\n",
        "    temp=float(input('Entre com a temperatura em Farenheit: '))\n",
        "    print(f'tempratura em Celsius = {tempC(temp)}')\n",
        "  else:\n",
        "    print('opcao inválida')\n",
        "\n",
        "print('FIM DO PROGRAMA')"
      ],
      "metadata": {
        "colab": {
          "base_uri": "https://localhost:8080/"
        },
        "id": "z08Od2F3QAoP",
        "outputId": "d9542917-6f89-4542-ac33-471ed3340ee8"
      },
      "execution_count": 5,
      "outputs": [
        {
          "output_type": "stream",
          "name": "stdout",
          "text": [
            "CONVERSOR DE TEMPERATURA\n",
            "Escolha a opção\n",
            "1. Celsius -> Farenheit \n",
            "2. Farenheit -> Celsius \n",
            "3. Sair\n",
            "Entre com sua opção: 1\n",
            "Entre com a temperatura em Celsius: 100\n",
            "tempratura em Farenheit = 212.0\n",
            "CONVERSOR DE TEMPERATURA\n",
            "Escolha a opção\n",
            "1. Celsius -> Farenheit \n",
            "2. Farenheit -> Celsius \n",
            "3. Sair\n",
            "Entre com sua opção: 2\n",
            "Entre com a temperatura em Farenheit: 32\n",
            "tempratura em Celsius = 0.0\n",
            "CONVERSOR DE TEMPERATURA\n",
            "Escolha a opção\n",
            "1. Celsius -> Farenheit \n",
            "2. Farenheit -> Celsius \n",
            "3. Sair\n",
            "Entre com sua opção: 3\n",
            "FIM DO PROGRAMA\n"
          ]
        }
      ]
    }
  ]
}