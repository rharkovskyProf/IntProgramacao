{
  "nbformat": 4,
  "nbformat_minor": 0,
  "metadata": {
    "colab": {
      "provenance": [],
      "authorship_tag": "ABX9TyP4TMXE55TWGnn5k+h/5BHv",
      "include_colab_link": true
    },
    "kernelspec": {
      "name": "python3",
      "display_name": "Python 3"
    },
    "language_info": {
      "name": "python"
    }
  },
  "cells": [
    {
      "cell_type": "markdown",
      "metadata": {
        "id": "view-in-github",
        "colab_type": "text"
      },
      "source": [
        "<a href=\"https://colab.research.google.com/github/rharkovskyProf/IntProgramacao/blob/main/Revis%C3%A3o_2025_2.ipynb\" target=\"_parent\"><img src=\"https://colab.research.google.com/assets/colab-badge.svg\" alt=\"Open In Colab\"/></a>"
      ]
    },
    {
      "cell_type": "markdown",
      "source": [
        "# REVISÃO"
      ],
      "metadata": {
        "id": "Kiyyn5EyOJdM"
      }
    },
    {
      "cell_type": "markdown",
      "source": [
        "\n",
        "1.\tElabore um programa que leia uma temperatura em graus Fahrenheit e faça uma função que receba esse valor informado e converta de graus Fahrenheit para graus centígrados.\n"
      ],
      "metadata": {
        "id": "TmAKEGgyODvZ"
      }
    },
    {
      "cell_type": "code",
      "execution_count": 4,
      "metadata": {
        "colab": {
          "base_uri": "https://localhost:8080/"
        },
        "id": "VJ-dpzGVN632",
        "outputId": "88c687a1-0f8c-4b46-c980-c90fa8dba5a3"
      },
      "outputs": [
        {
          "output_type": "stream",
          "name": "stdout",
          "text": [
            "Entre com a temperatura em Farenheit: 100\n",
            "A temperatura 100.0 graus Farenheit equivale a 37.8 graus Celsius\n"
          ]
        }
      ],
      "source": [
        "def tempC (tempF):\n",
        "  c = (tempF-32)*5/9\n",
        "  return(c)\n",
        "\n",
        "#MAIN\n",
        "# testando a funcao\n",
        "\n",
        "temp = float(input('Entre com a temperatura em Farenheit: '))\n",
        "print(f'A temperatura {temp} graus Farenheit equivale a {tempC(temp):.1f} graus Celsius')"
      ]
    },
    {
      "cell_type": "code",
      "source": [
        "# Incrementando o código\n",
        "def tempC (tempf):\n",
        "  c = (tempf-32)*5/9\n",
        "  return(c)\n",
        "\n",
        "def tempF (tempc):\n",
        "  f = 9*tempc/5 + 32\n",
        "  return(f)\n",
        "\n",
        "def menu():\n",
        "  print()\n",
        "  print('CONVERSOR DE TEMPERATURA')\n",
        "  print('Escolha a opção')\n",
        "  print('1. Celsius -> Farenheit ')\n",
        "  print('2. Farenheit -> Celsius ')\n",
        "  print('3. Sair')\n",
        "  op = int(input('Entre com sua opção: '))\n",
        "  return(op)\n",
        "\n",
        "#MAIN\n",
        "# testando a funcao\n",
        "\n",
        "while True:\n",
        "  opcao=menu()\n",
        "  if opcao==3:\n",
        "    break\n",
        "  elif opcao==1:\n",
        "    temp=float(input('Entre com a temperatura em Celsius: '))\n",
        "    print(f'tempratura em Farenheit = {tempF(temp)}')\n",
        "  elif opcao==2:\n",
        "    temp=float(input('Entre com a temperatura em Farenheit: '))\n",
        "    print(f'tempratura em Celsius = {tempC(temp)}')\n",
        "  else:\n",
        "    print('opcao inválida')\n",
        "\n",
        "print('FIM DO PROGRAMA')"
      ],
      "metadata": {
        "colab": {
          "base_uri": "https://localhost:8080/"
        },
        "id": "z08Od2F3QAoP",
        "outputId": "d9542917-6f89-4542-ac33-471ed3340ee8"
      },
      "execution_count": 5,
      "outputs": [
        {
          "output_type": "stream",
          "name": "stdout",
          "text": [
            "CONVERSOR DE TEMPERATURA\n",
            "Escolha a opção\n",
            "1. Celsius -> Farenheit \n",
            "2. Farenheit -> Celsius \n",
            "3. Sair\n",
            "Entre com sua opção: 1\n",
            "Entre com a temperatura em Celsius: 100\n",
            "tempratura em Farenheit = 212.0\n",
            "CONVERSOR DE TEMPERATURA\n",
            "Escolha a opção\n",
            "1. Celsius -> Farenheit \n",
            "2. Farenheit -> Celsius \n",
            "3. Sair\n",
            "Entre com sua opção: 2\n",
            "Entre com a temperatura em Farenheit: 32\n",
            "tempratura em Celsius = 0.0\n",
            "CONVERSOR DE TEMPERATURA\n",
            "Escolha a opção\n",
            "1. Celsius -> Farenheit \n",
            "2. Farenheit -> Celsius \n",
            "3. Sair\n",
            "Entre com sua opção: 3\n",
            "FIM DO PROGRAMA\n"
          ]
        }
      ]
    },
    {
      "cell_type": "code",
      "source": [
        "print(\"\\n### Gerenciador de Tarefas ###\")\n",
        "print(\"1. Adicionar tarefa\")\n",
        "print(\"2. Visualizar todas as tarefas\")\n",
        "print(\"3. Marcar tarefa como concluída\")\n",
        "print(\"4. Remover tarefa\")\n",
        "print(\"5. Visualizar tarefas pendentes\")\n",
        "print(\"6. Visualizar tarefas concluídas\")\n",
        "print(\"7. Sair\")"
      ],
      "metadata": {
        "colab": {
          "base_uri": "https://localhost:8080/"
        },
        "id": "EzykOqb2Xfbx",
        "outputId": "4df3bceb-1b17-4757-c0bb-bebb9112c169"
      },
      "execution_count": 6,
      "outputs": [
        {
          "output_type": "stream",
          "name": "stdout",
          "text": [
            "\n",
            "### Gerenciador de Tarefas ###\n",
            "1. Adicionar tarefa\n",
            "2. Visualizar todas as tarefas\n",
            "3. Marcar tarefa como concluída\n",
            "4. Remover tarefa\n",
            "5. Visualizar tarefas pendentes\n",
            "6. Visualizar tarefas concluídas\n",
            "7. Sair\n"
          ]
        }
      ]
    },
    {
      "cell_type": "markdown",
      "source": [
        "2.\tEscrever uma função chamada DOBRA que multiplique um número inteiro recebido como parâmetro por 2. Escrever um programa para ler um valor inteiro e, utilizando a função DOBRA, calcular e exibir o dobro dele."
      ],
      "metadata": {
        "id": "j8NliFk_aRK9"
      }
    },
    {
      "cell_type": "code",
      "source": [
        "def Dobra(num):\n",
        "  return(2*num)\n",
        "\n",
        "#MAIN\n",
        "n = int(input('Entre com um numero: '))\n",
        "print(f'O dobro do numero {n} é {Dobra(n)}')"
      ],
      "metadata": {
        "colab": {
          "base_uri": "https://localhost:8080/"
        },
        "id": "D_LMCWgCaWQi",
        "outputId": "90d14d7d-4b9b-4dcf-9fff-7c81c718f52e"
      },
      "execution_count": 8,
      "outputs": [
        {
          "output_type": "stream",
          "name": "stdout",
          "text": [
            "Entre com um numero: 56\n",
            "O dobro do numero 56 é 112\n"
          ]
        }
      ]
    },
    {
      "cell_type": "markdown",
      "source": [
        "3.\tFaça um programa que leia a medida de um raio e crie duas funções: uma para calcular a área do círculo e outra para calcular o perímetro da circunferência. Ao final, o programa deve exibir o resultado dos cálculos."
      ],
      "metadata": {
        "id": "X4vX0-JxatGS"
      }
    },
    {
      "cell_type": "code",
      "source": [
        "import math\n",
        "\n",
        "def areaCirc(r):\n",
        "  area=math.pi*r**2\n",
        "  return(area)\n",
        "\n",
        "def perCirc(r):\n",
        "  perimetro=2*math.pi*r\n",
        "  return(perimetro)\n",
        "\n",
        "#MAIN\n",
        "\n",
        "r = float(input('Entre com o raio do circulo: '))\n",
        "print(f'A area do circulo é {areaCirc(r):.2f} e o perimetro é {perCirc(r):.2f}')"
      ],
      "metadata": {
        "colab": {
          "base_uri": "https://localhost:8080/"
        },
        "id": "6djz5O5UaxQQ",
        "outputId": "cb7c3858-56ed-4db1-bda8-55861d839ee3"
      },
      "execution_count": 10,
      "outputs": [
        {
          "output_type": "stream",
          "name": "stdout",
          "text": [
            "Entre com o raio do circolo: 1\n",
            "A area do circulo é 3.14 e o perimetro é 6.28\n"
          ]
        }
      ]
    },
    {
      "cell_type": "markdown",
      "source": [
        "4.\tCrie uma função que converta um dado número de horas em minutos e segundos."
      ],
      "metadata": {
        "id": "qGVUPPILcbpu"
      }
    },
    {
      "cell_type": "code",
      "source": [
        "def horaSeg(hora):\n",
        "  minutos = hora*60\n",
        "  segundos = minutos*60\n",
        "  return(minutos, segundos)\n",
        "\n",
        "hora = float(input('Entre com um valor em horas: '))\n",
        "min, seg = horaSeg(hora)\n",
        "\n",
        "print(f'a Hora {hora} equivale a {min} minutos e {seg} segundos')\n"
      ],
      "metadata": {
        "colab": {
          "base_uri": "https://localhost:8080/"
        },
        "id": "S2yasGVHccjE",
        "outputId": "4beb1696-8d7c-47c7-a505-fefee291e807"
      },
      "execution_count": 19,
      "outputs": [
        {
          "output_type": "stream",
          "name": "stdout",
          "text": [
            "Entre com um valor em horas: 1.5\n",
            "a Hora 1.5 equivale a 90.0 minutos e 5400.0 segundos\n"
          ]
        }
      ]
    },
    {
      "cell_type": "markdown",
      "source": [
        "5.\tEscreva uma função que determine se uma pessoa pode votar com base na idade."
      ],
      "metadata": {
        "id": "wcCkfgQ5gUjY"
      }
    },
    {
      "cell_type": "code",
      "source": [
        "def podeVotar(idade):\n",
        "  okVotar = (idade >= 16)\n",
        "  return(okVotar)\n",
        "\n",
        "idade = int(input('Entre com a idade: '))\n",
        "if podeVotar(idade):\n",
        "  print('Pode votar')\n",
        "else:\n",
        "  print('NÃO pode votar')\n"
      ],
      "metadata": {
        "colab": {
          "base_uri": "https://localhost:8080/"
        },
        "id": "0-iNUInjgVsr",
        "outputId": "c939ef3c-b97e-4b41-9e3a-c9da8d86445e"
      },
      "execution_count": 21,
      "outputs": [
        {
          "output_type": "stream",
          "name": "stdout",
          "text": [
            "Entre com a idade: 15\n",
            "NÃO pode votar\n"
          ]
        }
      ]
    }
  ]
}