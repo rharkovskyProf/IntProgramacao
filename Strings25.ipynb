{
  "nbformat": 4,
  "nbformat_minor": 0,
  "metadata": {
    "colab": {
      "provenance": [],
      "authorship_tag": "ABX9TyPbwgB8ckJTsIwWvqNVO8LN",
      "include_colab_link": true
    },
    "kernelspec": {
      "name": "python3",
      "display_name": "Python 3"
    },
    "language_info": {
      "name": "python"
    }
  },
  "cells": [
    {
      "cell_type": "markdown",
      "metadata": {
        "id": "view-in-github",
        "colab_type": "text"
      },
      "source": [
        "<a href=\"https://colab.research.google.com/github/rharkovskyProf/IntProgramacao/blob/main/Strings25.ipynb\" target=\"_parent\"><img src=\"https://colab.research.google.com/assets/colab-badge.svg\" alt=\"Open In Colab\"/></a>"
      ]
    },
    {
      "cell_type": "markdown",
      "source": [
        "1. Faça um programa que leia um nome e imprima as 4 primeiras letras do nome."
      ],
      "metadata": {
        "id": "TOPIWfkEijbs"
      }
    },
    {
      "cell_type": "code",
      "execution_count": 1,
      "metadata": {
        "colab": {
          "base_uri": "https://localhost:8080/"
        },
        "id": "1YVyMQg4iiHw",
        "outputId": "bf944954-f3c6-46c6-a50a-998f2d3ea2b2"
      },
      "outputs": [
        {
          "output_type": "stream",
          "name": "stdout",
          "text": [
            "Entre com um nome: Roberto\n",
            "As 4 primeiras letras são: Robe\n"
          ]
        }
      ],
      "source": [
        "nome=input(\"Entre com um nome: \")\n",
        "print(f\"As 4 primeiras letras são: {nome[0:4]}\")"
      ]
    },
    {
      "cell_type": "markdown",
      "source": [
        "\n",
        "2. Escreva um programa que substitui as ocorrências de um caractere 0 em uma string por outro caractere 1. Testar com 'De 0 a 100 voce é nota 1000'"
      ],
      "metadata": {
        "id": "UmJskgh5kScM"
      }
    },
    {
      "cell_type": "code",
      "source": [
        "texto='De 0 a 100 voce é nota 1000'\n",
        "print(f\"O novo texto é {texto.replace('0','1')}\")"
      ],
      "metadata": {
        "colab": {
          "base_uri": "https://localhost:8080/"
        },
        "id": "hUb_XCeHkTk8",
        "outputId": "b3d89ca4-a0b6-4cdb-bb79-ccd8c256fa5c"
      },
      "execution_count": 4,
      "outputs": [
        {
          "output_type": "stream",
          "name": "stdout",
          "text": [
            "O novo texto é De 1 a 111 voce é nota 1111\n"
          ]
        }
      ]
    },
    {
      "cell_type": "markdown",
      "source": [
        "3. Entre com um nome e imprima o nome somente se a primeira letra do nome for “a” (maiúscula ou minúscula)."
      ],
      "metadata": {
        "id": "5ihpWZ8DlCEF"
      }
    },
    {
      "cell_type": "code",
      "source": [
        "# OPCAO1\n",
        "nome=input(\"Entre com um nome: \")\n",
        "if (nome[0]== 'a') or (nome[0]== 'A'):\n",
        "  print(nome)\n",
        "else:\n",
        "  print('NADA!!!')\n"
      ],
      "metadata": {
        "colab": {
          "base_uri": "https://localhost:8080/"
        },
        "id": "c_zbb6fPlDKz",
        "outputId": "0899ba69-fc1c-44de-bdf3-4a62912a3421"
      },
      "execution_count": 6,
      "outputs": [
        {
          "output_type": "stream",
          "name": "stdout",
          "text": [
            "Entre com um nome: Alberto\n",
            "Alberto\n"
          ]
        }
      ]
    },
    {
      "cell_type": "code",
      "source": [
        "# OPCAO2\n",
        "nome=input(\"Entre com um nome: \")\n",
        "if (nome[0].lower() == 'a'):\n",
        "  print(nome)\n",
        "else:\n",
        "  print('NADA!!!')"
      ],
      "metadata": {
        "colab": {
          "base_uri": "https://localhost:8080/"
        },
        "id": "5GdJM1qglnKq",
        "outputId": "ba7a0871-05f2-4119-dab9-6b4671ba5159"
      },
      "execution_count": 8,
      "outputs": [
        {
          "output_type": "stream",
          "name": "stdout",
          "text": [
            "Entre com um nome: Alberto\n",
            "Alberto\n"
          ]
        }
      ]
    },
    {
      "cell_type": "markdown",
      "source": [
        "4. Faça um programa que receba do usuário uma string. O programa imprime a string sem suas vogais."
      ],
      "metadata": {
        "id": "P7Dfsqq1nPpn"
      }
    },
    {
      "cell_type": "code",
      "source": [
        "nome=input(\"Entre com um nome: \")\n",
        "nome=nome.replace('a','')\n",
        "nome=nome.replace('e','')\n",
        "nome=nome.replace('i','')\n",
        "nome=nome.replace('o','')\n",
        "nome=nome.replace('u','')\n",
        "nome=nome.replace('A','')\n",
        "nome=nome.replace('E','')\n",
        "nome=nome.replace('I','')\n",
        "nome=nome.replace('O','')\n",
        "nome=nome.replace('U','')\n",
        "print(nome)"
      ],
      "metadata": {
        "colab": {
          "base_uri": "https://localhost:8080/"
        },
        "id": "82l72itDnPI0",
        "outputId": "9d3df792-8fa3-4f0a-e2ce-eaf171d502a1"
      },
      "execution_count": 14,
      "outputs": [
        {
          "output_type": "stream",
          "name": "stdout",
          "text": [
            "Entre com um nome: aLBERTO Santos\n",
            "LBRT Snts\n"
          ]
        }
      ]
    },
    {
      "cell_type": "markdown",
      "source": [
        "5. Faça um programa que receba um texto e calcule quantas vogais (‘a’, ‘e’, ‘i’, ‘o’, ‘u’) possui essa palavra."
      ],
      "metadata": {
        "id": "HNN19yelpT19"
      }
    },
    {
      "cell_type": "code",
      "source": [
        "texto=input(\"Entre com um texto: \")\n",
        "numVogais=texto.count('a')+texto.count('e')+texto.count('i')+texto.count('o')+texto.count('u')\n",
        "numVogais=numVogais+ texto.count('A')+texto.count('E')+texto.count('I')+texto.count('O')+texto.count('U')\n",
        "print(f\"O numero de vogais é {numVogais}\")"
      ],
      "metadata": {
        "colab": {
          "base_uri": "https://localhost:8080/"
        },
        "id": "XQo4SKDhpbEM",
        "outputId": "b74431b6-88b2-48f7-c508-67ac344659f9"
      },
      "execution_count": 16,
      "outputs": [
        {
          "output_type": "stream",
          "name": "stdout",
          "text": [
            "Entre com um texto: Abacaxi nao eh ananas\n",
            "O numero de vogais é 10\n"
          ]
        }
      ]
    },
    {
      "cell_type": "markdown",
      "source": [
        "6. Com o programa anterior, faça um código que substitua todas as vogais do texto dado por 'x'."
      ],
      "metadata": {
        "id": "p-AvBhi7qoPT"
      }
    },
    {
      "cell_type": "code",
      "source": [
        "nome=input(\"Entre com um nome: \")\n",
        "nome=nome.replace('a','x')\n",
        "nome=nome.replace('e','x')\n",
        "nome=nome.replace('i','x')\n",
        "nome=nome.replace('o','x')\n",
        "nome=nome.replace('u','x')\n",
        "nome=nome.replace('A','x')\n",
        "nome=nome.replace('E','x')\n",
        "nome=nome.replace('I','x')\n",
        "nome=nome.replace('O','x')\n",
        "nome=nome.replace('U','x')\n",
        "print(nome)\n"
      ],
      "metadata": {
        "colab": {
          "base_uri": "https://localhost:8080/"
        },
        "id": "7wOC2_5Qq0mL",
        "outputId": "30d26e20-ccb8-49e7-b820-28dc3a3e487d"
      },
      "execution_count": 17,
      "outputs": [
        {
          "output_type": "stream",
          "name": "stdout",
          "text": [
            "Entre com um nome: Abacaxi nao eh ananas\n",
            "xbxcxxx nxx xh xnxnxs\n"
          ]
        }
      ]
    }
  ]
}