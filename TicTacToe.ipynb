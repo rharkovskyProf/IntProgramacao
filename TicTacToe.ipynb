{
  "nbformat": 4,
  "nbformat_minor": 0,
  "metadata": {
    "colab": {
      "provenance": [],
      "include_colab_link": true
    },
    "kernelspec": {
      "name": "python3",
      "display_name": "Python 3"
    },
    "language_info": {
      "name": "python"
    }
  },
  "cells": [
    {
      "cell_type": "markdown",
      "metadata": {
        "id": "view-in-github",
        "colab_type": "text"
      },
      "source": [
        "<a href=\"https://colab.research.google.com/github/rharkovskyProf/IntProgramacao/blob/main/TicTacToe.ipynb\" target=\"_parent\"><img src=\"https://colab.research.google.com/assets/colab-badge.svg\" alt=\"Open In Colab\"/></a>"
      ]
    },
    {
      "cell_type": "markdown",
      "source": [
        "# Projeto JOGO DA VELHA"
      ],
      "metadata": {
        "id": "U1BxS8D0S0SX"
      }
    },
    {
      "cell_type": "markdown",
      "source": [
        "## Parte 1 - imprimindo o tabuleiro"
      ],
      "metadata": {
        "id": "fW4U_ES8TluY"
      }
    },
    {
      "cell_type": "code",
      "execution_count": null,
      "metadata": {
        "colab": {
          "base_uri": "https://localhost:8080/"
        },
        "id": "3MUpdGHrQFTc",
        "outputId": "fd4760f2-b9b3-4e2b-980a-761ff45e3c1e"
      },
      "outputs": [
        {
          "output_type": "stream",
          "name": "stdout",
          "text": [
            "+---+---+---+\n",
            "| X | X | X |\n",
            "+---+---+---+\n",
            "| X | X | X |\n",
            "+---+---+---+\n",
            "| X | X | X |\n",
            "+---+---+---+\n"
          ]
        }
      ],
      "source": [
        "def tabuleiro(letra):\n",
        "  tab = [ letra *3, letra *3, letra *3]\n",
        "\n",
        "  print(f'+---+---+---+')\n",
        "  for i in range(0,3):\n",
        "    print(f'| {tab[i][0]} | {tab[i][1]} | {tab[i][2]} |')\n",
        "    print(f'+---+---+---+')\n",
        "\n",
        "tabuleiro('X')\n"
      ]
    },
    {
      "cell_type": "markdown",
      "source": [
        "## Parte 2"
      ],
      "metadata": {
        "id": "wdl-W4CsgVih"
      }
    },
    {
      "cell_type": "code",
      "source": [
        "# Imprime o tabuleiro\n",
        "def tabuleiro():\n",
        "  print(f'+---+---+---+')\n",
        "  for i in range(0,3):\n",
        "    print(f'| {tab[i][0]} | {tab[i][1]} | {tab[i][2]} |')\n",
        "    print(f'+---+---+---+')\n",
        "\n",
        "# faz a jogada\n",
        "def jogada(jogador):\n",
        "\n",
        "  def escolha_valida(): # checa se a posição é valida\n",
        "    return escolha in (1,2,3,4,5,6,7,8,9)\n",
        "  \n",
        "  def jogada_valida(): # checa se a posição já está coupada\n",
        "    return tab[coord[0]][coord[1]] not in ('X','O')\n",
        "\n",
        "  jog = {1: [0,0],2:[0,1], 3:[0,2], 4: [1,0], 5: [1,1], 6: [1,2], 7: [2,0], 8: [2,1], 9:[2,2]}\n",
        "\n",
        "  caracter = ['X', 'O']\n",
        "\n",
        "  while True:\n",
        "    escolha = int(input('entre com a jogada'))\n",
        "    if escolha_valida():\n",
        "      coord = jog.get(escolha)\n",
        "      if jogada_valida():\n",
        "        tab[coord[0]][coord[1]]=caracter[jogador]\n",
        "        break\n",
        "      else:\n",
        "        print('Invalida - posição já ocupada')\n",
        "    else:\n",
        "      print('jogada invalida!!')\n",
        "\n",
        "###############################################################################\n",
        "# main\n",
        "###############################################################################\n",
        "tab = [ [1,2,3],[4,5,6],[7,8,9]]\n",
        "tabuleiro()\n",
        "for i in range(9):\n",
        "  if i%2==0:\n",
        "    jogada(0)\n",
        "  else:\n",
        "    jogada(1)\n",
        "\n",
        "  tabuleiro()"
      ],
      "metadata": {
        "id": "btUNTJXjfxqO",
        "colab": {
          "base_uri": "https://localhost:8080/"
        },
        "outputId": "023cef8a-73fb-40d3-8de9-5eb924c83a49"
      },
      "execution_count": 2,
      "outputs": [
        {
          "output_type": "stream",
          "name": "stdout",
          "text": [
            "+---+---+---+\n",
            "| 1 | 2 | 3 |\n",
            "+---+---+---+\n",
            "| 4 | 5 | 6 |\n",
            "+---+---+---+\n",
            "| 7 | 8 | 9 |\n",
            "+---+---+---+\n",
            "entre com a jogada1\n",
            "+---+---+---+\n",
            "| X | 2 | 3 |\n",
            "+---+---+---+\n",
            "| 4 | 5 | 6 |\n",
            "+---+---+---+\n",
            "| 7 | 8 | 9 |\n",
            "+---+---+---+\n",
            "entre com a jogada2\n",
            "+---+---+---+\n",
            "| X | O | 3 |\n",
            "+---+---+---+\n",
            "| 4 | 5 | 6 |\n",
            "+---+---+---+\n",
            "| 7 | 8 | 9 |\n",
            "+---+---+---+\n",
            "entre com a jogada4\n",
            "+---+---+---+\n",
            "| X | O | 3 |\n",
            "+---+---+---+\n",
            "| X | 5 | 6 |\n",
            "+---+---+---+\n",
            "| 7 | 8 | 9 |\n",
            "+---+---+---+\n",
            "entre com a jogada6\n",
            "+---+---+---+\n",
            "| X | O | 3 |\n",
            "+---+---+---+\n",
            "| X | 5 | O |\n",
            "+---+---+---+\n",
            "| 7 | 8 | 9 |\n",
            "+---+---+---+\n",
            "entre com a jogada4\n",
            "Invalida - posição já ocupada\n",
            "entre com a jogada5\n",
            "+---+---+---+\n",
            "| X | O | 3 |\n",
            "+---+---+---+\n",
            "| X | X | O |\n",
            "+---+---+---+\n",
            "| 7 | 8 | 9 |\n",
            "+---+---+---+\n",
            "entre com a jogada7\n",
            "+---+---+---+\n",
            "| X | O | 3 |\n",
            "+---+---+---+\n",
            "| X | X | O |\n",
            "+---+---+---+\n",
            "| O | 8 | 9 |\n",
            "+---+---+---+\n",
            "entre com a jogada9\n",
            "+---+---+---+\n",
            "| X | O | 3 |\n",
            "+---+---+---+\n",
            "| X | X | O |\n",
            "+---+---+---+\n",
            "| O | 8 | X |\n",
            "+---+---+---+\n",
            "entre com a jogada4\n",
            "Invalida - posição já ocupada\n",
            "entre com a jogada5\n",
            "Invalida - posição já ocupada\n",
            "entre com a jogada8\n",
            "+---+---+---+\n",
            "| X | O | 3 |\n",
            "+---+---+---+\n",
            "| X | X | O |\n",
            "+---+---+---+\n",
            "| O | O | X |\n",
            "+---+---+---+\n",
            "entre com a jogada3\n",
            "+---+---+---+\n",
            "| X | O | X |\n",
            "+---+---+---+\n",
            "| X | X | O |\n",
            "+---+---+---+\n",
            "| O | O | X |\n",
            "+---+---+---+\n"
          ]
        }
      ]
    }
  ]
}