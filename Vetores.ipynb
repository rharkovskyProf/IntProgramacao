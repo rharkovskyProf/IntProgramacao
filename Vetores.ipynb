{
  "nbformat": 4,
  "nbformat_minor": 0,
  "metadata": {
    "colab": {
      "provenance": [],
      "authorship_tag": "ABX9TyOM/7u/nkQjzLXWNrTK+MFh",
      "include_colab_link": true
    },
    "kernelspec": {
      "name": "python3",
      "display_name": "Python 3"
    },
    "language_info": {
      "name": "python"
    }
  },
  "cells": [
    {
      "cell_type": "markdown",
      "metadata": {
        "id": "view-in-github",
        "colab_type": "text"
      },
      "source": [
        "<a href=\"https://colab.research.google.com/github/rharkovskyProf/IntProgramacao/blob/main/Vetores.ipynb\" target=\"_parent\"><img src=\"https://colab.research.google.com/assets/colab-badge.svg\" alt=\"Open In Colab\"/></a>"
      ]
    },
    {
      "cell_type": "code",
      "execution_count": 2,
      "metadata": {
        "colab": {
          "base_uri": "https://localhost:8080/"
        },
        "id": "LSC3oQPkTl2k",
        "outputId": "8ad7ac85-d227-43c8-b861-9e0e05bd822e"
      },
      "outputs": [
        {
          "output_type": "stream",
          "name": "stdout",
          "text": [
            "10\n"
          ]
        }
      ],
      "source": [
        "v1 = [10,20,30,40,50,60]\n",
        "print(v1[0])"
      ]
    },
    {
      "cell_type": "code",
      "source": [
        "v1 = [10,20,30,40,50,60]\n",
        "\n",
        "for i in range(6):\n",
        "  print(f'a posição {i} do vetor é {v1[i]}')"
      ],
      "metadata": {
        "colab": {
          "base_uri": "https://localhost:8080/"
        },
        "id": "W3l-tsj1T8vr",
        "outputId": "1778c8d9-717f-486f-d72d-71d17fa5d1d9"
      },
      "execution_count": 9,
      "outputs": [
        {
          "output_type": "stream",
          "name": "stdout",
          "text": [
            "a posição 0 do vetor é 10\n",
            "a posição 1 do vetor é 20\n",
            "a posição 2 do vetor é 30\n",
            "a posição 3 do vetor é 40\n",
            "a posição 4 do vetor é 50\n",
            "a posição 5 do vetor é 60\n"
          ]
        }
      ]
    },
    {
      "cell_type": "code",
      "source": [
        "num=int(input(\"entre com um numero inteiro: \"))\n",
        "for i in range(1,11):\n",
        "  if num%i==0:\n",
        "    print(f\"divisivel por {i}\")"
      ],
      "metadata": {
        "colab": {
          "base_uri": "https://localhost:8080/"
        },
        "id": "kZSEuVOIUQcz",
        "outputId": "e9bf59ef-3c1a-4a17-a098-1e3cacdf6290"
      },
      "execution_count": 15,
      "outputs": [
        {
          "output_type": "stream",
          "name": "stdout",
          "text": [
            "entre com um numero inteiro: 81\n",
            "divisivel por 1\n",
            "divisivel por 3\n",
            "divisivel por 9\n"
          ]
        }
      ]
    },
    {
      "cell_type": "code",
      "source": [
        "v1 = [0.0]*10\n",
        "print(v1) # lista original\n",
        "for i in range(10):\n",
        "  v1[i]=float(input(\"Entre com a nota de aluno: \"))\n",
        "\n",
        "print(v1) # lista preenchida"
      ],
      "metadata": {
        "colab": {
          "base_uri": "https://localhost:8080/"
        },
        "id": "2373MQrsWFE2",
        "outputId": "7b2e9434-29eb-4497-9ec4-aab58a591502"
      },
      "execution_count": 16,
      "outputs": [
        {
          "output_type": "stream",
          "name": "stdout",
          "text": [
            "[0.0, 0.0, 0.0, 0.0, 0.0, 0.0, 0.0, 0.0, 0.0, 0.0]\n",
            "entre com a nota de aluno: 8.8\n",
            "entre com a nota de aluno: 7.6\n",
            "entre com a nota de aluno: 9.0\n",
            "entre com a nota de aluno: 10\n",
            "entre com a nota de aluno: 4.5\n",
            "entre com a nota de aluno: 6.7\n",
            "entre com a nota de aluno: 5.8\n",
            "entre com a nota de aluno: 9\n",
            "entre com a nota de aluno: 5.0\n",
            "entre com a nota de aluno: 6.6\n",
            "[8.8, 7.6, 9.0, 10.0, 4.5, 6.7, 5.8, 9.0, 5.0, 6.6]\n"
          ]
        }
      ]
    },
    {
      "cell_type": "code",
      "source": [
        "# Listar a quantidade de notas acima da media da turma\n",
        "\n",
        "#etapa 1 - calcular media\n",
        "tamanho = 10\n",
        "nota = [0.0]*tamanho\n",
        "media = 0.0\n",
        "\n",
        "for i in range(tamanho):\n",
        "  nota[i]=float(input(\"Entre com a nota de aluno: \"))\n",
        "  media = media + nota[i]\n",
        "\n",
        "# já li todas , vou calcular a media\n",
        "media = float (media / tamanho)\n",
        "print(f'A media das {tamanho} notas é {media:.2f}')\n",
        "\n",
        "#etapa 2 - verificar as notas que estão acima da media calculada\n",
        "qtde = 0 # quantidade de notas acoma da media\n",
        "for i in range(tamanho):\n",
        "  if nota[i] > media:\n",
        "    print(f'a nota {nota[i]} está acima da media {media:.2f}')\n",
        "    qtde = qtde + 1\n",
        "\n",
        "print(f'Existem {qtde} notas acima da media {media:.2f}')"
      ],
      "metadata": {
        "colab": {
          "base_uri": "https://localhost:8080/"
        },
        "id": "qoMGys9QYDnE",
        "outputId": "f3e7ca3b-1b9f-4cea-93e2-214bff618da3"
      },
      "execution_count": 22,
      "outputs": [
        {
          "output_type": "stream",
          "name": "stdout",
          "text": [
            "Entre com a nota de aluno: 6.5\n",
            "Entre com a nota de aluno: 5.3\n",
            "Entre com a nota de aluno: 8.8\n",
            "Entre com a nota de aluno: 8.6\n",
            "Entre com a nota de aluno: 9.0\n",
            "Entre com a nota de aluno: 7\n",
            "Entre com a nota de aluno: 10\n",
            "Entre com a nota de aluno: 5.4\n",
            "Entre com a nota de aluno: 6\n",
            "Entre com a nota de aluno: 3\n",
            "A media das 10 notas é 6.96\n",
            "Existem 5 notas acima da media 6.959999999999999\n"
          ]
        }
      ]
    },
    {
      "cell_type": "code",
      "source": [
        "# Criar um vetor novo com as notas acima da media da turma\n",
        "\n",
        "#etapa 1 - calcular media\n",
        "tamanho = 10\n",
        "nota = [0.0]*tamanho\n",
        "notaAcima = [0.0]*tamanho\n",
        "media = 0.0\n",
        "\n",
        "for i in range(tamanho):\n",
        "  nota[i]=float(input(\"Entre com a nota de aluno: \"))\n",
        "  media = media + nota[i]\n",
        "\n",
        "# já li todas , vou calcular a media\n",
        "media = float (media / tamanho)\n",
        "print(f'\\nA media das {tamanho} notas é {media:.2f}')\n",
        "\n",
        "#etapa 2 - verificar as notas que estão acima da media calculada\n",
        "qtde = 0 # quantidade de notas acoma da media\n",
        "for i in range(tamanho):\n",
        "  if nota[i] > media:\n",
        "    notaAcima[i] = nota[i]\n",
        "    qtde = qtde + 1\n",
        "\n",
        "print(f'\\nNotas lidas: {nota}')\n",
        "print(f'\\nNotas acima da media {media:.2f}: {notaAcima}')"
      ],
      "metadata": {
        "colab": {
          "base_uri": "https://localhost:8080/"
        },
        "id": "oHtLzqbPdbH8",
        "outputId": "4da71004-1997-4551-d9de-4629d87ffb81"
      },
      "execution_count": 24,
      "outputs": [
        {
          "output_type": "stream",
          "name": "stdout",
          "text": [
            "Entre com a nota de aluno: 5.5\n",
            "Entre com a nota de aluno: 6.7\n",
            "Entre com a nota de aluno: 5.7\n",
            "Entre com a nota de aluno: 8\n",
            "Entre com a nota de aluno: 9.9\n",
            "Entre com a nota de aluno: 10\n",
            "Entre com a nota de aluno: 6.9\n",
            "Entre com a nota de aluno: 8.8\n",
            "Entre com a nota de aluno: 9\n",
            "Entre com a nota de aluno: 9.6\n",
            "\n",
            "A media das 10 notas é 8.01\n",
            "\n",
            "Notas lidas: [5.5, 6.7, 5.7, 8.0, 9.9, 10.0, 6.9, 8.8, 9.0, 9.6]\n",
            "\n",
            "Notas acima da media 8.01: [0.0, 0.0, 0.0, 0.0, 9.9, 10.0, 0.0, 8.8, 9.0, 9.6]\n"
          ]
        }
      ]
    },
    {
      "cell_type": "code",
      "source": [
        "vereador = ['Roberto', 'Lais', 'Ze do gas', 'Flavio do pneu', 'Ralph do Python']\n",
        "codigos = [222,333,777,555, 444]\n",
        "\n"
      ],
      "metadata": {
        "id": "x2lAQZX3iDOj"
      },
      "execution_count": null,
      "outputs": []
    }
  ]
}